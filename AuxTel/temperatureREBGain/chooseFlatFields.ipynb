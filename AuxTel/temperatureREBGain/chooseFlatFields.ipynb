{
 "cells": [
  {
   "cell_type": "markdown",
   "metadata": {
    "tags": []
   },
   "source": [
    "# Find Flat Pairs\n",
    "\n",
    "In this notebook I try to query all flat pairs that have low flux."
   ]
  },
  {
   "cell_type": "code",
   "execution_count": 4,
   "metadata": {},
   "outputs": [
    {
     "name": "stdout",
     "output_type": "stream",
     "text": [
      "Running this code on 26May22\n"
     ]
    }
   ],
   "source": [
    "date = '26May22'\n",
    "print(f'Running this code on {date}')"
   ]
  },
  {
   "cell_type": "code",
   "execution_count": 5,
   "metadata": {},
   "outputs": [],
   "source": [
    "import sys, os, glob, time\n",
    "import numpy as np\n",
    "import pandas as pd\n",
    "import astropy.io.fits as pf\n",
    "import matplotlib.pyplot as plt\n",
    "import lsst.daf.butler as dafButler"
   ]
  },
  {
   "cell_type": "code",
   "execution_count": 6,
   "metadata": {},
   "outputs": [],
   "source": [
    "import matplotlib.pyplot as plt\n",
    "import seaborn as sns\n",
    "\n",
    "sns.set_context('talk')\n",
    "sns.set_style('whitegrid')"
   ]
  },
  {
   "cell_type": "code",
   "execution_count": 4,
   "metadata": {},
   "outputs": [],
   "source": []
  },
  {
   "cell_type": "code",
   "execution_count": null,
   "metadata": {},
   "outputs": [],
   "source": []
  },
  {
   "cell_type": "markdown",
   "metadata": {
    "tags": []
   },
   "source": [
    "## Searching on Butler\n",
    "\n",
    "We retrieve all flat fields on the exposure history since 2021. The flat pairs are defined as consenquently exposures with same exposure. "
   ]
  },
  {
   "cell_type": "code",
   "execution_count": 290,
   "metadata": {},
   "outputs": [],
   "source": [
    "import lsst.daf.butler as dafButler\n",
    "butler = dafButler.Butler(\"/repo/main\", collections=[\"LATISS/raw/all\",\"LATISS/calib\"])\n",
    "registry = butler.registry"
   ]
  },
  {
   "cell_type": "code",
   "execution_count": 291,
   "metadata": {},
   "outputs": [],
   "source": [
    "# find all days with some exposure\n",
    "refs = sorted(registry.queryDatasets('raw', collections=[\"LATISS/raw/all\",\"LATISS/calib\"], instrument='LATISS'))\n",
    "exposure_all = [int(refs[i].dataId['exposure']) for i in range(len(refs))]\n",
    "days_all = [int(str(exposure)[:8]) for exposure in exposure_all]\n",
    "days_all = np.unique(days_all)"
   ]
  },
  {
   "cell_type": "code",
   "execution_count": 292,
   "metadata": {},
   "outputs": [],
   "source": [
    "# taking exposures since 2020\n",
    "days = days_all[(days_all>20220000)&(days_all<20230000)]\n",
    "days = np.flip(days,0)"
   ]
  },
  {
   "cell_type": "code",
   "execution_count": 293,
   "metadata": {},
   "outputs": [
    {
     "data": {
      "text/plain": [
       "array([20220511, 20220505, 20220504, 20220503, 20220502, 20220429,\n",
       "       20220428, 20220427, 20220426, 20220425, 20220422, 20220421,\n",
       "       20220414, 20220407, 20220406, 20220405, 20220404, 20220329,\n",
       "       20220325, 20220324, 20220318, 20220317, 20220316, 20220315,\n",
       "       20220314, 20220311, 20220308, 20220304, 20220224, 20220223,\n",
       "       20220217, 20220216, 20220215, 20220211, 20220209, 20220208,\n",
       "       20220207, 20220204, 20220203])"
      ]
     },
     "execution_count": 293,
     "metadata": {},
     "output_type": "execute_result"
    }
   ],
   "source": [
    "days"
   ]
  },
  {
   "cell_type": "code",
   "execution_count": 296,
   "metadata": {},
   "outputs": [],
   "source": [
    "# find all the flats\n",
    "flat_ids = []\n",
    "info_list = []\n",
    "for dayObs in days:\n",
    "    exposureList = []\n",
    "    for record in butler.registry.queryDimensionRecords(\"exposure\", where=\"exposure.day_obs=%d\"%dayObs):\n",
    "        exposureList.append([record.id, record])\n",
    "    exposureList.sort(key=lambda x: x[0])\n",
    "    for [id,record] in exposureList:\n",
    "        info_dict = dict()\n",
    "        if record.observation_type=='flat':\n",
    "            info_dict['day'] = int(record.day_obs)\n",
    "            info_dict['seq_num'] = int(record.seq_num)\n",
    "            info_dict['exposure_id'] = int(record.id)\n",
    "            info_dict['exposure_time'] = float(record.exposure_time)\n",
    "            info_dict['time'] = record.timespan.begin.isot\n",
    "            flat_ids.append(int(record.id))\n",
    "            info_list.append(info_dict)"
   ]
  },
  {
   "cell_type": "code",
   "execution_count": 297,
   "metadata": {},
   "outputs": [
    {
     "data": {
      "text/html": [
       "<div>\n",
       "<style scoped>\n",
       "    .dataframe tbody tr th:only-of-type {\n",
       "        vertical-align: middle;\n",
       "    }\n",
       "\n",
       "    .dataframe tbody tr th {\n",
       "        vertical-align: top;\n",
       "    }\n",
       "\n",
       "    .dataframe thead th {\n",
       "        text-align: right;\n",
       "    }\n",
       "</style>\n",
       "<table border=\"1\" class=\"dataframe\">\n",
       "  <thead>\n",
       "    <tr style=\"text-align: right;\">\n",
       "      <th></th>\n",
       "      <th>day</th>\n",
       "      <th>seq_num</th>\n",
       "      <th>exposure_id</th>\n",
       "      <th>exposure_time</th>\n",
       "      <th>time</th>\n",
       "    </tr>\n",
       "  </thead>\n",
       "  <tbody>\n",
       "    <tr>\n",
       "      <th>2022050500003</th>\n",
       "      <td>20220505</td>\n",
       "      <td>3</td>\n",
       "      <td>2022050500003</td>\n",
       "      <td>3.0</td>\n",
       "      <td>2022-05-05T19:09:58.392999</td>\n",
       "    </tr>\n",
       "    <tr>\n",
       "      <th>2022050500120</th>\n",
       "      <td>20220505</td>\n",
       "      <td>120</td>\n",
       "      <td>2022050500120</td>\n",
       "      <td>1.5</td>\n",
       "      <td>2022-05-05T20:08:36.819982</td>\n",
       "    </tr>\n",
       "    <tr>\n",
       "      <th>2022050500121</th>\n",
       "      <td>20220505</td>\n",
       "      <td>121</td>\n",
       "      <td>2022050500121</td>\n",
       "      <td>1.5</td>\n",
       "      <td>2022-05-05T20:08:40.885983</td>\n",
       "    </tr>\n",
       "    <tr>\n",
       "      <th>2022050500122</th>\n",
       "      <td>20220505</td>\n",
       "      <td>122</td>\n",
       "      <td>2022050500122</td>\n",
       "      <td>3.0</td>\n",
       "      <td>2022-05-05T20:08:44.944983</td>\n",
       "    </tr>\n",
       "    <tr>\n",
       "      <th>2022050500123</th>\n",
       "      <td>20220505</td>\n",
       "      <td>123</td>\n",
       "      <td>2022050500123</td>\n",
       "      <td>3.0</td>\n",
       "      <td>2022-05-05T20:08:50.501984</td>\n",
       "    </tr>\n",
       "    <tr>\n",
       "      <th>...</th>\n",
       "      <td>...</td>\n",
       "      <td>...</td>\n",
       "      <td>...</td>\n",
       "      <td>...</td>\n",
       "      <td>...</td>\n",
       "    </tr>\n",
       "    <tr>\n",
       "      <th>2022020700024</th>\n",
       "      <td>20220207</td>\n",
       "      <td>24</td>\n",
       "      <td>2022020700024</td>\n",
       "      <td>1.0</td>\n",
       "      <td>2022-02-07T17:47:29.104158</td>\n",
       "    </tr>\n",
       "    <tr>\n",
       "      <th>2022020700025</th>\n",
       "      <td>20220207</td>\n",
       "      <td>25</td>\n",
       "      <td>2022020700025</td>\n",
       "      <td>1.0</td>\n",
       "      <td>2022-02-07T17:47:32.731887</td>\n",
       "    </tr>\n",
       "    <tr>\n",
       "      <th>2022020700026</th>\n",
       "      <td>20220207</td>\n",
       "      <td>26</td>\n",
       "      <td>2022020700026</td>\n",
       "      <td>15.0</td>\n",
       "      <td>2022-02-07T17:47:43.260262</td>\n",
       "    </tr>\n",
       "    <tr>\n",
       "      <th>2022020700027</th>\n",
       "      <td>20220207</td>\n",
       "      <td>27</td>\n",
       "      <td>2022020700027</td>\n",
       "      <td>15.0</td>\n",
       "      <td>2022-02-07T17:48:55.991298</td>\n",
       "    </tr>\n",
       "    <tr>\n",
       "      <th>2022020700028</th>\n",
       "      <td>20220207</td>\n",
       "      <td>28</td>\n",
       "      <td>2022020700028</td>\n",
       "      <td>15.0</td>\n",
       "      <td>2022-02-07T17:51:10.369996</td>\n",
       "    </tr>\n",
       "  </tbody>\n",
       "</table>\n",
       "<p>1135 rows × 5 columns</p>\n",
       "</div>"
      ],
      "text/plain": [
       "                    day  seq_num    exposure_id  exposure_time  \\\n",
       "2022050500003  20220505        3  2022050500003            3.0   \n",
       "2022050500120  20220505      120  2022050500120            1.5   \n",
       "2022050500121  20220505      121  2022050500121            1.5   \n",
       "2022050500122  20220505      122  2022050500122            3.0   \n",
       "2022050500123  20220505      123  2022050500123            3.0   \n",
       "...                 ...      ...            ...            ...   \n",
       "2022020700024  20220207       24  2022020700024            1.0   \n",
       "2022020700025  20220207       25  2022020700025            1.0   \n",
       "2022020700026  20220207       26  2022020700026           15.0   \n",
       "2022020700027  20220207       27  2022020700027           15.0   \n",
       "2022020700028  20220207       28  2022020700028           15.0   \n",
       "\n",
       "                                     time  \n",
       "2022050500003  2022-05-05T19:09:58.392999  \n",
       "2022050500120  2022-05-05T20:08:36.819982  \n",
       "2022050500121  2022-05-05T20:08:40.885983  \n",
       "2022050500122  2022-05-05T20:08:44.944983  \n",
       "2022050500123  2022-05-05T20:08:50.501984  \n",
       "...                                   ...  \n",
       "2022020700024  2022-02-07T17:47:29.104158  \n",
       "2022020700025  2022-02-07T17:47:32.731887  \n",
       "2022020700026  2022-02-07T17:47:43.260262  \n",
       "2022020700027  2022-02-07T17:48:55.991298  \n",
       "2022020700028  2022-02-07T17:51:10.369996  \n",
       "\n",
       "[1135 rows x 5 columns]"
      ]
     },
     "execution_count": 297,
     "metadata": {},
     "output_type": "execute_result"
    }
   ],
   "source": [
    "import pandas as pd\n",
    "df = pd.DataFrame(info_list, index=np.array(flat_ids))\n",
    "df"
   ]
  },
  {
   "cell_type": "code",
   "execution_count": 298,
   "metadata": {},
   "outputs": [
    {
     "data": {
      "image/png": "[encoded data removed]",
      "text/plain": [
       "<Figure size 432x288 with 1 Axes>"
      ]
     },
     "metadata": {},
     "output_type": "display_data"
    }
   ],
   "source": [
    "df.exposure_time.hist(bins=31)\n",
    "plt.yscale('log')"
   ]
  },
  {
   "cell_type": "code",
   "execution_count": 311,
   "metadata": {},
   "outputs": [],
   "source": [
    "df_all = df.to_numpy().T\n",
    "exposures = df_all[2]\n",
    "days = df_all[0]\n",
    "seq_num = df_all[1]\n",
    "exp_time = df_all[3]\n",
    "times = df_all[4]"
   ]
  },
  {
   "cell_type": "code",
   "execution_count": 351,
   "metadata": {},
   "outputs": [],
   "source": [
    "# flat pairs\n",
    "# are consecutives exposures on the same day\n",
    "# with exposure time lower than 20 sec\n",
    "exp_time_th = exp_time[1:]<20.\n",
    "consec_exposures = ((seq_num[1:]-seq_num[:-1])==1)&(days[1:]==days[:-1])\n",
    "pairs = (exp_time[1:] == exp_time[:-1])&(consec_exposures)&exp_time_th\n",
    "pairs_idx = np.where(pairs)[0]\n",
    "\n",
    "# for tests purposes\n",
    "# pairs_idx = pairs_idx[:20]\n",
    "good_indices = np.unique(np.hstack([pairs_idx,pairs_idx+1]))\n",
    "good_indices = good_indices[np.argsort(-1*exposures[good_indices])]\n"
   ]
  },
  {
   "cell_type": "code",
   "execution_count": 301,
   "metadata": {},
   "outputs": [
    {
     "data": {
      "text/html": [
       "<div>\n",
       "<style scoped>\n",
       "    .dataframe tbody tr th:only-of-type {\n",
       "        vertical-align: middle;\n",
       "    }\n",
       "\n",
       "    .dataframe tbody tr th {\n",
       "        vertical-align: top;\n",
       "    }\n",
       "\n",
       "    .dataframe thead th {\n",
       "        text-align: right;\n",
       "    }\n",
       "</style>\n",
       "<table border=\"1\" class=\"dataframe\">\n",
       "  <thead>\n",
       "    <tr style=\"text-align: right;\">\n",
       "      <th></th>\n",
       "      <th>day</th>\n",
       "      <th>seq_num</th>\n",
       "      <th>exposure_id</th>\n",
       "      <th>exposure_time</th>\n",
       "      <th>time</th>\n",
       "    </tr>\n",
       "  </thead>\n",
       "  <tbody>\n",
       "    <tr>\n",
       "      <th>2022050500120</th>\n",
       "      <td>20220505</td>\n",
       "      <td>120</td>\n",
       "      <td>2022050500120</td>\n",
       "      <td>1.5</td>\n",
       "      <td>2022-05-05T20:08:36.819982</td>\n",
       "    </tr>\n",
       "    <tr>\n",
       "      <th>2022050500122</th>\n",
       "      <td>20220505</td>\n",
       "      <td>122</td>\n",
       "      <td>2022050500122</td>\n",
       "      <td>3.0</td>\n",
       "      <td>2022-05-05T20:08:44.944983</td>\n",
       "    </tr>\n",
       "    <tr>\n",
       "      <th>2022050500134</th>\n",
       "      <td>20220505</td>\n",
       "      <td>134</td>\n",
       "      <td>2022050500134</td>\n",
       "      <td>0.5</td>\n",
       "      <td>2022-05-05T20:22:17.125008</td>\n",
       "    </tr>\n",
       "    <tr>\n",
       "      <th>2022050500136</th>\n",
       "      <td>20220505</td>\n",
       "      <td>136</td>\n",
       "      <td>2022050500136</td>\n",
       "      <td>1.0</td>\n",
       "      <td>2022-05-05T20:22:23.233001</td>\n",
       "    </tr>\n",
       "    <tr>\n",
       "      <th>2022050500138</th>\n",
       "      <td>20220505</td>\n",
       "      <td>138</td>\n",
       "      <td>2022050500138</td>\n",
       "      <td>2.0</td>\n",
       "      <td>2022-05-05T20:22:30.587980</td>\n",
       "    </tr>\n",
       "    <tr>\n",
       "      <th>...</th>\n",
       "      <td>...</td>\n",
       "      <td>...</td>\n",
       "      <td>...</td>\n",
       "      <td>...</td>\n",
       "      <td>...</td>\n",
       "    </tr>\n",
       "    <tr>\n",
       "      <th>2022020700022</th>\n",
       "      <td>20220207</td>\n",
       "      <td>22</td>\n",
       "      <td>2022020700022</td>\n",
       "      <td>1.0</td>\n",
       "      <td>2022-02-07T17:47:21.853824</td>\n",
       "    </tr>\n",
       "    <tr>\n",
       "      <th>2022020700023</th>\n",
       "      <td>20220207</td>\n",
       "      <td>23</td>\n",
       "      <td>2022020700023</td>\n",
       "      <td>1.0</td>\n",
       "      <td>2022-02-07T17:47:25.470943</td>\n",
       "    </tr>\n",
       "    <tr>\n",
       "      <th>2022020700024</th>\n",
       "      <td>20220207</td>\n",
       "      <td>24</td>\n",
       "      <td>2022020700024</td>\n",
       "      <td>1.0</td>\n",
       "      <td>2022-02-07T17:47:29.104158</td>\n",
       "    </tr>\n",
       "    <tr>\n",
       "      <th>2022020700026</th>\n",
       "      <td>20220207</td>\n",
       "      <td>26</td>\n",
       "      <td>2022020700026</td>\n",
       "      <td>15.0</td>\n",
       "      <td>2022-02-07T17:47:43.260262</td>\n",
       "    </tr>\n",
       "    <tr>\n",
       "      <th>2022020700027</th>\n",
       "      <td>20220207</td>\n",
       "      <td>27</td>\n",
       "      <td>2022020700027</td>\n",
       "      <td>15.0</td>\n",
       "      <td>2022-02-07T17:48:55.991298</td>\n",
       "    </tr>\n",
       "  </tbody>\n",
       "</table>\n",
       "<p>769 rows × 5 columns</p>\n",
       "</div>"
      ],
      "text/plain": [
       "                    day  seq_num    exposure_id  exposure_time  \\\n",
       "2022050500120  20220505      120  2022050500120            1.5   \n",
       "2022050500122  20220505      122  2022050500122            3.0   \n",
       "2022050500134  20220505      134  2022050500134            0.5   \n",
       "2022050500136  20220505      136  2022050500136            1.0   \n",
       "2022050500138  20220505      138  2022050500138            2.0   \n",
       "...                 ...      ...            ...            ...   \n",
       "2022020700022  20220207       22  2022020700022            1.0   \n",
       "2022020700023  20220207       23  2022020700023            1.0   \n",
       "2022020700024  20220207       24  2022020700024            1.0   \n",
       "2022020700026  20220207       26  2022020700026           15.0   \n",
       "2022020700027  20220207       27  2022020700027           15.0   \n",
       "\n",
       "                                     time  \n",
       "2022050500120  2022-05-05T20:08:36.819982  \n",
       "2022050500122  2022-05-05T20:08:44.944983  \n",
       "2022050500134  2022-05-05T20:22:17.125008  \n",
       "2022050500136  2022-05-05T20:22:23.233001  \n",
       "2022050500138  2022-05-05T20:22:30.587980  \n",
       "...                                   ...  \n",
       "2022020700022  2022-02-07T17:47:21.853824  \n",
       "2022020700023  2022-02-07T17:47:25.470943  \n",
       "2022020700024  2022-02-07T17:47:29.104158  \n",
       "2022020700026  2022-02-07T17:47:43.260262  \n",
       "2022020700027  2022-02-07T17:48:55.991298  \n",
       "\n",
       "[769 rows x 5 columns]"
      ]
     },
     "execution_count": 301,
     "metadata": {},
     "output_type": "execute_result"
    }
   ],
   "source": [
    "df.iloc[pairs_idx]"
   ]
  },
  {
   "cell_type": "code",
   "execution_count": 310,
   "metadata": {},
   "outputs": [],
   "source": [
    "# pd.to_timestamp(df.time)"
   ]
  },
  {
   "cell_type": "code",
   "execution_count": 328,
   "metadata": {},
   "outputs": [],
   "source": [
    "good_indices = np.unique(np.hstack([pairs_idx,pairs_idx+1]))\n",
    "good_indices = good_indices[np.argsort(-1*exposures[good_indices])]"
   ]
  },
  {
   "cell_type": "code",
   "execution_count": 329,
   "metadata": {},
   "outputs": [
    {
     "data": {
      "text/html": [
       "<div>\n",
       "<style scoped>\n",
       "    .dataframe tbody tr th:only-of-type {\n",
       "        vertical-align: middle;\n",
       "    }\n",
       "\n",
       "    .dataframe tbody tr th {\n",
       "        vertical-align: top;\n",
       "    }\n",
       "\n",
       "    .dataframe thead th {\n",
       "        text-align: right;\n",
       "    }\n",
       "</style>\n",
       "<table border=\"1\" class=\"dataframe\">\n",
       "  <thead>\n",
       "    <tr style=\"text-align: right;\">\n",
       "      <th></th>\n",
       "      <th>day</th>\n",
       "      <th>seq_num</th>\n",
       "      <th>exposure_id</th>\n",
       "      <th>exposure_time</th>\n",
       "      <th>time</th>\n",
       "      <th>temp1</th>\n",
       "    </tr>\n",
       "  </thead>\n",
       "  <tbody>\n",
       "    <tr>\n",
       "      <th>2022050500290</th>\n",
       "      <td>20220505</td>\n",
       "      <td>290</td>\n",
       "      <td>2022050500290</td>\n",
       "      <td>6.000</td>\n",
       "      <td>2022-05-05T21:10:30.745000</td>\n",
       "      <td>-99.0</td>\n",
       "    </tr>\n",
       "    <tr>\n",
       "      <th>2022050500289</th>\n",
       "      <td>20220505</td>\n",
       "      <td>289</td>\n",
       "      <td>2022050500289</td>\n",
       "      <td>6.000</td>\n",
       "      <td>2022-05-05T21:10:22.010989</td>\n",
       "      <td>-99.0</td>\n",
       "    </tr>\n",
       "    <tr>\n",
       "      <th>2022050500288</th>\n",
       "      <td>20220505</td>\n",
       "      <td>288</td>\n",
       "      <td>2022050500288</td>\n",
       "      <td>5.700</td>\n",
       "      <td>2022-05-05T21:10:13.430992</td>\n",
       "      <td>-99.0</td>\n",
       "    </tr>\n",
       "    <tr>\n",
       "      <th>2022050500287</th>\n",
       "      <td>20220505</td>\n",
       "      <td>287</td>\n",
       "      <td>2022050500287</td>\n",
       "      <td>5.700</td>\n",
       "      <td>2022-05-05T21:10:04.884991</td>\n",
       "      <td>-99.0</td>\n",
       "    </tr>\n",
       "    <tr>\n",
       "      <th>2022050500286</th>\n",
       "      <td>20220505</td>\n",
       "      <td>286</td>\n",
       "      <td>2022050500286</td>\n",
       "      <td>5.399</td>\n",
       "      <td>2022-05-05T21:09:56.639009</td>\n",
       "      <td>-99.0</td>\n",
       "    </tr>\n",
       "    <tr>\n",
       "      <th>...</th>\n",
       "      <td>...</td>\n",
       "      <td>...</td>\n",
       "      <td>...</td>\n",
       "      <td>...</td>\n",
       "      <td>...</td>\n",
       "      <td>...</td>\n",
       "    </tr>\n",
       "    <tr>\n",
       "      <th>2022020700015</th>\n",
       "      <td>20220207</td>\n",
       "      <td>15</td>\n",
       "      <td>2022020700015</td>\n",
       "      <td>1.000</td>\n",
       "      <td>2022-02-07T17:46:56.457702</td>\n",
       "      <td>-99.0</td>\n",
       "    </tr>\n",
       "    <tr>\n",
       "      <th>2022020700014</th>\n",
       "      <td>20220207</td>\n",
       "      <td>14</td>\n",
       "      <td>2022020700014</td>\n",
       "      <td>1.000</td>\n",
       "      <td>2022-02-07T17:46:52.836514</td>\n",
       "      <td>-99.0</td>\n",
       "    </tr>\n",
       "    <tr>\n",
       "      <th>2022020700013</th>\n",
       "      <td>20220207</td>\n",
       "      <td>13</td>\n",
       "      <td>2022020700013</td>\n",
       "      <td>1.000</td>\n",
       "      <td>2022-02-07T17:46:49.218730</td>\n",
       "      <td>-99.0</td>\n",
       "    </tr>\n",
       "    <tr>\n",
       "      <th>2022020700012</th>\n",
       "      <td>20220207</td>\n",
       "      <td>12</td>\n",
       "      <td>2022020700012</td>\n",
       "      <td>1.000</td>\n",
       "      <td>2022-02-07T17:46:45.598310</td>\n",
       "      <td>-99.0</td>\n",
       "    </tr>\n",
       "    <tr>\n",
       "      <th>2022020700011</th>\n",
       "      <td>20220207</td>\n",
       "      <td>11</td>\n",
       "      <td>2022020700011</td>\n",
       "      <td>1.000</td>\n",
       "      <td>2022-02-07T17:46:41.959834</td>\n",
       "      <td>-99.0</td>\n",
       "    </tr>\n",
       "  </tbody>\n",
       "</table>\n",
       "<p>1029 rows × 6 columns</p>\n",
       "</div>"
      ],
      "text/plain": [
       "                    day  seq_num    exposure_id  exposure_time  \\\n",
       "2022050500290  20220505      290  2022050500290          6.000   \n",
       "2022050500289  20220505      289  2022050500289          6.000   \n",
       "2022050500288  20220505      288  2022050500288          5.700   \n",
       "2022050500287  20220505      287  2022050500287          5.700   \n",
       "2022050500286  20220505      286  2022050500286          5.399   \n",
       "...                 ...      ...            ...            ...   \n",
       "2022020700015  20220207       15  2022020700015          1.000   \n",
       "2022020700014  20220207       14  2022020700014          1.000   \n",
       "2022020700013  20220207       13  2022020700013          1.000   \n",
       "2022020700012  20220207       12  2022020700012          1.000   \n",
       "2022020700011  20220207       11  2022020700011          1.000   \n",
       "\n",
       "                                     time  temp1  \n",
       "2022050500290  2022-05-05T21:10:30.745000  -99.0  \n",
       "2022050500289  2022-05-05T21:10:22.010989  -99.0  \n",
       "2022050500288  2022-05-05T21:10:13.430992  -99.0  \n",
       "2022050500287  2022-05-05T21:10:04.884991  -99.0  \n",
       "2022050500286  2022-05-05T21:09:56.639009  -99.0  \n",
       "...                                   ...    ...  \n",
       "2022020700015  2022-02-07T17:46:56.457702  -99.0  \n",
       "2022020700014  2022-02-07T17:46:52.836514  -99.0  \n",
       "2022020700013  2022-02-07T17:46:49.218730  -99.0  \n",
       "2022020700012  2022-02-07T17:46:45.598310  -99.0  \n",
       "2022020700011  2022-02-07T17:46:41.959834  -99.0  \n",
       "\n",
       "[1029 rows x 6 columns]"
      ]
     },
     "execution_count": 329,
     "metadata": {},
     "output_type": "execute_result"
    }
   ],
   "source": [
    "df.iloc[good_indices]"
   ]
  },
  {
   "cell_type": "markdown",
   "metadata": {},
   "source": [
    "### Retrieving the Corrected Flux\n",
    "\n",
    "To have a better estimate of the gain, we will use only low flux flat pairs."
   ]
  },
  {
   "cell_type": "code",
   "execution_count": 308,
   "metadata": {},
   "outputs": [
    {
     "data": {
      "text/html": [
       "<pre style=\"margin: 0.1em;\n",
       "padding-left: 0.25em;\n",
       "border-left-style: solid;\n",
       "font-family: var(--jp-code-font-family);\n",
       "font-size: var(--jp-code-font-size);\n",
       "line-height: var(--jp-code-line-height);\n",
       "\"><span style=\"color: var(--jp-warn-color2)\">lsst.summit.utils.bestEffort</span> <span style=\"color: var(--jp-info-color0)\">INFO</span>: Instantiating butler with collections=[&#x27;LATISS/raw/all&#x27;, &#x27;LATISS/calib&#x27;, &#x27;LATISS/runs/quickLook&#x27;]</pre>"
      ],
      "text/plain": [
       "<IPython.core.display.HTML object>"
      ]
     },
     "metadata": {},
     "output_type": "display_data"
    }
   ],
   "source": [
    "from lsst.summit.utils.bestEffort import BestEffortIsr\n",
    "bestEffort = BestEffortIsr()\n",
    "\n",
    "def get_flux(day, seq):\n",
    "    dataId = {'day_obs': day, 'seq_num': seq, 'detector':0}\n",
    "    exp = bestEffort.getExposure(dataId)\n",
    "    return np.nanmedian(exp.image.array.flatten())"
   ]
  },
  {
   "cell_type": "markdown",
   "metadata": {},
   "source": [
    "Using bestEffor\n",
    "\n",
    "```\n",
    "from lsst.summit.utils.bestEffort import BestEffortIsr\n",
    "bestEffort = BestEffortIsr()\n",
    "dataId = {'day_obs': 20200312, 'seq_num': 197, 'detector':0}\n",
    "exp = bestEffort.getExposure(dataId)\n",
    "```\n",
    "or\n",
    "\n",
    "```\n",
    "import lsst.summit.utils.butlerUtils as butlerUtils\n",
    "butler = butlerUtils.makeDefaultLatissButler()\n",
    "dataId = {'day_obs': 20200312, 'seq_num': 197, 'detector':0}\n",
    "exp = butler.get('quickLookExp', dataId)\n",
    "```"
   ]
  },
  {
   "cell_type": "code",
   "execution_count": 246,
   "metadata": {},
   "outputs": [
    {
     "name": "stdout",
     "output_type": "stream",
     "text": [
      "8.058547973632812e-05\n"
     ]
    }
   ],
   "source": [
    "from joblib import Parallel, delayed\n",
    "t0 = time()\n",
    "tables = Parallel(n_jobs=2)(delayed(get_flux)(days[i], seq_num[i]) for i in pairs_idx[:20)\n",
    "print(time()-t0)"
   ]
  },
  {
   "cell_type": "code",
   "execution_count": 247,
   "metadata": {},
   "outputs": [
    {
     "data": {
      "text/plain": [
       "[23409.484,\n",
       " 46893.875,\n",
       " 7794.8525,\n",
       " 15606.193,\n",
       " 31261.387,\n",
       " 39095.953,\n",
       " 46925.453,\n",
       " 62546.547,\n",
       " 78153.74,\n",
       " 86014.28,\n",
       " 93921.05,\n",
       " 31294.84,\n",
       " 46987.19,\n",
       " 46988.113,\n",
       " 46951.87,\n",
       " 46955.746,\n",
       " 46957.336,\n",
       " 46957.89,\n",
       " 46958.164,\n",
       " 46957.914]"
      ]
     },
     "execution_count": 247,
     "metadata": {},
     "output_type": "execute_result"
    }
   ],
   "source": [
    "tables"
   ]
  },
  {
   "cell_type": "code",
   "execution_count": null,
   "metadata": {},
   "outputs": [],
   "source": []
  },
  {
   "cell_type": "markdown",
   "metadata": {
    "tags": []
   },
   "source": [
    "### An Example on Selected Exposures"
   ]
  },
  {
   "cell_type": "code",
   "execution_count": null,
   "metadata": {},
   "outputs": [],
   "source": [
    "import numpy as np\n",
    "def get_lims(arr):\n",
    "    v1,v2,v3 = np.nanpercentile(arr,[25,50,75])\n",
    "    iqr = (v3-v1)/2\n",
    "    vlow, vhig = v1-1.5*iqr, v3+1.5*iqr\n",
    "    return v2, vlow, vhig"
   ]
  },
  {
   "cell_type": "code",
   "execution_count": 53,
   "metadata": {},
   "outputs": [],
   "source": [
    "auxtel = {'20220502':[26,27],'20220407':[48,87],\n",
    "          '20220406':[206,245],'20220405':[131,170],\n",
    "          '20220317':[118,158],'20220316':[212,179]}"
   ]
  },
  {
   "cell_type": "code",
   "execution_count": 54,
   "metadata": {},
   "outputs": [
    {
     "name": "stdout",
     "output_type": "stream",
     "text": [
      "Day: 20220502\n"
     ]
    },
    {
     "data": {
      "text/html": [
       "<pre style=\"margin: 0.1em;\n",
       "padding-left: 0.25em;\n",
       "border-left-style: solid;\n",
       "font-family: var(--jp-code-font-family);\n",
       "font-size: var(--jp-code-font-size);\n",
       "line-height: var(--jp-code-line-height);\n",
       "\"><span style=\"color: var(--jp-warn-color2)\">lsst.summit.utils.bestEffort</span> <span style=\"color: var(--jp-info-color0)\">INFO</span>: Found a ready-made quickLookExp in the repo. Returning that.</pre>"
      ],
      "text/plain": [
       "<IPython.core.display.HTML object>"
      ]
     },
     "metadata": {},
     "output_type": "display_data"
    },
    {
     "data": {
      "text/html": [
       "<pre style=\"margin: 0.1em;\n",
       "padding-left: 0.25em;\n",
       "border-left-style: solid;\n",
       "font-family: var(--jp-code-font-family);\n",
       "font-size: var(--jp-code-font-size);\n",
       "line-height: var(--jp-code-line-height);\n",
       "\"><span style=\"color: var(--jp-warn-color2)\">lsst.summit.utils.bestEffort</span> <span style=\"color: var(--jp-info-color0)\">INFO</span>: Found a ready-made quickLookExp in the repo. Returning that.</pre>"
      ],
      "text/plain": [
       "<IPython.core.display.HTML object>"
      ]
     },
     "metadata": {},
     "output_type": "display_data"
    },
    {
     "name": "stdout",
     "output_type": "stream",
     "text": [
      "Day: 20220407\n"
     ]
    },
    {
     "data": {
      "text/html": [
       "<pre style=\"margin: 0.1em;\n",
       "padding-left: 0.25em;\n",
       "border-left-style: solid;\n",
       "font-family: var(--jp-code-font-family);\n",
       "font-size: var(--jp-code-font-size);\n",
       "line-height: var(--jp-code-line-height);\n",
       "\"><span style=\"color: var(--jp-warn-color2)\">lsst.summit.utils.bestEffort</span> <span style=\"color: var(--jp-info-color0)\">INFO</span>: Found a ready-made quickLookExp in the repo. Returning that.</pre>"
      ],
      "text/plain": [
       "<IPython.core.display.HTML object>"
      ]
     },
     "metadata": {},
     "output_type": "display_data"
    },
    {
     "data": {
      "text/html": [
       "<pre style=\"margin: 0.1em;\n",
       "padding-left: 0.25em;\n",
       "border-left-style: solid;\n",
       "font-family: var(--jp-code-font-family);\n",
       "font-size: var(--jp-code-font-size);\n",
       "line-height: var(--jp-code-line-height);\n",
       "\"><span style=\"color: var(--jp-warn-color2)\">lsst.summit.utils.bestEffort</span> <span style=\"color: var(--jp-info-color0)\">INFO</span>: Found a ready-made quickLookExp in the repo. Returning that.</pre>"
      ],
      "text/plain": [
       "<IPython.core.display.HTML object>"
      ]
     },
     "metadata": {},
     "output_type": "display_data"
    },
    {
     "name": "stdout",
     "output_type": "stream",
     "text": [
      "Day: 20220406\n"
     ]
    },
    {
     "data": {
      "text/html": [
       "<pre style=\"margin: 0.1em;\n",
       "padding-left: 0.25em;\n",
       "border-left-style: solid;\n",
       "font-family: var(--jp-code-font-family);\n",
       "font-size: var(--jp-code-font-size);\n",
       "line-height: var(--jp-code-line-height);\n",
       "\"><span style=\"color: var(--jp-warn-color2)\">lsst.summit.utils.bestEffort</span> <span style=\"color: var(--jp-info-color0)\">INFO</span>: Found a ready-made quickLookExp in the repo. Returning that.</pre>"
      ],
      "text/plain": [
       "<IPython.core.display.HTML object>"
      ]
     },
     "metadata": {},
     "output_type": "display_data"
    },
    {
     "data": {
      "text/html": [
       "<pre style=\"margin: 0.1em;\n",
       "padding-left: 0.25em;\n",
       "border-left-style: solid;\n",
       "font-family: var(--jp-code-font-family);\n",
       "font-size: var(--jp-code-font-size);\n",
       "line-height: var(--jp-code-line-height);\n",
       "\"><span style=\"color: var(--jp-warn-color2)\">lsst.summit.utils.bestEffort</span> <span style=\"color: var(--jp-info-color0)\">INFO</span>: Found a ready-made quickLookExp in the repo. Returning that.</pre>"
      ],
      "text/plain": [
       "<IPython.core.display.HTML object>"
      ]
     },
     "metadata": {},
     "output_type": "display_data"
    },
    {
     "name": "stdout",
     "output_type": "stream",
     "text": [
      "Day: 20220405\n"
     ]
    },
    {
     "data": {
      "text/html": [
       "<pre style=\"margin: 0.1em;\n",
       "padding-left: 0.25em;\n",
       "border-left-style: solid;\n",
       "font-family: var(--jp-code-font-family);\n",
       "font-size: var(--jp-code-font-size);\n",
       "line-height: var(--jp-code-line-height);\n",
       "\"><span style=\"color: var(--jp-warn-color2)\">lsst.summit.utils.bestEffort</span> <span style=\"color: var(--jp-info-color0)\">INFO</span>: Found a ready-made quickLookExp in the repo. Returning that.</pre>"
      ],
      "text/plain": [
       "<IPython.core.display.HTML object>"
      ]
     },
     "metadata": {},
     "output_type": "display_data"
    },
    {
     "data": {
      "text/html": [
       "<pre style=\"margin: 0.1em;\n",
       "padding-left: 0.25em;\n",
       "border-left-style: solid;\n",
       "font-family: var(--jp-code-font-family);\n",
       "font-size: var(--jp-code-font-size);\n",
       "line-height: var(--jp-code-line-height);\n",
       "\"><span style=\"color: var(--jp-warn-color2)\">lsst.summit.utils.bestEffort</span> <span style=\"color: var(--jp-info-color0)\">INFO</span>: Found a ready-made quickLookExp in the repo. Returning that.</pre>"
      ],
      "text/plain": [
       "<IPython.core.display.HTML object>"
      ]
     },
     "metadata": {},
     "output_type": "display_data"
    },
    {
     "name": "stdout",
     "output_type": "stream",
     "text": [
      "Day: 20220317\n"
     ]
    },
    {
     "data": {
      "text/html": [
       "<pre style=\"margin: 0.1em;\n",
       "padding-left: 0.25em;\n",
       "border-left-style: solid;\n",
       "font-family: var(--jp-code-font-family);\n",
       "font-size: var(--jp-code-font-size);\n",
       "line-height: var(--jp-code-line-height);\n",
       "\"><span style=\"color: var(--jp-warn-color2)\">lsst.summit.utils.bestEffort</span> <span style=\"color: var(--jp-info-color0)\">INFO</span>: Found a ready-made quickLookExp in the repo. Returning that.</pre>"
      ],
      "text/plain": [
       "<IPython.core.display.HTML object>"
      ]
     },
     "metadata": {},
     "output_type": "display_data"
    },
    {
     "data": {
      "text/html": [
       "<pre style=\"margin: 0.1em;\n",
       "padding-left: 0.25em;\n",
       "border-left-style: solid;\n",
       "font-family: var(--jp-code-font-family);\n",
       "font-size: var(--jp-code-font-size);\n",
       "line-height: var(--jp-code-line-height);\n",
       "\"><span style=\"color: var(--jp-warn-color2)\">lsst.summit.utils.bestEffort</span> <span style=\"color: var(--jp-info-color0)\">INFO</span>: Found a ready-made quickLookExp in the repo. Returning that.</pre>"
      ],
      "text/plain": [
       "<IPython.core.display.HTML object>"
      ]
     },
     "metadata": {},
     "output_type": "display_data"
    },
    {
     "name": "stdout",
     "output_type": "stream",
     "text": [
      "Day: 20220316\n"
     ]
    },
    {
     "data": {
      "text/html": [
       "<pre style=\"margin: 0.1em;\n",
       "padding-left: 0.25em;\n",
       "border-left-style: solid;\n",
       "font-family: var(--jp-code-font-family);\n",
       "font-size: var(--jp-code-font-size);\n",
       "line-height: var(--jp-code-line-height);\n",
       "\"><span style=\"color: var(--jp-warn-color2)\">lsst.summit.utils.bestEffort</span> <span style=\"color: var(--jp-info-color0)\">INFO</span>: Found a ready-made quickLookExp in the repo. Returning that.</pre>"
      ],
      "text/plain": [
       "<IPython.core.display.HTML object>"
      ]
     },
     "metadata": {},
     "output_type": "display_data"
    },
    {
     "data": {
      "text/html": [
       "<pre style=\"margin: 0.1em;\n",
       "padding-left: 0.25em;\n",
       "border-left-style: solid;\n",
       "font-family: var(--jp-code-font-family);\n",
       "font-size: var(--jp-code-font-size);\n",
       "line-height: var(--jp-code-line-height);\n",
       "\"><span style=\"color: var(--jp-warn-color2)\">lsst.summit.utils.bestEffort</span> <span style=\"color: var(--jp-info-color0)\">INFO</span>: Found a ready-made quickLookExp in the repo. Returning that.</pre>"
      ],
      "text/plain": [
       "<IPython.core.display.HTML object>"
      ]
     },
     "metadata": {},
     "output_type": "display_data"
    }
   ],
   "source": [
    "stats = [] \n",
    "for day in list(auxtel.keys()):\n",
    "    print('Day: %s'%day)\n",
    "    line = []\n",
    "    for i in range(2):\n",
    "        dataId = {'day_obs': int(day), 'seq_num': auxtel[day][i], 'detector':0}\n",
    "        exp = bestEffort.getExposure(dataId)\n",
    "        vmean, vlow, vhig = get_lims(exp.image.array.flatten())\n",
    "        line.append([vmean, vlow, vhig])\n",
    "    stats.append(line)"
   ]
  },
  {
   "cell_type": "code",
   "execution_count": 56,
   "metadata": {},
   "outputs": [
    {
     "name": "stdout",
     "output_type": "stream",
     "text": [
      "Corrected Flux Stats [ADU]\n",
      "Day: 20220502\n",
      "mean, low, high = 43357, 39560, 47328\n",
      "mean, low, high = 43357, 39563, 47325\n",
      "\n",
      "\n",
      "Day: 20220407\n",
      "mean, low, high = 0, -14, 15\n",
      "mean, low, high = 7, -8, 24\n",
      "\n",
      "\n",
      "Day: 20220406\n",
      "mean, low, high = 13837, 12873, 14504\n",
      "mean, low, high = 124539, 104229, 168425\n",
      "\n",
      "\n",
      "Day: 20220405\n",
      "mean, low, high = 6052, 5716, 6328\n",
      "mean, low, high = 121886, 116184, 125983\n",
      "\n",
      "\n",
      "Day: 20220317\n",
      "mean, low, high = 25216, 24018, 26112\n",
      "mean, low, high = 36303, 33465, 38806\n",
      "\n",
      "\n",
      "Day: 20220316\n",
      "mean, low, high = 25321, 24253, 26182\n",
      "mean, low, high = 29109, 26574, 31546\n",
      "\n",
      "\n"
     ]
    }
   ],
   "source": [
    "print('Corrected Flux Stats [ADU]')\n",
    "for day, line in zip(list(auxtel.keys()),stats):\n",
    "    print('Day: %s'%day)\n",
    "    for out in line:\n",
    "        print('mean, low, high = %i, %i, %i'%(out[0],out[1],out[2]))\n",
    "    print('\\n')"
   ]
  },
  {
   "cell_type": "markdown",
   "metadata": {
    "tags": []
   },
   "source": [
    "## Query Temperature\n",
    "\n",
    "We assumed that the user have run the script `queryFlatFields.py`, the output is the `data/flat_field_pairs_auxTel_2022_flux.csv` dataFrame "
   ]
  },
  {
   "cell_type": "code",
   "execution_count": 8,
   "metadata": {},
   "outputs": [
    {
     "data": {
      "text/html": [
       "<div>\n",
       "<style scoped>\n",
       "    .dataframe tbody tr th:only-of-type {\n",
       "        vertical-align: middle;\n",
       "    }\n",
       "\n",
       "    .dataframe tbody tr th {\n",
       "        vertical-align: top;\n",
       "    }\n",
       "\n",
       "    .dataframe thead th {\n",
       "        text-align: right;\n",
       "    }\n",
       "</style>\n",
       "<table border=\"1\" class=\"dataframe\">\n",
       "  <thead>\n",
       "    <tr style=\"text-align: right;\">\n",
       "      <th></th>\n",
       "      <th>day</th>\n",
       "      <th>seq_num</th>\n",
       "      <th>exposure_id</th>\n",
       "      <th>exposure_time</th>\n",
       "      <th>time</th>\n",
       "      <th>Flux</th>\n",
       "    </tr>\n",
       "  </thead>\n",
       "  <tbody>\n",
       "    <tr>\n",
       "      <th>2022050500290</th>\n",
       "      <td>20220505</td>\n",
       "      <td>290</td>\n",
       "      <td>2022050500290</td>\n",
       "      <td>6.000</td>\n",
       "      <td>2022-05-05T21:10:30.745000</td>\n",
       "      <td>93916.906250</td>\n",
       "    </tr>\n",
       "    <tr>\n",
       "      <th>2022050500289</th>\n",
       "      <td>20220505</td>\n",
       "      <td>289</td>\n",
       "      <td>2022050500289</td>\n",
       "      <td>6.000</td>\n",
       "      <td>2022-05-05T21:10:22.010989</td>\n",
       "      <td>93915.421875</td>\n",
       "    </tr>\n",
       "    <tr>\n",
       "      <th>2022050500288</th>\n",
       "      <td>20220505</td>\n",
       "      <td>288</td>\n",
       "      <td>2022050500288</td>\n",
       "      <td>5.700</td>\n",
       "      <td>2022-05-05T21:10:13.430992</td>\n",
       "      <td>89182.718750</td>\n",
       "    </tr>\n",
       "    <tr>\n",
       "      <th>2022050500287</th>\n",
       "      <td>20220505</td>\n",
       "      <td>287</td>\n",
       "      <td>2022050500287</td>\n",
       "      <td>5.700</td>\n",
       "      <td>2022-05-05T21:10:04.884991</td>\n",
       "      <td>89178.546875</td>\n",
       "    </tr>\n",
       "    <tr>\n",
       "      <th>2022050500286</th>\n",
       "      <td>20220505</td>\n",
       "      <td>286</td>\n",
       "      <td>2022050500286</td>\n",
       "      <td>5.399</td>\n",
       "      <td>2022-05-05T21:09:56.639009</td>\n",
       "      <td>84433.390625</td>\n",
       "    </tr>\n",
       "    <tr>\n",
       "      <th>...</th>\n",
       "      <td>...</td>\n",
       "      <td>...</td>\n",
       "      <td>...</td>\n",
       "      <td>...</td>\n",
       "      <td>...</td>\n",
       "      <td>...</td>\n",
       "    </tr>\n",
       "    <tr>\n",
       "      <th>2021011900085</th>\n",
       "      <td>20210119</td>\n",
       "      <td>85</td>\n",
       "      <td>2021011900085</td>\n",
       "      <td>2.000</td>\n",
       "      <td>2021-01-19T21:00:19.388773</td>\n",
       "      <td>63845.308594</td>\n",
       "    </tr>\n",
       "    <tr>\n",
       "      <th>2021011900084</th>\n",
       "      <td>20210119</td>\n",
       "      <td>84</td>\n",
       "      <td>2021011900084</td>\n",
       "      <td>2.000</td>\n",
       "      <td>2021-01-19T21:00:14.845447</td>\n",
       "      <td>63844.906250</td>\n",
       "    </tr>\n",
       "    <tr>\n",
       "      <th>2021011900083</th>\n",
       "      <td>20210119</td>\n",
       "      <td>83</td>\n",
       "      <td>2021011900083</td>\n",
       "      <td>2.000</td>\n",
       "      <td>2021-01-19T21:00:10.286715</td>\n",
       "      <td>63846.636719</td>\n",
       "    </tr>\n",
       "    <tr>\n",
       "      <th>2021011900082</th>\n",
       "      <td>20210119</td>\n",
       "      <td>82</td>\n",
       "      <td>2021011900082</td>\n",
       "      <td>2.000</td>\n",
       "      <td>2021-01-19T21:00:05.738265</td>\n",
       "      <td>63845.871094</td>\n",
       "    </tr>\n",
       "    <tr>\n",
       "      <th>2021011900081</th>\n",
       "      <td>20210119</td>\n",
       "      <td>81</td>\n",
       "      <td>2021011900081</td>\n",
       "      <td>2.000</td>\n",
       "      <td>2021-01-19T21:00:01.181027</td>\n",
       "      <td>63843.125000</td>\n",
       "    </tr>\n",
       "  </tbody>\n",
       "</table>\n",
       "<p>2630 rows × 6 columns</p>\n",
       "</div>"
      ],
      "text/plain": [
       "                    day  seq_num    exposure_id  exposure_time  \\\n",
       "2022050500290  20220505      290  2022050500290          6.000   \n",
       "2022050500289  20220505      289  2022050500289          6.000   \n",
       "2022050500288  20220505      288  2022050500288          5.700   \n",
       "2022050500287  20220505      287  2022050500287          5.700   \n",
       "2022050500286  20220505      286  2022050500286          5.399   \n",
       "...                 ...      ...            ...            ...   \n",
       "2021011900085  20210119       85  2021011900085          2.000   \n",
       "2021011900084  20210119       84  2021011900084          2.000   \n",
       "2021011900083  20210119       83  2021011900083          2.000   \n",
       "2021011900082  20210119       82  2021011900082          2.000   \n",
       "2021011900081  20210119       81  2021011900081          2.000   \n",
       "\n",
       "                                     time          Flux  \n",
       "2022050500290  2022-05-05T21:10:30.745000  93916.906250  \n",
       "2022050500289  2022-05-05T21:10:22.010989  93915.421875  \n",
       "2022050500288  2022-05-05T21:10:13.430992  89182.718750  \n",
       "2022050500287  2022-05-05T21:10:04.884991  89178.546875  \n",
       "2022050500286  2022-05-05T21:09:56.639009  84433.390625  \n",
       "...                                   ...           ...  \n",
       "2021011900085  2021-01-19T21:00:19.388773  63845.308594  \n",
       "2021011900084  2021-01-19T21:00:14.845447  63844.906250  \n",
       "2021011900083  2021-01-19T21:00:10.286715  63846.636719  \n",
       "2021011900082  2021-01-19T21:00:05.738265  63845.871094  \n",
       "2021011900081  2021-01-19T21:00:01.181027  63843.125000  \n",
       "\n",
       "[2630 rows x 6 columns]"
      ]
     },
     "execution_count": 8,
     "metadata": {},
     "output_type": "execute_result"
    }
   ],
   "source": [
    "df = pd.read_csv('./data/flat_field_pairs_auxTel_2022_flux.csv',index_col=0)\n",
    "df"
   ]
  },
  {
   "cell_type": "code",
   "execution_count": 23,
   "metadata": {},
   "outputs": [
    {
     "data": {
      "text/plain": [
       "Text(0.5, 0, 'Exposure time [sec]')"
      ]
     },
     "execution_count": 23,
     "metadata": {},
     "output_type": "execute_result"
    },
    {
     "data": {
      "image/png": "[encoded data removed]",
      "text/plain": [
       "<Figure size 432x288 with 1 Axes>"
      ]
     },
     "metadata": {},
     "output_type": "display_data"
    }
   ],
   "source": [
    "day = df.day.to_numpy()\n",
    "flux = df.Flux.to_numpy()\n",
    "exp_time = df.exposure_time.to_numpy()\n",
    "\n",
    "plt.loglog()\n",
    "plt.scatter(exp_time, flux, s=100, alpha=0.5)\n",
    "plt.axhline(5e3, lw=2, ls='--', color='k')\n",
    "plt.axhline(10e3, lw=2, ls='--', color='k')\n",
    "plt.ylim(10., )\n",
    "plt.ylabel('Corrected Flux [ADU]')\n",
    "plt.xlabel('Exposure time [sec]')"
   ]
  },
  {
   "cell_type": "code",
   "execution_count": 25,
   "metadata": {},
   "outputs": [],
   "source": [
    "df_all = df.to_numpy().T\n",
    "exposures = df_all[2]\n",
    "days = df_all[0]\n",
    "seq_num = df_all[1]\n",
    "exp_time = df_all[3]\n",
    "times = df_all[4]"
   ]
  },
  {
   "cell_type": "code",
   "execution_count": null,
   "metadata": {},
   "outputs": [],
   "source": []
  },
  {
   "cell_type": "code",
   "execution_count": 29,
   "metadata": {},
   "outputs": [],
   "source": [
    "EfdClient.list_efd_names()\n",
    "from lsst_efd_client import EfdClient, resample\n",
    "from astropy.time import Time, TimeDelta\n",
    "\n",
    "efd_client = EfdClient('ldf_stable_efd')\n"
   ]
  },
  {
   "cell_type": "code",
   "execution_count": 30,
   "metadata": {},
   "outputs": [],
   "source": [
    "temp_data = np.full(len(df), np.nan, \n",
    "                    dtype=[('t1', float), \n",
    "                          ('t1_err', float),\n",
    "                          ('t2', float), \n",
    "                          ('t2_err', float)])"
   ]
  },
  {
   "cell_type": "code",
   "execution_count": 31,
   "metadata": {},
   "outputs": [],
   "source": [
    "for ii in np.arange(0,len(df),2):\n",
    "    exposure = exposures[ii]\n",
    "    time1 = Time(times[ii+1], format='isot', scale='tai')\n",
    "    time2 = Time(times[ii], format='isot', scale='tai')\n",
    "    \n",
    "    if exposure < 20211013:\n",
    "        # EFD was switched to UTC on 20211013.  This compensates for that.\n",
    "        tai_offset = 37.0\n",
    "    else:\n",
    "        tai_offset = 0.0\n",
    "    t1 = time1 - TimeDelta(-5., format='sec', scale='tai')\n",
    "    t2 = time2 + TimeDelta(+5., format='sec', scale='tai')\n",
    "    \n",
    "    res1 = await efd_client.select_time_series(\"lsst.sal.ATCamera.focal_plane_Reb\", \n",
    "                                               [\"aspicl_Temp00\",\"aspicu_Temp00\"], \n",
    "                                               t1.utc - TimeDelta(tai_offset, format='sec'), \n",
    "                                               t2.utc - TimeDelta(tai_offset, format='sec'))\n",
    "    #print(res1)\n",
    "    if len(res1)>0:\n",
    "        t1 = np.mean(res1['aspicl_Temp00'])\n",
    "        t1_err = np.std(res1['aspicl_Temp00'])\n",
    "        t2 = np.mean(res1['aspicu_Temp00'])\n",
    "        t2_err = np.std(res1['aspicu_Temp00'])\n",
    "\n",
    "        temp_data[ii] = (t1, t1_err, t2, t2_err)\n",
    "        temp_data[ii+1] = (t1, t1_err, t2, t2_err)\n"
   ]
  },
  {
   "cell_type": "code",
   "execution_count": 32,
   "metadata": {},
   "outputs": [
    {
     "data": {
      "text/plain": [
       "array([16.7857151, 16.7857151, 16.5178566, ...,        nan,        nan,\n",
       "              nan])"
      ]
     },
     "execution_count": 32,
     "metadata": {},
     "output_type": "execute_result"
    }
   ],
   "source": [
    "temp_data['t1']"
   ]
  },
  {
   "cell_type": "code",
   "execution_count": null,
   "metadata": {},
   "outputs": [],
   "source": []
  },
  {
   "cell_type": "code",
   "execution_count": 35,
   "metadata": {},
   "outputs": [
    {
     "name": "stdout",
     "output_type": "stream",
     "text": [
      "First file saved: data/flat_field_pairs_auxTel_2022_flux_temp.csv\n"
     ]
    }
   ],
   "source": [
    "outname = 'data/flat_field_pairs_auxTel_2022_{}.csv'\n",
    "df['Temp1'] = temp_data['t1']\n",
    "df['TempErr1'] = temp_data['t1_err']\n",
    "df['Temp2'] = temp_data['t2']\n",
    "df['TempErr2'] = temp_data['t2_err']\n",
    "df.to_csv(outname.format('flux_temp'))\n",
    "print('First file saved: %s'%(outname.format('flux_temp')))\n"
   ]
  },
  {
   "cell_type": "code",
   "execution_count": 37,
   "metadata": {},
   "outputs": [
    {
     "name": "stdout",
     "output_type": "stream",
     "text": [
      "                    day      Temp1\n",
      "2022050500290  20220505  16.785715\n",
      "2022050500289  20220505  16.785715\n",
      "2022050500288  20220505  16.517857\n",
      "2022050500287  20220505  16.517857\n",
      "2022050500286  20220505  16.517857\n",
      "...                 ...        ...\n",
      "2021011900085  20210119        NaN\n",
      "2021011900084  20210119        NaN\n",
      "2021011900083  20210119        NaN\n",
      "2021011900082  20210119        NaN\n",
      "2021011900081  20210119        NaN\n",
      "\n",
      "[2630 rows x 2 columns]\n"
     ]
    }
   ],
   "source": [
    "# with pd.option_context('display.max_rows', None,):\n",
    "print(df[['day','Temp1']])"
   ]
  },
  {
   "cell_type": "code",
   "execution_count": 39,
   "metadata": {},
   "outputs": [
    {
     "name": "stdout",
     "output_type": "stream",
     "text": [
      "638\n"
     ]
    },
    {
     "data": {
      "text/html": [
       "<div>\n",
       "<style scoped>\n",
       "    .dataframe tbody tr th:only-of-type {\n",
       "        vertical-align: middle;\n",
       "    }\n",
       "\n",
       "    .dataframe tbody tr th {\n",
       "        vertical-align: top;\n",
       "    }\n",
       "\n",
       "    .dataframe thead th {\n",
       "        text-align: right;\n",
       "    }\n",
       "</style>\n",
       "<table border=\"1\" class=\"dataframe\">\n",
       "  <thead>\n",
       "    <tr style=\"text-align: right;\">\n",
       "      <th></th>\n",
       "      <th>day</th>\n",
       "      <th>seq_num</th>\n",
       "      <th>exposure_id</th>\n",
       "      <th>exposure_time</th>\n",
       "      <th>time</th>\n",
       "      <th>Flux</th>\n",
       "      <th>Temp1</th>\n",
       "      <th>TempErr1</th>\n",
       "      <th>Temp2</th>\n",
       "      <th>TempErr2</th>\n",
       "    </tr>\n",
       "  </thead>\n",
       "  <tbody>\n",
       "    <tr>\n",
       "      <th>2022050500290</th>\n",
       "      <td>20220505</td>\n",
       "      <td>290</td>\n",
       "      <td>2022050500290</td>\n",
       "      <td>6.000</td>\n",
       "      <td>2022-05-05T21:10:30.745000</td>\n",
       "      <td>93916.906250</td>\n",
       "      <td>16.785715</td>\n",
       "      <td>0.000000</td>\n",
       "      <td>16.495535</td>\n",
       "      <td>0.000000</td>\n",
       "    </tr>\n",
       "    <tr>\n",
       "      <th>2022050500289</th>\n",
       "      <td>20220505</td>\n",
       "      <td>289</td>\n",
       "      <td>2022050500289</td>\n",
       "      <td>6.000</td>\n",
       "      <td>2022-05-05T21:10:22.010989</td>\n",
       "      <td>93915.421875</td>\n",
       "      <td>16.785715</td>\n",
       "      <td>0.000000</td>\n",
       "      <td>16.495535</td>\n",
       "      <td>0.000000</td>\n",
       "    </tr>\n",
       "    <tr>\n",
       "      <th>2022050500288</th>\n",
       "      <td>20220505</td>\n",
       "      <td>288</td>\n",
       "      <td>2022050500288</td>\n",
       "      <td>5.700</td>\n",
       "      <td>2022-05-05T21:10:13.430992</td>\n",
       "      <td>89182.718750</td>\n",
       "      <td>16.517857</td>\n",
       "      <td>0.000000</td>\n",
       "      <td>16.517857</td>\n",
       "      <td>0.000000</td>\n",
       "    </tr>\n",
       "    <tr>\n",
       "      <th>2022050500287</th>\n",
       "      <td>20220505</td>\n",
       "      <td>287</td>\n",
       "      <td>2022050500287</td>\n",
       "      <td>5.700</td>\n",
       "      <td>2022-05-05T21:10:04.884991</td>\n",
       "      <td>89178.546875</td>\n",
       "      <td>16.517857</td>\n",
       "      <td>0.000000</td>\n",
       "      <td>16.517857</td>\n",
       "      <td>0.000000</td>\n",
       "    </tr>\n",
       "    <tr>\n",
       "      <th>2022050500286</th>\n",
       "      <td>20220505</td>\n",
       "      <td>286</td>\n",
       "      <td>2022050500286</td>\n",
       "      <td>5.399</td>\n",
       "      <td>2022-05-05T21:09:56.639009</td>\n",
       "      <td>84433.390625</td>\n",
       "      <td>16.517857</td>\n",
       "      <td>0.000000</td>\n",
       "      <td>16.517857</td>\n",
       "      <td>0.000000</td>\n",
       "    </tr>\n",
       "    <tr>\n",
       "      <th>...</th>\n",
       "      <td>...</td>\n",
       "      <td>...</td>\n",
       "      <td>...</td>\n",
       "      <td>...</td>\n",
       "      <td>...</td>\n",
       "      <td>...</td>\n",
       "      <td>...</td>\n",
       "      <td>...</td>\n",
       "      <td>...</td>\n",
       "      <td>...</td>\n",
       "    </tr>\n",
       "    <tr>\n",
       "      <th>2022020700020</th>\n",
       "      <td>20220207</td>\n",
       "      <td>20</td>\n",
       "      <td>2022020700020</td>\n",
       "      <td>1.000</td>\n",
       "      <td>2022-02-07T17:47:14.593666</td>\n",
       "      <td>27.794117</td>\n",
       "      <td>23.035715</td>\n",
       "      <td>0.000000</td>\n",
       "      <td>23.058035</td>\n",
       "      <td>0.000000</td>\n",
       "    </tr>\n",
       "    <tr>\n",
       "      <th>2022020700015</th>\n",
       "      <td>20220207</td>\n",
       "      <td>15</td>\n",
       "      <td>2022020700015</td>\n",
       "      <td>1.000</td>\n",
       "      <td>2022-02-07T17:46:56.457702</td>\n",
       "      <td>27.794064</td>\n",
       "      <td>23.147322</td>\n",
       "      <td>0.000000</td>\n",
       "      <td>23.147322</td>\n",
       "      <td>0.000000</td>\n",
       "    </tr>\n",
       "    <tr>\n",
       "      <th>2022020700014</th>\n",
       "      <td>20220207</td>\n",
       "      <td>14</td>\n",
       "      <td>2022020700014</td>\n",
       "      <td>1.000</td>\n",
       "      <td>2022-02-07T17:46:52.836514</td>\n",
       "      <td>27.779438</td>\n",
       "      <td>23.147322</td>\n",
       "      <td>0.000000</td>\n",
       "      <td>23.147322</td>\n",
       "      <td>0.000000</td>\n",
       "    </tr>\n",
       "    <tr>\n",
       "      <th>2022020700011</th>\n",
       "      <td>20220207</td>\n",
       "      <td>11</td>\n",
       "      <td>2022020700011</td>\n",
       "      <td>1.000</td>\n",
       "      <td>2022-02-07T17:46:41.959834</td>\n",
       "      <td>27.790295</td>\n",
       "      <td>17.055807</td>\n",
       "      <td>2.444383</td>\n",
       "      <td>17.065945</td>\n",
       "      <td>2.444516</td>\n",
       "    </tr>\n",
       "    <tr>\n",
       "      <th>2021120200185</th>\n",
       "      <td>20211202</td>\n",
       "      <td>185</td>\n",
       "      <td>2021120200185</td>\n",
       "      <td>2.000</td>\n",
       "      <td>2021-12-02T18:22:07.112597</td>\n",
       "      <td>38341.218750</td>\n",
       "      <td>17.055807</td>\n",
       "      <td>2.444383</td>\n",
       "      <td>17.065945</td>\n",
       "      <td>2.444516</td>\n",
       "    </tr>\n",
       "  </tbody>\n",
       "</table>\n",
       "<p>638 rows × 10 columns</p>\n",
       "</div>"
      ],
      "text/plain": [
       "                    day  seq_num    exposure_id  exposure_time  \\\n",
       "2022050500290  20220505      290  2022050500290          6.000   \n",
       "2022050500289  20220505      289  2022050500289          6.000   \n",
       "2022050500288  20220505      288  2022050500288          5.700   \n",
       "2022050500287  20220505      287  2022050500287          5.700   \n",
       "2022050500286  20220505      286  2022050500286          5.399   \n",
       "...                 ...      ...            ...            ...   \n",
       "2022020700020  20220207       20  2022020700020          1.000   \n",
       "2022020700015  20220207       15  2022020700015          1.000   \n",
       "2022020700014  20220207       14  2022020700014          1.000   \n",
       "2022020700011  20220207       11  2022020700011          1.000   \n",
       "2021120200185  20211202      185  2021120200185          2.000   \n",
       "\n",
       "                                     time          Flux      Temp1  TempErr1  \\\n",
       "2022050500290  2022-05-05T21:10:30.745000  93916.906250  16.785715  0.000000   \n",
       "2022050500289  2022-05-05T21:10:22.010989  93915.421875  16.785715  0.000000   \n",
       "2022050500288  2022-05-05T21:10:13.430992  89182.718750  16.517857  0.000000   \n",
       "2022050500287  2022-05-05T21:10:04.884991  89178.546875  16.517857  0.000000   \n",
       "2022050500286  2022-05-05T21:09:56.639009  84433.390625  16.517857  0.000000   \n",
       "...                                   ...           ...        ...       ...   \n",
       "2022020700020  2022-02-07T17:47:14.593666     27.794117  23.035715  0.000000   \n",
       "2022020700015  2022-02-07T17:46:56.457702     27.794064  23.147322  0.000000   \n",
       "2022020700014  2022-02-07T17:46:52.836514     27.779438  23.147322  0.000000   \n",
       "2022020700011  2022-02-07T17:46:41.959834     27.790295  17.055807  2.444383   \n",
       "2021120200185  2021-12-02T18:22:07.112597  38341.218750  17.055807  2.444383   \n",
       "\n",
       "                   Temp2  TempErr2  \n",
       "2022050500290  16.495535  0.000000  \n",
       "2022050500289  16.495535  0.000000  \n",
       "2022050500288  16.517857  0.000000  \n",
       "2022050500287  16.517857  0.000000  \n",
       "2022050500286  16.517857  0.000000  \n",
       "...                  ...       ...  \n",
       "2022020700020  23.058035  0.000000  \n",
       "2022020700015  23.147322  0.000000  \n",
       "2022020700014  23.147322  0.000000  \n",
       "2022020700011  17.065945  2.444516  \n",
       "2021120200185  17.065945  2.444516  \n",
       "\n",
       "[638 rows x 10 columns]"
      ]
     },
     "execution_count": 39,
     "metadata": {},
     "output_type": "execute_result"
    }
   ],
   "source": [
    "nan = np.isnan(temp_data['t1'])\n",
    "nnan = ~nan\n",
    "print(np.count_nonzero(nnan))\n",
    "df.iloc[nnan]"
   ]
  },
  {
   "cell_type": "code",
   "execution_count": 40,
   "metadata": {},
   "outputs": [
    {
     "data": {
      "text/plain": [
       "<AxesSubplot:>"
      ]
     },
     "execution_count": 40,
     "metadata": {},
     "output_type": "execute_result"
    },
    {
     "data": {
      "image/png": "[encoded data removed]",
      "text/plain": [
       "<Figure size 432x288 with 1 Axes>"
      ]
     },
     "metadata": {},
     "output_type": "display_data"
    }
   ],
   "source": [
    "df.iloc[nnan].Temp2.hist(bins=20)"
   ]
  },
  {
   "cell_type": "code",
   "execution_count": 46,
   "metadata": {},
   "outputs": [
    {
     "data": {
      "text/plain": [
       "<AxesSubplot:>"
      ]
     },
     "execution_count": 46,
     "metadata": {},
     "output_type": "execute_result"
    },
    {
     "data": {
      "image/png": "[encoded data removed]",
      "text/plain": [
       "<Figure size 432x288 with 1 Axes>"
      ]
     },
     "metadata": {},
     "output_type": "display_data"
    }
   ],
   "source": [
    "df.iloc[nnan].Flux.hist(bins=20)"
   ]
  },
  {
   "cell_type": "code",
   "execution_count": 49,
   "metadata": {},
   "outputs": [],
   "source": [
    "flux_low, flux_high = 5000, 10000\n",
    "flux_mask = (flux>flux_low)&(flux<flux_high)\n"
   ]
  },
  {
   "cell_type": "code",
   "execution_count": 50,
   "metadata": {},
   "outputs": [
    {
     "name": "stdout",
     "output_type": "stream",
     "text": [
      "Flat Fields Pairs\n",
      "in all flux range: 1315.0\n",
      "between 5k and 10k ADU: 51.0\n",
      "with temperature: 319.0\n"
     ]
    }
   ],
   "source": [
    "print('Flat Fields Pairs')\n",
    "print(f'in all flux range: {len(df)/2}')\n",
    "print(f'between 5k and 10k ADU: {np.count_nonzero(flux_mask)/2}')\n",
    "print(f'with temperature: {np.count_nonzero(nnan)/2}')"
   ]
  },
  {
   "cell_type": "code",
   "execution_count": null,
   "metadata": {},
   "outputs": [],
   "source": []
  },
  {
   "cell_type": "code",
   "execution_count": 40,
   "metadata": {},
   "outputs": [],
   "source": [
    "# outname = 'flat_field_pairs_auxTel_2022.csv'\n",
    "# df.iloc[good_indices].to_csv(outname)"
   ]
  },
  {
   "cell_type": "markdown",
   "metadata": {},
   "source": [
    "## Prepare to run pipestack\n",
    "\n",
    "Synthax:\n",
    "```\n",
    "pipetask run -j 32 -d \"detector IN (0) AND instrument='LATISS' AND \\\n",
    "\t exposure IN (${obsDate}${flat_ptc0}..${obsDate}${flat_ptc1}) AND exposure.observation_type='flat'\" \\\n",
    "\t -b /repo/main \\\n",
    "     -c isr:doFlat=False \\\n",
    "     -i LATISS/raw/all,LATISS/calib,LATISS/calib,u/jesteves/calib/latiss/calib.${obsDate} \\\n",
    "\t -o u/jesteves/latiss/ptc_${obsDate}_flat_rerun \\\n",
    "\t -p $CP_PIPE_DIR/pipelines/Latiss/cpPtc.yaml#gainFromFlatPairs \\\n",
    "\t --register-dataset-types\n",
    "\n",
    "```"
   ]
  },
  {
   "cell_type": "code",
   "execution_count": 51,
   "metadata": {},
   "outputs": [],
   "source": [
    "base = \"\"\"pipetask run -j 32 -d \"detector IN (0) AND instrument='LATISS' AND \\\n",
    "exposure IN ({pair_list_str}) AND exposure.observation_type='flat'\" \\\n",
    "-b /repo/main \\\n",
    "-c isr:doFlat=False \\\n",
    "-i LATISS/raw/all,LATISS/calib,LATISS/calib \\\n",
    "-o u/jesteves/latiss/ptc_tREB_rerun_{day} \\\n",
    "-p $CP_PIPE_DIR/pipelines/Latiss/cpPtc.yaml#gainFromFlatPairs \\\n",
    "--register-dataset-types\"\"\""
   ]
  },
  {
   "cell_type": "code",
   "execution_count": 149,
   "metadata": {},
   "outputs": [
    {
     "name": "stdout",
     "output_type": "stream",
     "text": [
      "pipetask run -j 32 -d \"detector IN (0) AND instrument='LATISS' AND exposure IN (0,1,2,3) AND exposure.observation_type='flat'\" -b /repo/main -c isr:doFlat=False -i LATISS/raw/all,LATISS/calib,LATISS/calib -o u/jesteves/latiss/ptc_tREB_rerun_20220202 -p $CP_PIPE_DIR/pipelines/Latiss/cpPtc.yaml#gainFromFlatPairs --register-dataset-types\n"
     ]
    }
   ],
   "source": [
    "print(base.format(day=20220202,pair_list_str='0,1,2,3'))"
   ]
  },
  {
   "cell_type": "code",
   "execution_count": 52,
   "metadata": {},
   "outputs": [
    {
     "data": {
      "text/html": [
       "<div>\n",
       "<style scoped>\n",
       "    .dataframe tbody tr th:only-of-type {\n",
       "        vertical-align: middle;\n",
       "    }\n",
       "\n",
       "    .dataframe tbody tr th {\n",
       "        vertical-align: top;\n",
       "    }\n",
       "\n",
       "    .dataframe thead th {\n",
       "        text-align: right;\n",
       "    }\n",
       "</style>\n",
       "<table border=\"1\" class=\"dataframe\">\n",
       "  <thead>\n",
       "    <tr style=\"text-align: right;\">\n",
       "      <th></th>\n",
       "      <th>day</th>\n",
       "      <th>seq_num</th>\n",
       "      <th>exposure_id</th>\n",
       "      <th>exposure_time</th>\n",
       "      <th>time</th>\n",
       "      <th>Flux</th>\n",
       "      <th>Temp1</th>\n",
       "      <th>TempErr1</th>\n",
       "      <th>Temp2</th>\n",
       "      <th>TempErr2</th>\n",
       "    </tr>\n",
       "  </thead>\n",
       "  <tbody>\n",
       "    <tr>\n",
       "      <th>2022050500290</th>\n",
       "      <td>20220505</td>\n",
       "      <td>290</td>\n",
       "      <td>2022050500290</td>\n",
       "      <td>6.000</td>\n",
       "      <td>2022-05-05T21:10:30.745000</td>\n",
       "      <td>93916.906250</td>\n",
       "      <td>16.785715</td>\n",
       "      <td>0.0</td>\n",
       "      <td>16.495535</td>\n",
       "      <td>0.0</td>\n",
       "    </tr>\n",
       "    <tr>\n",
       "      <th>2022050500289</th>\n",
       "      <td>20220505</td>\n",
       "      <td>289</td>\n",
       "      <td>2022050500289</td>\n",
       "      <td>6.000</td>\n",
       "      <td>2022-05-05T21:10:22.010989</td>\n",
       "      <td>93915.421875</td>\n",
       "      <td>16.785715</td>\n",
       "      <td>0.0</td>\n",
       "      <td>16.495535</td>\n",
       "      <td>0.0</td>\n",
       "    </tr>\n",
       "    <tr>\n",
       "      <th>2022050500288</th>\n",
       "      <td>20220505</td>\n",
       "      <td>288</td>\n",
       "      <td>2022050500288</td>\n",
       "      <td>5.700</td>\n",
       "      <td>2022-05-05T21:10:13.430992</td>\n",
       "      <td>89182.718750</td>\n",
       "      <td>16.517857</td>\n",
       "      <td>0.0</td>\n",
       "      <td>16.517857</td>\n",
       "      <td>0.0</td>\n",
       "    </tr>\n",
       "    <tr>\n",
       "      <th>2022050500287</th>\n",
       "      <td>20220505</td>\n",
       "      <td>287</td>\n",
       "      <td>2022050500287</td>\n",
       "      <td>5.700</td>\n",
       "      <td>2022-05-05T21:10:04.884991</td>\n",
       "      <td>89178.546875</td>\n",
       "      <td>16.517857</td>\n",
       "      <td>0.0</td>\n",
       "      <td>16.517857</td>\n",
       "      <td>0.0</td>\n",
       "    </tr>\n",
       "    <tr>\n",
       "      <th>2022050500286</th>\n",
       "      <td>20220505</td>\n",
       "      <td>286</td>\n",
       "      <td>2022050500286</td>\n",
       "      <td>5.399</td>\n",
       "      <td>2022-05-05T21:09:56.639009</td>\n",
       "      <td>84433.390625</td>\n",
       "      <td>16.517857</td>\n",
       "      <td>0.0</td>\n",
       "      <td>16.517857</td>\n",
       "      <td>0.0</td>\n",
       "    </tr>\n",
       "    <tr>\n",
       "      <th>...</th>\n",
       "      <td>...</td>\n",
       "      <td>...</td>\n",
       "      <td>...</td>\n",
       "      <td>...</td>\n",
       "      <td>...</td>\n",
       "      <td>...</td>\n",
       "      <td>...</td>\n",
       "      <td>...</td>\n",
       "      <td>...</td>\n",
       "      <td>...</td>\n",
       "    </tr>\n",
       "    <tr>\n",
       "      <th>2021011900085</th>\n",
       "      <td>20210119</td>\n",
       "      <td>85</td>\n",
       "      <td>2021011900085</td>\n",
       "      <td>2.000</td>\n",
       "      <td>2021-01-19T21:00:19.388773</td>\n",
       "      <td>63845.308594</td>\n",
       "      <td>NaN</td>\n",
       "      <td>NaN</td>\n",
       "      <td>NaN</td>\n",
       "      <td>NaN</td>\n",
       "    </tr>\n",
       "    <tr>\n",
       "      <th>2021011900084</th>\n",
       "      <td>20210119</td>\n",
       "      <td>84</td>\n",
       "      <td>2021011900084</td>\n",
       "      <td>2.000</td>\n",
       "      <td>2021-01-19T21:00:14.845447</td>\n",
       "      <td>63844.906250</td>\n",
       "      <td>NaN</td>\n",
       "      <td>NaN</td>\n",
       "      <td>NaN</td>\n",
       "      <td>NaN</td>\n",
       "    </tr>\n",
       "    <tr>\n",
       "      <th>2021011900083</th>\n",
       "      <td>20210119</td>\n",
       "      <td>83</td>\n",
       "      <td>2021011900083</td>\n",
       "      <td>2.000</td>\n",
       "      <td>2021-01-19T21:00:10.286715</td>\n",
       "      <td>63846.636719</td>\n",
       "      <td>NaN</td>\n",
       "      <td>NaN</td>\n",
       "      <td>NaN</td>\n",
       "      <td>NaN</td>\n",
       "    </tr>\n",
       "    <tr>\n",
       "      <th>2021011900082</th>\n",
       "      <td>20210119</td>\n",
       "      <td>82</td>\n",
       "      <td>2021011900082</td>\n",
       "      <td>2.000</td>\n",
       "      <td>2021-01-19T21:00:05.738265</td>\n",
       "      <td>63845.871094</td>\n",
       "      <td>NaN</td>\n",
       "      <td>NaN</td>\n",
       "      <td>NaN</td>\n",
       "      <td>NaN</td>\n",
       "    </tr>\n",
       "    <tr>\n",
       "      <th>2021011900081</th>\n",
       "      <td>20210119</td>\n",
       "      <td>81</td>\n",
       "      <td>2021011900081</td>\n",
       "      <td>2.000</td>\n",
       "      <td>2021-01-19T21:00:01.181027</td>\n",
       "      <td>63843.125000</td>\n",
       "      <td>NaN</td>\n",
       "      <td>NaN</td>\n",
       "      <td>NaN</td>\n",
       "      <td>NaN</td>\n",
       "    </tr>\n",
       "  </tbody>\n",
       "</table>\n",
       "<p>2630 rows × 10 columns</p>\n",
       "</div>"
      ],
      "text/plain": [
       "                    day  seq_num    exposure_id  exposure_time  \\\n",
       "2022050500290  20220505      290  2022050500290          6.000   \n",
       "2022050500289  20220505      289  2022050500289          6.000   \n",
       "2022050500288  20220505      288  2022050500288          5.700   \n",
       "2022050500287  20220505      287  2022050500287          5.700   \n",
       "2022050500286  20220505      286  2022050500286          5.399   \n",
       "...                 ...      ...            ...            ...   \n",
       "2021011900085  20210119       85  2021011900085          2.000   \n",
       "2021011900084  20210119       84  2021011900084          2.000   \n",
       "2021011900083  20210119       83  2021011900083          2.000   \n",
       "2021011900082  20210119       82  2021011900082          2.000   \n",
       "2021011900081  20210119       81  2021011900081          2.000   \n",
       "\n",
       "                                     time          Flux      Temp1  TempErr1  \\\n",
       "2022050500290  2022-05-05T21:10:30.745000  93916.906250  16.785715       0.0   \n",
       "2022050500289  2022-05-05T21:10:22.010989  93915.421875  16.785715       0.0   \n",
       "2022050500288  2022-05-05T21:10:13.430992  89182.718750  16.517857       0.0   \n",
       "2022050500287  2022-05-05T21:10:04.884991  89178.546875  16.517857       0.0   \n",
       "2022050500286  2022-05-05T21:09:56.639009  84433.390625  16.517857       0.0   \n",
       "...                                   ...           ...        ...       ...   \n",
       "2021011900085  2021-01-19T21:00:19.388773  63845.308594        NaN       NaN   \n",
       "2021011900084  2021-01-19T21:00:14.845447  63844.906250        NaN       NaN   \n",
       "2021011900083  2021-01-19T21:00:10.286715  63846.636719        NaN       NaN   \n",
       "2021011900082  2021-01-19T21:00:05.738265  63845.871094        NaN       NaN   \n",
       "2021011900081  2021-01-19T21:00:01.181027  63843.125000        NaN       NaN   \n",
       "\n",
       "                   Temp2  TempErr2  \n",
       "2022050500290  16.495535       0.0  \n",
       "2022050500289  16.495535       0.0  \n",
       "2022050500288  16.517857       0.0  \n",
       "2022050500287  16.517857       0.0  \n",
       "2022050500286  16.517857       0.0  \n",
       "...                  ...       ...  \n",
       "2021011900085        NaN       NaN  \n",
       "2021011900084        NaN       NaN  \n",
       "2021011900083        NaN       NaN  \n",
       "2021011900082        NaN       NaN  \n",
       "2021011900081        NaN       NaN  \n",
       "\n",
       "[2630 rows x 10 columns]"
      ]
     },
     "execution_count": 52,
     "metadata": {},
     "output_type": "execute_result"
    }
   ],
   "source": [
    "df = pd.read_csv('data/flat_field_pairs_auxTel_2022_flux_temp.csv', index_col=0)\n",
    "df"
   ]
  },
  {
   "cell_type": "code",
   "execution_count": 53,
   "metadata": {},
   "outputs": [],
   "source": [
    "df_all = df.to_numpy().T\n",
    "exposures = df_all[2]\n",
    "days = df_all[0]\n",
    "seq_num = df_all[1]\n",
    "exp_time = df_all[3]\n",
    "times = df_all[4]\n",
    "flux = df_all[5].astype(float)\n",
    "temp = df_all[6].astype(float)\n",
    "tempErr = df_all[7].astype(float)\n"
   ]
  },
  {
   "cell_type": "code",
   "execution_count": 55,
   "metadata": {},
   "outputs": [
    {
     "name": "stdout",
     "output_type": "stream",
     "text": [
      "Number of Good Exposures 32\n",
      "Number of Good Pairs 16.0\n"
     ]
    }
   ],
   "source": [
    "delta = 500\n",
    "flux_low, flux_high = 5000-delta, 10000+delta\n",
    "flux_mask = (flux>flux_low)&(flux<flux_high)\n",
    "\n",
    "temp_nan = np.isnan(temp)\n",
    "\n",
    "good = flux_mask&(~temp_nan)\n",
    "\n",
    "print(f'Number of Good Exposures {np.count_nonzero(good)}')\n",
    "print(f'Number of Good Pairs {np.count_nonzero(good)/2}')"
   ]
  },
  {
   "cell_type": "code",
   "execution_count": 56,
   "metadata": {},
   "outputs": [
    {
     "name": "stdout",
     "output_type": "stream",
     "text": [
      "pipetask run -j 32 -d \"detector IN (0) AND instrument='LATISS' AND exposure IN (2022022400046, 2022022400062, 2022022400067, 2022022400068, 2022022400071) AND exposure.observation_type='flat'\" -b /repo/main -c isr:doFlat=False -i LATISS/raw/all,LATISS/calib,LATISS/calib -o u/jesteves/latiss/ptc_tREB_rerun_20220224 -p $CP_PIPE_DIR/pipelines/Latiss/cpPtc.yaml#gainFromFlatPairs --register-dataset-types\n",
      "\n",
      "\n",
      "pipetask run -j 32 -d \"detector IN (0) AND instrument='LATISS' AND exposure IN (2022040500093, 2022040500094, 2022040500095, 2022040500131, 2022040500132) AND exposure.observation_type='flat'\" -b /repo/main -c isr:doFlat=False -i LATISS/raw/all,LATISS/calib,LATISS/calib -o u/jesteves/latiss/ptc_tREB_rerun_20220405 -p $CP_PIPE_DIR/pipelines/Latiss/cpPtc.yaml#gainFromFlatPairs --register-dataset-types\n",
      "\n",
      "\n",
      "pipetask run -j 32 -d \"detector IN (0) AND instrument='LATISS' AND exposure IN (2022040600136, 2022040600137, 2022040600138, 2022040600139, 2022040600140, 2022040600141, 2022040600142, 2022040600143, 2022040600144, 2022040600145) AND exposure.observation_type='flat'\" -b /repo/main -c isr:doFlat=False -i LATISS/raw/all,LATISS/calib,LATISS/calib -o u/jesteves/latiss/ptc_tREB_rerun_20220406 -p $CP_PIPE_DIR/pipelines/Latiss/cpPtc.yaml#gainFromFlatPairs --register-dataset-types\n",
      "\n",
      "\n",
      "pipetask run -j 32 -d \"detector IN (0) AND instrument='LATISS' AND exposure IN (2022050300095, 2022050300096, 2022050300097, 2022050300098) AND exposure.observation_type='flat'\" -b /repo/main -c isr:doFlat=False -i LATISS/raw/all,LATISS/calib,LATISS/calib -o u/jesteves/latiss/ptc_tREB_rerun_20220503 -p $CP_PIPE_DIR/pipelines/Latiss/cpPtc.yaml#gainFromFlatPairs --register-dataset-types\n",
      "\n",
      "\n",
      "pipetask run -j 32 -d \"detector IN (0) AND instrument='LATISS' AND exposure IN (2022050400136, 2022050400137, 2022050400138, 2022050400139) AND exposure.observation_type='flat'\" -b /repo/main -c isr:doFlat=False -i LATISS/raw/all,LATISS/calib,LATISS/calib -o u/jesteves/latiss/ptc_tREB_rerun_20220504 -p $CP_PIPE_DIR/pipelines/Latiss/cpPtc.yaml#gainFromFlatPairs --register-dataset-types\n",
      "\n",
      "\n",
      "pipetask run -j 32 -d \"detector IN (0) AND instrument='LATISS' AND exposure IN (2022050500251, 2022050500252, 2022050500253, 2022050500254) AND exposure.observation_type='flat'\" -b /repo/main -c isr:doFlat=False -i LATISS/raw/all,LATISS/calib,LATISS/calib -o u/jesteves/latiss/ptc_tREB_rerun_20220505 -p $CP_PIPE_DIR/pipelines/Latiss/cpPtc.yaml#gainFromFlatPairs --register-dataset-types\n",
      "\n",
      "\n"
     ]
    }
   ],
   "source": [
    "# for a given day\n",
    "# get good exposures\n",
    "# print synthax\n",
    "\n",
    "for day in np.unique(days[good]):\n",
    "    this_day = days==day\n",
    "    \n",
    "    # get the pair list\n",
    "    pair_list = list(np.flip(exposures[good & this_day],0))\n",
    "    pair_list = [str(exp) for exp in pair_list]\n",
    "    pair_list_str = (', ').join(pair_list)\n",
    "    \n",
    "    # print the synthax\n",
    "    print(base.format(day=day, pair_list_str=pair_list_str))\n",
    "    print('\\n')"
   ]
  },
  {
   "cell_type": "code",
   "execution_count": null,
   "metadata": {},
   "outputs": [],
   "source": []
  },
  {
   "cell_type": "code",
   "execution_count": 174,
   "metadata": {},
   "outputs": [
    {
     "name": "stdout",
     "output_type": "stream",
     "text": [
      "Collection: u/jesteves/latiss/ptc_tREB_rerun_20220224\n",
      "Collection: u/jesteves/latiss/ptc_tREB_rerun_20220405\n",
      "Collection: u/jesteves/latiss/ptc_tREB_rerun_20220406\n",
      "Collection: u/jesteves/latiss/ptc_tREB_rerun_20220503\n",
      "Collection: u/jesteves/latiss/ptc_tREB_rerun_20220504\n",
      "Collection: u/jesteves/latiss/ptc_tREB_rerun_20220505\n"
     ]
    }
   ],
   "source": [
    "# days = list(np.unique(days[good]))\n",
    "butlers = []\n",
    "for day in np.unique(days[good]):\n",
    "    print(f\"Collection: u/jesteves/latiss/ptc_tREB_rerun_{day}\")\n",
    "    butleri = dafButler.Butler(\"/repo/main\", collections=[\"LATISS/raw/all\",\"LATISS/calib\", \n",
    "                                                          f\"u/jesteves/latiss/ptc_tREB_rerun_{day}\"])\n",
    "    butlers.append(butleri)"
   ]
  },
  {
   "cell_type": "code",
   "execution_count": null,
   "metadata": {},
   "outputs": [],
   "source": []
  },
  {
   "cell_type": "code",
   "execution_count": 180,
   "metadata": {},
   "outputs": [
    {
     "name": "stdout",
     "output_type": "stream",
     "text": [
      "20220224\n",
      "2022022400068\n",
      "1.0704156737790589\n",
      "2022022400066\n",
      "1.0681586688271882\n",
      "2022022400064\n",
      "0.0\n",
      "2022022400062\n",
      "1.063859373588751\n",
      "2022022400054\n",
      "0.0\n",
      "2022022400052\n",
      "0.0\n",
      "2022022400048\n",
      "0.0\n",
      "2022022400046\n",
      "0.8016602508575462\n",
      "20220405\n",
      "2022040500131\n",
      "0.0\n",
      "2022040500095\n",
      "1.062799202164569\n",
      "2022040500093\n",
      "1.0560730563707925\n",
      "20220406\n",
      "2022040600144\n",
      "1.0663161487846544\n",
      "2022040600142\n",
      "1.0659638766646355\n",
      "2022040600140\n",
      "1.0648319186548947\n",
      "20220503\n",
      "2022050300097\n",
      "1.0661916484152938\n",
      "2022050300095\n",
      "1.0596036933100077\n",
      "20220504\n",
      "2022050400138\n",
      "1.0632310721457183\n",
      "2022050400136\n",
      "1.0553130996335034\n",
      "20220505\n",
      "2022050500253\n",
      "1.063543761668801\n",
      "2022050500134\n",
      "0.8092251282212828\n"
     ]
    }
   ],
   "source": [
    "data_list = []\n",
    "run_names = []\n",
    "for day,butler in zip(np.unique(days[good]),butlers):\n",
    "    this_day = days==day\n",
    "    indices = np.where(good & this_day)[0]\n",
    "    print(day)\n",
    "    for i in indices:\n",
    "        print(exposures[i])\n",
    "        run_name = str(exposures[i])\n",
    "        ptcDataset = cpCovs = butler.get('cpCovariances', exposure=exposures[i], detector=0, instrument='LATISS')\n",
    "        gain_data = ptcDataset.gain\n",
    "        gain_err_data = ptcDataset.gainErr\n",
    "        amps = gain_data.keys()\n",
    "        gains = []\n",
    "        gain_err = []\n",
    "        amp_nums = []\n",
    "        for ii, amp in enumerate(amps):\n",
    "            gains.append(gain_data[amp])\n",
    "            gain_err.append(gain_err_data[amp])\n",
    "            amp_nums.append(ii)\n",
    "        data = dict()\n",
    "        data['gain'] = gains\n",
    "        data['gain_err'] = gain_err\n",
    "        data['amps'] = amp_nums\n",
    "        data['temp'] = temp[i]*np.ones_like(gains)\n",
    "        #data['tempErr'] = tempErr[i]*np.ones_like(gains)\n",
    "        print(np.mean(gains))\n",
    "        data_list.append(data)\n",
    "        run_names.append(run_name)"
   ]
  },
  {
   "cell_type": "code",
   "execution_count": null,
   "metadata": {},
   "outputs": [],
   "source": []
  },
  {
   "cell_type": "code",
   "execution_count": null,
   "metadata": {},
   "outputs": [],
   "source": []
  },
  {
   "cell_type": "code",
   "execution_count": 181,
   "metadata": {},
   "outputs": [],
   "source": [
    "RAFT = 'RXX'\n",
    "markers = ['o', 'x', 'P', '*', '^', 'v']"
   ]
  },
  {
   "cell_type": "code",
   "execution_count": 182,
   "metadata": {},
   "outputs": [
    {
     "data": {
      "image/png": "[encoded data removed]",
      "text/plain": [
       "<Figure size 720x288 with 1 Axes>"
      ]
     },
     "metadata": {},
     "output_type": "display_data"
    }
   ],
   "source": [
    "plt.figure(figsize=(10,4))\n",
    "plt.title(\"AuxTel Gains\", fontsize=24)\n",
    "amp_nums = data['amps']\n",
    "for i,data in enumerate(data_list):\n",
    "    gains = data['gain']\n",
    "    gain_err = data['gain_err']\n",
    "    plt.errorbar(amp_nums, gains, yerr=gain_err, label = run_names[i])#, marker = markers[i]\n",
    "    #plt.ylim(0.95, 1.4) \n",
    "    plt.ylabel(\"Gain\")\n",
    "    plt.xticks(amp_nums,amps, fontsize=14)\n",
    "    plt.legend(loc = 'upper right', fontsize = 14)\n",
    "\n",
    "# plt.savefig(f'./plots/Gain_Summary_{date}.pdf',dpi=100)"
   ]
  },
  {
   "cell_type": "code",
   "execution_count": null,
   "metadata": {},
   "outputs": [],
   "source": []
  },
  {
   "cell_type": "code",
   "execution_count": null,
   "metadata": {},
   "outputs": [],
   "source": []
  }
 ],
 "metadata": {
  "kernelspec": {
   "display_name": "LSST",
   "language": "python",
   "name": "lsst"
  },
  "language_info": {
   "codemirror_mode": {
    "name": "ipython",
    "version": 3
   },
   "file_extension": ".py",
   "mimetype": "text/x-python",
   "name": "python",
   "nbconvert_exporter": "python",
   "pygments_lexer": "ipython3",
   "version": "3.10.4"
  }
 },
 "nbformat": 4,
 "nbformat_minor": 4
}
