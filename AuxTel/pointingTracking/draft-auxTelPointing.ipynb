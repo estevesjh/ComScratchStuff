{
 "cells": [
  {
   "cell_type": "markdown",
   "id": "833bed66-e5a4-4096-8223-e08aa31a01eb",
   "metadata": {
    "tags": []
   },
   "source": [
    "# Draft: AuxTel Pointing\n",
    "\n",
    "Ioana, you might jump Analyse The Telescope Pointing"
   ]
  },
  {
   "cell_type": "code",
   "execution_count": 28,
   "id": "c9820819-a7d1-4daf-9aa2-a588da2d8c1b",
   "metadata": {},
   "outputs": [],
   "source": [
    "import numpy as np\n",
    "import matplotlib.pyplot as plt\n",
    "from matplotlib.colors import LogNorm, PowerNorm\n",
    "\n",
    "from astropy.table import Table, join"
   ]
  },
  {
   "cell_type": "code",
   "execution_count": 29,
   "id": "1c41d70e-7f4a-4819-919f-b2ddf41fda6d",
   "metadata": {},
   "outputs": [],
   "source": [
    "%matplotlib inline\n"
   ]
  },
  {
   "cell_type": "markdown",
   "id": "9afa085e-8950-4146-8997-559029df0601",
   "metadata": {
    "jp-MarkdownHeadingCollapsed": true,
    "tags": []
   },
   "source": [
    "## Develop Query Butler wcs"
   ]
  },
  {
   "cell_type": "code",
   "execution_count": 32,
   "id": "cc3a07f2-1eab-4175-af42-6c4b39828093",
   "metadata": {},
   "outputs": [],
   "source": [
    "repo = '/repo/main/butler.yaml'\n",
    "instrument = 'LATISS'\n",
    "# collection = 'u/mfl/testProcessCcd'\n",
    "collection = 'u/mfl/testProcessCcd_srcMatchFull_181e6356'\n",
    "\n",
    "import lsst.rapid.analysis.butlerUtils as bu\n",
    "butler = bu.makeDefaultLatissButler('NCSA', extraCollections=[collection])\n",
    "registry=butler.registry"
   ]
  },
  {
   "cell_type": "code",
   "execution_count": 34,
   "id": "f6949dc8-f905-4a86-93a0-f47fd6bd7f80",
   "metadata": {},
   "outputs": [
    {
     "name": "stdout",
     "output_type": "stream",
     "text": [
      "1475 DatasetType('raw', {band, instrument, detector, physical_filter, exposure}, Exposure)\n",
      "1 DatasetType('camera', {instrument}, Camera, isCalibration=True)\n",
      "51623 DatasetType('sdss_dr9_fink_v5b', {htm7}, SimpleCatalog)\n",
      "130924 DatasetType('ps1_pv3_3pi_20170110', {htm7}, SimpleCatalog)\n",
      "131072 DatasetType('gaia_dr2_20200414', {htm7}, SimpleCatalog)\n",
      "1421 DatasetType('srcMatchFull', {band, instrument, detector, physical_filter, visit_system, visit}, Catalog)\n",
      "1459 DatasetType('icSrc', {band, instrument, detector, physical_filter, visit_system, visit}, SourceCatalog)\n",
      "1421 DatasetType('sourceTable', {band, instrument, detector, physical_filter, visit_system, visit}, DataFrame)\n",
      "1421 DatasetType('src', {band, instrument, detector, physical_filter, visit_system, visit}, SourceCatalog)\n",
      "1421 DatasetType('source', {band, instrument, detector, physical_filter, visit_system, visit}, DataFrame)\n",
      "1421 DatasetType('srcMatch', {band, instrument, detector, physical_filter, visit_system, visit}, Catalog)\n",
      "1421 DatasetType('calexp', {band, instrument, detector, physical_filter, visit_system, visit}, ExposureF)\n",
      "1421 DatasetType('calexpBackground', {band, instrument, detector, physical_filter, visit_system, visit}, Background)\n",
      "1 DatasetType('src_schema', {}, SourceCatalog)\n",
      "1 DatasetType('icSrc_schema', {}, SourceCatalog)\n",
      "1 DatasetType('packages', {}, Packages)\n",
      "1475 DatasetType('postISRCCD', {band, instrument, detector, physical_filter, exposure}, Exposure)\n",
      "1475 DatasetType('isr_metadata', {band, instrument, detector, physical_filter, exposure}, PropertySet)\n",
      "1 DatasetType('isr_config', {}, Config)\n",
      "1459 DatasetType('icExp', {band, instrument, detector, physical_filter, visit_system, visit}, ExposureF)\n",
      "1459 DatasetType('icExpBackground', {band, instrument, detector, physical_filter, visit_system, visit}, Background)\n",
      "1459 DatasetType('characterizeImage_metadata', {band, instrument, detector, physical_filter, visit_system, visit}, PropertySet)\n",
      "1421 DatasetType('calibrate_metadata', {band, instrument, detector, physical_filter, visit_system, visit}, PropertySet)\n",
      "1421 DatasetType('writeSourceTable_metadata', {band, instrument, detector, physical_filter, visit_system, visit}, PropertySet)\n",
      "1421 DatasetType('transformSourceTable_metadata', {band, instrument, detector, physical_filter, visit_system, visit}, PropertySet)\n",
      "1 DatasetType('characterizeImage_config', {}, Config)\n",
      "1 DatasetType('calibrate_config', {}, Config)\n",
      "1 DatasetType('writeSourceTable_config', {}, Config)\n",
      "1 DatasetType('transformSourceTable_config', {}, Config)\n",
      "1459 DatasetType('calibrate_log', {band, instrument, detector, physical_filter, visit_system, visit}, ButlerLogRecords)\n",
      "1475 DatasetType('isr_log', {band, instrument, detector, physical_filter, exposure}, ButlerLogRecords)\n",
      "1475 DatasetType('characterizeImage_log', {band, instrument, detector, physical_filter, visit_system, visit}, ButlerLogRecords)\n",
      "1421 DatasetType('transformSourceTable_log', {band, instrument, detector, physical_filter, visit_system, visit}, ButlerLogRecords)\n",
      "1421 DatasetType('writeSourceTable_log', {band, instrument, detector, physical_filter, visit_system, visit}, ButlerLogRecords)\n"
     ]
    }
   ],
   "source": [
    "for dtype in registry.queryDatasetTypes():\n",
    "    try:\n",
    "        datasetRefs = list(registry.queryDatasets(datasetType=dtype,collections=collection))\n",
    "        if len(datasetRefs)>0:\n",
    "            print(len(datasetRefs), dtype )\n",
    "    except:\n",
    "        #print(\"Error\", dtype )\n",
    "        i=0"
   ]
  },
  {
   "cell_type": "code",
   "execution_count": 179,
   "id": "73ad99fc-3fd4-4dc5-8245-e27bfbd7d771",
   "metadata": {},
   "outputs": [
    {
     "name": "stdout",
     "output_type": "stream",
     "text": [
      "1421\n"
     ]
    }
   ],
   "source": [
    "dataset_refs = list(registry.queryDatasets('calexp', collections=collection))\n",
    "dataset_refs = sorted(dataset_refs, key=lambda x : x.dataId['visit'])\n",
    "print(len(dataset_refs))"
   ]
  },
  {
   "cell_type": "code",
   "execution_count": 39,
   "id": "1050bdfd-1326-42dd-9d27-a8775aef3a84",
   "metadata": {},
   "outputs": [],
   "source": [
    "expIds = [int(ref.dataId['visit']) for ref in dataset_refs]"
   ]
  },
  {
   "cell_type": "code",
   "execution_count": null,
   "id": "5dd9cc21-8471-4b5f-a309-ff36f7bebacd",
   "metadata": {},
   "outputs": [],
   "source": []
  },
  {
   "cell_type": "code",
   "execution_count": 52,
   "id": "2576b1f8-2a0c-4230-9a9c-381704afd839",
   "metadata": {},
   "outputs": [],
   "source": [
    "day_obs = int(str(expIds[0])[:8])\n",
    "              \n",
    "dataId = {\"instrument\": instrument, \"exposure.day_obs\": day_obs, \"visit\": expIds[0], \"detector\": 0}\n",
    "wcsInfo = butler.get('calexp.wcs', dataId)"
   ]
  },
  {
   "cell_type": "markdown",
   "id": "218c8422-3d5c-47b7-819a-fad28de56a50",
   "metadata": {},
   "source": [
    "https://pipelines.lsst.io/py-api/lsst.afw.geom.SkyWcs.html#lsst.afw.geom.SkyWcs"
   ]
  },
  {
   "cell_type": "code",
   "execution_count": 74,
   "id": "dc7dee9b-4563-4c6a-99f6-dcc8bf21c949",
   "metadata": {},
   "outputs": [
    {
     "data": {
      "text/plain": [
       "lsst.afw.geom.SkyWcs"
      ]
     },
     "execution_count": 74,
     "metadata": {},
     "output_type": "execute_result"
    }
   ],
   "source": [
    "type(wcsInfo)"
   ]
  },
  {
   "cell_type": "code",
   "execution_count": null,
   "id": "4a71e987-ef80-4758-97f5-11a970b79638",
   "metadata": {},
   "outputs": [
    {
     "data": {
      "text/plain": [
       "FITS standard SkyWcs:\n",
       "Sky Origin: (144.7027925874, -60.0833961515)\n",
       "Pixel Origin: (2088, 2006)\n",
       "Pixel Scale: 0.095669 arcsec/pixel"
      ]
     },
     "execution_count": 75,
     "metadata": {},
     "output_type": "execute_result"
    }
   ],
   "source": [
    "wcsInfo"
   ]
  },
  {
   "cell_type": "code",
   "execution_count": 106,
   "id": "f7b597d7-8613-4809-b895-1369ed0ce80a",
   "metadata": {},
   "outputs": [],
   "source": [
    "# sp = wcsInfo.getSkyOrigin()\n",
    "ra, dec = wcsInfo.getSkyOrigin().getRa().asDegrees(), wcsInfo.getSkyOrigin().getDec().asDegrees()"
   ]
  },
  {
   "cell_type": "code",
   "execution_count": 110,
   "id": "52c5ff20-2e6c-48ec-ba8d-790f76360a80",
   "metadata": {},
   "outputs": [
    {
     "data": {
      "text/html": [
       "<pre style=\"margin: 0.1em;\n",
       "padding-left: 0.25em;\n",
       "border-left-style: solid;\n",
       "font-family: var(--jp-code-font-family);\n",
       "font-size: var(--jp-code-font-size);\n",
       "line-height: var(--jp-code-line-height);\n",
       "\"><span style=\"color: var(--jp-warn-color2)\">lsst.obs.lsst.translators.latiss</span> <span style=\"color: var(--jp-warn-color0)\">WARNING</span>: /lsstdata/offline/instrument/LATISS/storage/2020-02-18/AT_O_20200217_000328--R00S00.fits(AT_O_20200217_000328): Dark time less than exposure time. Setting dark time to the exposure time.</pre>"
      ],
      "text/plain": [
       "<IPython.core.display.HTML object>"
      ]
     },
     "metadata": {},
     "output_type": "display_data"
    },
    {
     "data": {
      "text/html": [
       "<pre style=\"margin: 0.1em;\n",
       "padding-left: 0.25em;\n",
       "border-left-style: solid;\n",
       "font-family: var(--jp-code-font-family);\n",
       "font-size: var(--jp-code-font-size);\n",
       "line-height: var(--jp-code-line-height);\n",
       "\"><span style=\"color: var(--jp-warn-color2)\">lsst.obs.lsst.assembly</span> <span style=\"color: var(--jp-warn-color0)\">WARNING</span>: /lsstdata/offline/instrument/LATISS/storage/2020-02-18/AT_O_20200217_000328--R00S00.fits: outAmp.getRawBBox() != data.getBBox(); patching. ((minimum=(0, 0), maximum=(543, 2047)) v. (minimum=(0, 0), maximum=(575, 2047)))</pre>"
      ],
      "text/plain": [
       "<IPython.core.display.HTML object>"
      ]
     },
     "metadata": {},
     "output_type": "display_data"
    }
   ],
   "source": [
    "exp = butler.get('raw', dataId)"
   ]
  },
  {
   "cell_type": "code",
   "execution_count": 137,
   "id": "6464d4ac-001f-42b4-a54f-b3e63622a34a",
   "metadata": {},
   "outputs": [
    {
     "data": {
      "text/html": [
       "<pre style=\"margin: 0.1em;\n",
       "padding-left: 0.25em;\n",
       "border-left-style: solid;\n",
       "font-family: var(--jp-code-font-family);\n",
       "font-size: var(--jp-code-font-size);\n",
       "line-height: var(--jp-code-line-height);\n",
       "\"><span style=\"color: var(--jp-warn-color2)\">lsst.obs.lsst.translators.latiss</span> <span style=\"color: var(--jp-warn-color0)\">WARNING</span>: /lsstdata/offline/instrument/LATISS/storage/2020-02-18/AT_O_20200217_000328--R00S00.fits(AT_O_20200217_000328): Dark time less than exposure time. Setting dark time to the exposure time.</pre>"
      ],
      "text/plain": [
       "<IPython.core.display.HTML object>"
      ]
     },
     "metadata": {},
     "output_type": "display_data"
    }
   ],
   "source": [
    "toto = butler.get('raw.metadata', dataId)"
   ]
  },
  {
   "cell_type": "code",
   "execution_count": 139,
   "id": "7711f1fc-c2d8-491f-81ad-2f38c439041f",
   "metadata": {},
   "outputs": [],
   "source": [
    "# toto.toDict()"
   ]
  },
  {
   "cell_type": "code",
   "execution_count": 117,
   "id": "35be242f-ede6-4a53-88b5-372d69fc3760",
   "metadata": {},
   "outputs": [
    {
     "data": {
      "text/plain": [
       "{'SIMPLE': True,\n",
       " 'EXTEND': True,\n",
       " 'COMMENT': [\"  FITS (Flexible Image Transport System) format is defined in 'Astronomy\",\n",
       "  \"  and Astrophysics', volume 376, page 359; bibcode: 2001A&A...376..359H\",\n",
       "  \"  FITS (Flexible Image Transport System) format is defined in 'Astronomy\",\n",
       "  \"  and Astrophysics', volume 376, page 359; bibcode: 2001A&A...376..359H\",\n",
       "  '---- Date, night and basic image information ----',\n",
       "  '---- Telescope info, location, observer ----',\n",
       "  '---- Pointing info, etc. ----',\n",
       "  '---- TAN Projection ----',\n",
       "  '---- Image-identifying used to build OBS-ID ----',\n",
       "  '---- Information from Camera ----',\n",
       "  '---- Geometry from Camera ----',\n",
       "  '---- Filter/grating information ----',\n",
       "  '---- Exposure-related information ----',\n",
       "  '---- Header information ----',\n",
       "  '---- Checksums ----'],\n",
       " 'ORIGIN': 'LSST DM Header Service',\n",
       " 'TIMESYS': 'TAI',\n",
       " 'DATE': '2020-02-18T04:08:12.684',\n",
       " 'DATE-OBS': '2020-02-18T04:08:04.583',\n",
       " 'DATE-BEG': '2020-02-18T04:08:04.583',\n",
       " 'DATE-END': '2020-02-18T04:08:49.380',\n",
       " 'MJD': 58897.1723690288,\n",
       " 'MJD-OBS': 58897.1722752662,\n",
       " 'MJD-BEG': 58897.1722752662,\n",
       " 'MJD-END': 58897.1727937465,\n",
       " 'OBSID': 'AT_O_20200217_000328',\n",
       " 'GROUPID': '2020-02-18T04:08:04.493',\n",
       " 'IMGTYPE': 'OBJECT',\n",
       " 'BUNIT': 'adu',\n",
       " 'TELESCOP': 'LSST AuxTelescope',\n",
       " 'INSTRUME': 'LATISS',\n",
       " 'OBSERVER': 'LSST',\n",
       " 'OBS-LONG': -70.749417,\n",
       " 'OBS-LAT': -30.244639,\n",
       " 'OBS-ELEV': 2663.0,\n",
       " 'OBSGEO-X': 1818938.94,\n",
       " 'OBSGEO-Y': -5208470.95,\n",
       " 'OBSGEO-Z': -3195172.08,\n",
       " 'RA': 144.69658625,\n",
       " 'DEC': -60.0918727777778,\n",
       " 'RASTART': None,\n",
       " 'DECSTART': None,\n",
       " 'RAEND': None,\n",
       " 'DECEND': None,\n",
       " 'ROTPA': 37.450522,\n",
       " 'ROTCOORD': 'sky',\n",
       " 'HASTART': None,\n",
       " 'ELSTART': 59.8590319438808,\n",
       " 'AZSTART': 173.810313124617,\n",
       " 'AMSTART': None,\n",
       " 'HAEND': None,\n",
       " 'ELEND': 59.8620842977398,\n",
       " 'AZEND': 173.842711527308,\n",
       " 'AMEND': None,\n",
       " 'INSTPORT': None,\n",
       " 'ATM3PORT': None,\n",
       " 'TRACKSYS': 'SIDEREAL',\n",
       " 'FOCUSZ': 0.32859477626,\n",
       " 'OBJECT': 'HD 83832',\n",
       " 'TELCODE': 'AT',\n",
       " 'CONTRLLR': 'O',\n",
       " 'DAYOBS': '20200217',\n",
       " 'SEQNUM': 328,\n",
       " 'CCD_MANU': '',\n",
       " 'CCD_TYPE': '',\n",
       " 'CCD_SERN': '',\n",
       " 'LSST_NUM': 'ITL-3800C-068',\n",
       " 'SEQCKSUM': 2,\n",
       " 'SEQNAME': 'PathFinder',\n",
       " 'REBNAME': '',\n",
       " 'CONTNUM': '',\n",
       " 'IMAGETAG': '',\n",
       " 'TEMP_SET': -104.150001525879,\n",
       " 'CCDTEMP': -100.805046081543,\n",
       " 'OVERH': None,\n",
       " 'OVERV': None,\n",
       " 'PREH': None,\n",
       " 'FILTER': 'empty_3',\n",
       " 'FILTPOS': 3,\n",
       " 'GRATING': 'empty_1',\n",
       " 'GRATPOS': 1,\n",
       " 'LINSPOS': 60.0,\n",
       " 'EXPTIME': 5.0,\n",
       " 'SHUTTIME': None,\n",
       " 'DARKTIME': 0.0,\n",
       " 'FILENAME': 'AT_O_20200217_000328.fits',\n",
       " 'HEADVER': '1.3.1',\n",
       " 'XTENSION': 'IMAGE',\n",
       " 'BITPIX': 32,\n",
       " 'NAXIS': 2,\n",
       " 'NAXIS1': 576,\n",
       " 'NAXIS2': 2048,\n",
       " 'PCOUNT': 0,\n",
       " 'GCOUNT': 1,\n",
       " 'EXTNAME': 'Segment10',\n",
       " 'INHERIT': True,\n",
       " 'DATASEC': '[4:512,1:2000]',\n",
       " 'DETSEC': '[509:1,1:2000]',\n",
       " 'DETSIZE': '[1:4072,1:4000]',\n",
       " 'DTV1': 513,\n",
       " 'DTV2': 0,\n",
       " 'DTM1_1': -1.0,\n",
       " 'DTM2_2': 1.0,\n",
       " 'DTM1_2': 0,\n",
       " 'DTM2_1': 0,\n",
       " 'HIERARCH ASTRO METADATA FIX MODIFIED': True,\n",
       " 'HIERARCH ASTRO METADATA FIX DATE': '2022-03-23T02:12:53.889397',\n",
       " 'HIERARCH ASTRO METADATA FIX FILE': '/opt/lsst/software/stack/stack/miniconda3-py38_4.9.2-3.0.0/Linux64/obs_lsst/g2fccd959b1+ba611afafe/corrections/LATISS-AT_O_20200217_000328.yaml',\n",
       " 'HIERARCH ASTRO METADATA FIX VERSION': 'g2fccd959b1+ba611afafe'}"
      ]
     },
     "execution_count": 117,
     "metadata": {},
     "output_type": "execute_result"
    }
   ],
   "source": [
    "exp.getMetadata().toDict()"
   ]
  },
  {
   "cell_type": "code",
   "execution_count": 121,
   "id": "49394a89-435e-4eb4-88b0-9bf66932cfb7",
   "metadata": {},
   "outputs": [],
   "source": [
    "mData = exp.getMetadata().toDict()"
   ]
  },
  {
   "cell_type": "code",
   "execution_count": 128,
   "id": "ee4a0e61-5ea2-44f5-be5a-be30b359304c",
   "metadata": {},
   "outputs": [],
   "source": [
    "mylist = ['RA','DEC','MJD','EXPTIME','TEMP_SET','CCDTEMP','FILTER',\n",
    "          'ELSTART','ELEND','AZSTART','AZEND','ELSTART']"
   ]
  },
  {
   "cell_type": "code",
   "execution_count": 131,
   "id": "31141eaf-c519-4913-bea1-db5c20a26a15",
   "metadata": {},
   "outputs": [
    {
     "data": {
      "text/plain": [
       "{'RA': 144.69658625,\n",
       " 'DEC': -60.0918727777778,\n",
       " 'MJD': 58897.1723690288,\n",
       " 'EXPTIME': 5.0,\n",
       " 'TEMP_SET': -104.150001525879,\n",
       " 'CCDTEMP': -100.805046081543,\n",
       " 'FILTER': 'empty_3',\n",
       " 'ELSTART': 59.8590319438808,\n",
       " 'ELEND': 59.8620842977398,\n",
       " 'AZSTART': 173.810313124617,\n",
       " 'AZEND': 173.842711527308,\n",
       " 'RA_WCS': 144.70279258740916,\n",
       " 'DEC_WCS': -60.083396151486355}"
      ]
     },
     "execution_count": 131,
     "metadata": {},
     "output_type": "execute_result"
    }
   ],
   "source": [
    "myinfo = {k:mData[k] for k in mylist}\n",
    "myinfo['RA_WCS'] = ra\n",
    "myinfo['DEC_WCS'] = dec\n",
    "\n",
    "myinfo"
   ]
  },
  {
   "cell_type": "code",
   "execution_count": null,
   "id": "910c7054-3fb9-42d8-bbde-94beded2fb3d",
   "metadata": {},
   "outputs": [],
   "source": []
  },
  {
   "cell_type": "code",
   "execution_count": 78,
   "id": "7ef395e3-ce18-452a-ab21-598ebe135ea8",
   "metadata": {},
   "outputs": [],
   "source": [
    "# print(wcsInfo.writeString())"
   ]
  },
  {
   "cell_type": "code",
   "execution_count": 85,
   "id": "0602db08-8533-49f8-83f7-cbacae51f173",
   "metadata": {},
   "outputs": [
    {
     "ename": "TypeError",
     "evalue": "applyForward(): incompatible function arguments. The following argument types are supported:\n    1. (self: astshim.mapping.Mapping, from: numpy.ndarray) -> numpy.ndarray\n    2. (self: astshim.mapping.Mapping, from: List[float]) -> List[float]\n\nInvoked with: astshim.SeriesMap, array([[0, 1, 2, 3, 4, 5, 6, 7, 8, 9],\n       [0, 1, 2, 3, 4, 5, 6, 7, 8, 9]])",
     "output_type": "error",
     "traceback": [
      "\u001b[0;31m---------------------------------------------------------------------------\u001b[0m",
      "\u001b[0;31mTypeError\u001b[0m                                 Traceback (most recent call last)",
      "Input \u001b[0;32mIn [85]\u001b[0m, in \u001b[0;36m<cell line: 2>\u001b[0;34m()\u001b[0m\n\u001b[1;32m      1\u001b[0m x \u001b[38;5;241m=\u001b[39m y \u001b[38;5;241m=\u001b[39m np\u001b[38;5;241m.\u001b[39marange(\u001b[38;5;241m0\u001b[39m,\u001b[38;5;241m10\u001b[39m)\n\u001b[0;32m----> 2\u001b[0m \u001b[43mwcsInfo\u001b[49m\u001b[38;5;241;43m.\u001b[39;49m\u001b[43mpixelToSkyArray\u001b[49m\u001b[43m(\u001b[49m\u001b[43mx\u001b[49m\u001b[43m,\u001b[49m\u001b[43mx\u001b[49m\u001b[43m,\u001b[49m\u001b[43mdegrees\u001b[49m\u001b[38;5;241;43m=\u001b[39;49m\u001b[38;5;28;43;01mTrue\u001b[39;49;00m\u001b[43m)\u001b[49m\n",
      "File \u001b[0;32m/opt/lsst/software/stack/stack/miniconda3-py38_4.9.2-3.0.0/Linux64/afw/g8f2ba02de7+0e50281dbb/python/lsst/afw/geom/skyWcs.py:65\u001b[0m, in \u001b[0;36mSkyWcs.pixelToSkyArray\u001b[0;34m(self, x, y, degrees)\u001b[0m\n\u001b[1;32m     42\u001b[0m \u001b[38;5;124;03m\"\"\"\u001b[39;00m\n\u001b[1;32m     43\u001b[0m \u001b[38;5;124;03mConvert numpy array pixels (x, y) to numpy array sky (ra, dec)\u001b[39;00m\n\u001b[1;32m     44\u001b[0m \u001b[38;5;124;03mpositions.\u001b[39;00m\n\u001b[0;32m   (...)\u001b[0m\n\u001b[1;32m     62\u001b[0m \u001b[38;5;124;03m    degrees=True.\u001b[39;00m\n\u001b[1;32m     63\u001b[0m \u001b[38;5;124;03m\"\"\"\u001b[39;00m\n\u001b[1;32m     64\u001b[0m xy \u001b[38;5;241m=\u001b[39m np\u001b[38;5;241m.\u001b[39mvstack((x, y))\n\u001b[0;32m---> 65\u001b[0m ra, dec \u001b[38;5;241m=\u001b[39m np\u001b[38;5;241m.\u001b[39mvsplit(\u001b[38;5;28;43mself\u001b[39;49m\u001b[38;5;241;43m.\u001b[39;49m\u001b[43mgetTransform\u001b[49m\u001b[43m(\u001b[49m\u001b[43m)\u001b[49m\u001b[38;5;241;43m.\u001b[39;49m\u001b[43mgetMapping\u001b[49m\u001b[43m(\u001b[49m\u001b[43m)\u001b[49m\u001b[38;5;241;43m.\u001b[39;49m\u001b[43mapplyForward\u001b[49m\u001b[43m(\u001b[49m\u001b[43mxy\u001b[49m\u001b[43m)\u001b[49m, \u001b[38;5;241m2\u001b[39m)\n\u001b[1;32m     66\u001b[0m ra \u001b[38;5;241m%\u001b[39m\u001b[38;5;241m=\u001b[39m (\u001b[38;5;241m2.\u001b[39m\u001b[38;5;241m*\u001b[39mnp\u001b[38;5;241m.\u001b[39mpi)\n\u001b[1;32m     68\u001b[0m \u001b[38;5;28;01mif\u001b[39;00m degrees:\n",
      "\u001b[0;31mTypeError\u001b[0m: applyForward(): incompatible function arguments. The following argument types are supported:\n    1. (self: astshim.mapping.Mapping, from: numpy.ndarray) -> numpy.ndarray\n    2. (self: astshim.mapping.Mapping, from: List[float]) -> List[float]\n\nInvoked with: astshim.SeriesMap, array([[0, 1, 2, 3, 4, 5, 6, 7, 8, 9],\n       [0, 1, 2, 3, 4, 5, 6, 7, 8, 9]])"
     ]
    }
   ],
   "source": [
    "# The array transformation function is not working\n",
    "\n",
    "x = y = np.arange(0,10)\n",
    "wcsInfo.pixelToSkyArray(x,x,degrees=True)"
   ]
  },
  {
   "cell_type": "code",
   "execution_count": null,
   "id": "0df20dd7-b69a-441c-916f-d48476ff89bb",
   "metadata": {},
   "outputs": [],
   "source": []
  },
  {
   "cell_type": "code",
   "execution_count": null,
   "id": "b5f8df18-32e2-41a0-a52b-9d74db73bc8a",
   "metadata": {},
   "outputs": [],
   "source": []
  },
  {
   "cell_type": "markdown",
   "id": "36f548fd-9cd1-4897-84c3-5d7a1c56cbd6",
   "metadata": {},
   "source": [
    "## Query Pointing Info"
   ]
  },
  {
   "cell_type": "code",
   "execution_count": 183,
   "id": "ee737138-11f2-4c8d-8304-dedadb526640",
   "metadata": {},
   "outputs": [],
   "source": [
    "mylist = ['RA','DEC','MJD','EXPTIME','TEMP_SET','CCDTEMP','FILTER',\n",
    "          'ELSTART','ELEND','AZSTART','AZEND','ELSTART']\n",
    "\n",
    "def getSkyOriginValues(wcsInfo):\n",
    "    ra = wcsInfo.getSkyOrigin().getRa().asDegrees()\n",
    "    dec = wcsInfo.getSkyOrigin().getDec().asDegrees()\n",
    "    return ra, dec\n",
    "\n",
    "def query_wcs_pointing(dataId):\n",
    "    wcsInfo = butler.get('calexp.wcs', dataId)\n",
    "    ra, dec = getSkyOriginValues(wcsInfo)\n",
    "    return ra, dec\n",
    "\n",
    "def query_main_pointing_info(expId):\n",
    "    day_obs = int(str(expId)[:8])\n",
    "    dataId = {\"instrument\": instrument, \"exposure.day_obs\": day_obs, \"visit\": expId, \"detector\": 0}\n",
    "\n",
    "    ra, dec = query_wcs_pointing(dataId)\n",
    "    \n",
    "    mData = butler.get('raw.metadata', dataId).toDict()\n",
    "    myinfo = {k:mData[k] for k in mylist}\n",
    "    myinfo['RA_WCS'] = ra\n",
    "    myinfo['DEC_WCS'] = dec\n",
    "    \n",
    "    return myinfo"
   ]
  },
  {
   "cell_type": "code",
   "execution_count": 184,
   "id": "30c68f55-25f8-423d-84da-28eb8da438be",
   "metadata": {},
   "outputs": [
    {
     "name": "stdout",
     "output_type": "stream",
     "text": [
      "1421\n"
     ]
    }
   ],
   "source": [
    "dataset_refs = list(registry.queryDatasets('calexp', collections=collection))\n",
    "dataset_refs = sorted(dataset_refs, key=lambda x : x.dataId['visit'])\n",
    "print(len(dataset_refs))"
   ]
  },
  {
   "cell_type": "code",
   "execution_count": 185,
   "id": "73a857b0-034e-41d4-be3d-457104a31224",
   "metadata": {},
   "outputs": [],
   "source": [
    "expIds = [int(ref.dataId['visit']) for ref in dataset_refs]"
   ]
  },
  {
   "cell_type": "code",
   "execution_count": 198,
   "id": "014a04b3-2d8f-466f-be77-6458cf755209",
   "metadata": {},
   "outputs": [],
   "source": [
    "%%capture\n",
    "\n",
    "tables = []\n",
    "for expId in expIds:\n",
    "    print(f'exposure: {expId}')\n",
    "    tables.append(query_main_pointing_info(expId))"
   ]
  },
  {
   "cell_type": "code",
   "execution_count": null,
   "id": "0cd98795-fe37-438b-b0be-e37500bd338e",
   "metadata": {},
   "outputs": [],
   "source": []
  },
  {
   "cell_type": "code",
   "execution_count": 199,
   "id": "5df0e78c-abd2-41b0-9da1-6d6dd13ebb47",
   "metadata": {},
   "outputs": [
    {
     "data": {
      "text/plain": [
       "{'RA': 144.69658625,\n",
       " 'DEC': -60.0918727777778,\n",
       " 'MJD': 58897.1723690288,\n",
       " 'EXPTIME': 5.0,\n",
       " 'TEMP_SET': -104.150001525879,\n",
       " 'CCDTEMP': -100.805046081543,\n",
       " 'FILTER': 'empty_3',\n",
       " 'ELSTART': 59.8590319438808,\n",
       " 'ELEND': 59.8620842977398,\n",
       " 'AZSTART': 173.810313124617,\n",
       " 'AZEND': 173.842711527308,\n",
       " 'RA_WCS': 144.70279258740916,\n",
       " 'DEC_WCS': -60.083396151486355}"
      ]
     },
     "execution_count": 199,
     "metadata": {},
     "output_type": "execute_result"
    }
   ],
   "source": [
    "tables[0]"
   ]
  },
  {
   "cell_type": "code",
   "execution_count": 200,
   "id": "4ef3ddfa-0839-4ba4-933f-239ee515686a",
   "metadata": {},
   "outputs": [
    {
     "data": {
      "text/html": [
       "<div>\n",
       "<style scoped>\n",
       "    .dataframe tbody tr th:only-of-type {\n",
       "        vertical-align: middle;\n",
       "    }\n",
       "\n",
       "    .dataframe tbody tr th {\n",
       "        vertical-align: top;\n",
       "    }\n",
       "\n",
       "    .dataframe thead th {\n",
       "        text-align: right;\n",
       "    }\n",
       "</style>\n",
       "<table border=\"1\" class=\"dataframe\">\n",
       "  <thead>\n",
       "    <tr style=\"text-align: right;\">\n",
       "      <th></th>\n",
       "      <th>RA</th>\n",
       "      <th>DEC</th>\n",
       "      <th>MJD</th>\n",
       "      <th>EXPTIME</th>\n",
       "      <th>TEMP_SET</th>\n",
       "      <th>CCDTEMP</th>\n",
       "      <th>FILTER</th>\n",
       "      <th>ELSTART</th>\n",
       "      <th>ELEND</th>\n",
       "      <th>AZSTART</th>\n",
       "      <th>AZEND</th>\n",
       "      <th>RA_WCS</th>\n",
       "      <th>DEC_WCS</th>\n",
       "    </tr>\n",
       "  </thead>\n",
       "  <tbody>\n",
       "    <tr>\n",
       "      <th>0</th>\n",
       "      <td>144.696586</td>\n",
       "      <td>-60.091873</td>\n",
       "      <td>58897.172369</td>\n",
       "      <td>5.0</td>\n",
       "      <td>-104.150002</td>\n",
       "      <td>-100.805046</td>\n",
       "      <td>empty_3</td>\n",
       "      <td>59.859032</td>\n",
       "      <td>59.862084</td>\n",
       "      <td>173.810313</td>\n",
       "      <td>173.842712</td>\n",
       "      <td>144.702793</td>\n",
       "      <td>-60.083396</td>\n",
       "    </tr>\n",
       "    <tr>\n",
       "      <th>1</th>\n",
       "      <td>307.078084</td>\n",
       "      <td>-87.472205</td>\n",
       "      <td>58899.053545</td>\n",
       "      <td>5.0</td>\n",
       "      <td>-104.150002</td>\n",
       "      <td>-100.776344</td>\n",
       "      <td>RG610</td>\n",
       "      <td>28.093086</td>\n",
       "      <td>28.092282</td>\n",
       "      <td>181.448881</td>\n",
       "      <td>181.447321</td>\n",
       "      <td>306.948404</td>\n",
       "      <td>-87.469098</td>\n",
       "    </tr>\n",
       "    <tr>\n",
       "      <th>2</th>\n",
       "      <td>307.078084</td>\n",
       "      <td>-87.472205</td>\n",
       "      <td>58899.053854</td>\n",
       "      <td>5.0</td>\n",
       "      <td>-104.150002</td>\n",
       "      <td>-100.766220</td>\n",
       "      <td>RG610</td>\n",
       "      <td>28.090576</td>\n",
       "      <td>28.089861</td>\n",
       "      <td>181.443863</td>\n",
       "      <td>181.442496</td>\n",
       "      <td>306.948123</td>\n",
       "      <td>-87.468959</td>\n",
       "    </tr>\n",
       "    <tr>\n",
       "      <th>3</th>\n",
       "      <td>307.078084</td>\n",
       "      <td>-87.472205</td>\n",
       "      <td>58899.054891</td>\n",
       "      <td>2.0</td>\n",
       "      <td>-104.150002</td>\n",
       "      <td>-100.795662</td>\n",
       "      <td>empty_1</td>\n",
       "      <td>28.076867</td>\n",
       "      <td>28.076392</td>\n",
       "      <td>181.429553</td>\n",
       "      <td>181.428578</td>\n",
       "      <td>306.945464</td>\n",
       "      <td>-87.463069</td>\n",
       "    </tr>\n",
       "    <tr>\n",
       "      <th>4</th>\n",
       "      <td>307.078084</td>\n",
       "      <td>-87.472205</td>\n",
       "      <td>58899.056000</td>\n",
       "      <td>2.0</td>\n",
       "      <td>-104.150002</td>\n",
       "      <td>-100.791946</td>\n",
       "      <td>empty_1</td>\n",
       "      <td>28.072545</td>\n",
       "      <td>28.072041</td>\n",
       "      <td>181.422354</td>\n",
       "      <td>181.421200</td>\n",
       "      <td>307.178286</td>\n",
       "      <td>-87.462851</td>\n",
       "    </tr>\n",
       "    <tr>\n",
       "      <th>...</th>\n",
       "      <td>...</td>\n",
       "      <td>...</td>\n",
       "      <td>...</td>\n",
       "      <td>...</td>\n",
       "      <td>...</td>\n",
       "      <td>...</td>\n",
       "      <td>...</td>\n",
       "      <td>...</td>\n",
       "      <td>...</td>\n",
       "      <td>...</td>\n",
       "      <td>...</td>\n",
       "      <td>...</td>\n",
       "      <td>...</td>\n",
       "    </tr>\n",
       "    <tr>\n",
       "      <th>1416</th>\n",
       "      <td>162.767734</td>\n",
       "      <td>-48.503156</td>\n",
       "      <td>59523.326981</td>\n",
       "      <td>15.0</td>\n",
       "      <td>-94.150002</td>\n",
       "      <td>-90.320419</td>\n",
       "      <td>FELH0600</td>\n",
       "      <td>34.140412</td>\n",
       "      <td>34.189538</td>\n",
       "      <td>130.793951</td>\n",
       "      <td>130.784860</td>\n",
       "      <td>162.770156</td>\n",
       "      <td>-48.504776</td>\n",
       "    </tr>\n",
       "    <tr>\n",
       "      <th>1417</th>\n",
       "      <td>162.767734</td>\n",
       "      <td>-48.503156</td>\n",
       "      <td>59523.327185</td>\n",
       "      <td>15.0</td>\n",
       "      <td>-94.150002</td>\n",
       "      <td>-90.328224</td>\n",
       "      <td>FELH0600</td>\n",
       "      <td>34.189538</td>\n",
       "      <td>32.238604</td>\n",
       "      <td>130.784860</td>\n",
       "      <td>130.757985</td>\n",
       "      <td>162.770099</td>\n",
       "      <td>-48.504759</td>\n",
       "    </tr>\n",
       "    <tr>\n",
       "      <th>1418</th>\n",
       "      <td>102.086582</td>\n",
       "      <td>-43.056208</td>\n",
       "      <td>59523.332988</td>\n",
       "      <td>5.0</td>\n",
       "      <td>-94.150002</td>\n",
       "      <td>-90.324783</td>\n",
       "      <td>FELH0600</td>\n",
       "      <td>75.573488</td>\n",
       "      <td>75.585827</td>\n",
       "      <td>154.703962</td>\n",
       "      <td>154.788120</td>\n",
       "      <td>102.082373</td>\n",
       "      <td>-43.048047</td>\n",
       "    </tr>\n",
       "    <tr>\n",
       "      <th>1419</th>\n",
       "      <td>102.086582</td>\n",
       "      <td>-43.056208</td>\n",
       "      <td>59523.338070</td>\n",
       "      <td>5.0</td>\n",
       "      <td>-94.150002</td>\n",
       "      <td>-90.336678</td>\n",
       "      <td>FELH0600</td>\n",
       "      <td>76.174799</td>\n",
       "      <td>76.184880</td>\n",
       "      <td>159.616764</td>\n",
       "      <td>159.709761</td>\n",
       "      <td>102.075312</td>\n",
       "      <td>-43.067226</td>\n",
       "    </tr>\n",
       "    <tr>\n",
       "      <th>1420</th>\n",
       "      <td>102.086582</td>\n",
       "      <td>-43.056208</td>\n",
       "      <td>59523.351506</td>\n",
       "      <td>5.0</td>\n",
       "      <td>-94.150002</td>\n",
       "      <td>-90.341225</td>\n",
       "      <td>FELH0600</td>\n",
       "      <td>77.113085</td>\n",
       "      <td>77.115856</td>\n",
       "      <td>174.420683</td>\n",
       "      <td>174.528683</td>\n",
       "      <td>102.064799</td>\n",
       "      <td>-43.085186</td>\n",
       "    </tr>\n",
       "  </tbody>\n",
       "</table>\n",
       "<p>1421 rows × 13 columns</p>\n",
       "</div>"
      ],
      "text/plain": [
       "              RA        DEC           MJD  EXPTIME    TEMP_SET     CCDTEMP  \\\n",
       "0     144.696586 -60.091873  58897.172369      5.0 -104.150002 -100.805046   \n",
       "1     307.078084 -87.472205  58899.053545      5.0 -104.150002 -100.776344   \n",
       "2     307.078084 -87.472205  58899.053854      5.0 -104.150002 -100.766220   \n",
       "3     307.078084 -87.472205  58899.054891      2.0 -104.150002 -100.795662   \n",
       "4     307.078084 -87.472205  58899.056000      2.0 -104.150002 -100.791946   \n",
       "...          ...        ...           ...      ...         ...         ...   \n",
       "1416  162.767734 -48.503156  59523.326981     15.0  -94.150002  -90.320419   \n",
       "1417  162.767734 -48.503156  59523.327185     15.0  -94.150002  -90.328224   \n",
       "1418  102.086582 -43.056208  59523.332988      5.0  -94.150002  -90.324783   \n",
       "1419  102.086582 -43.056208  59523.338070      5.0  -94.150002  -90.336678   \n",
       "1420  102.086582 -43.056208  59523.351506      5.0  -94.150002  -90.341225   \n",
       "\n",
       "        FILTER    ELSTART      ELEND     AZSTART       AZEND      RA_WCS  \\\n",
       "0      empty_3  59.859032  59.862084  173.810313  173.842712  144.702793   \n",
       "1        RG610  28.093086  28.092282  181.448881  181.447321  306.948404   \n",
       "2        RG610  28.090576  28.089861  181.443863  181.442496  306.948123   \n",
       "3      empty_1  28.076867  28.076392  181.429553  181.428578  306.945464   \n",
       "4      empty_1  28.072545  28.072041  181.422354  181.421200  307.178286   \n",
       "...        ...        ...        ...         ...         ...         ...   \n",
       "1416  FELH0600  34.140412  34.189538  130.793951  130.784860  162.770156   \n",
       "1417  FELH0600  34.189538  32.238604  130.784860  130.757985  162.770099   \n",
       "1418  FELH0600  75.573488  75.585827  154.703962  154.788120  102.082373   \n",
       "1419  FELH0600  76.174799  76.184880  159.616764  159.709761  102.075312   \n",
       "1420  FELH0600  77.113085  77.115856  174.420683  174.528683  102.064799   \n",
       "\n",
       "        DEC_WCS  \n",
       "0    -60.083396  \n",
       "1    -87.469098  \n",
       "2    -87.468959  \n",
       "3    -87.463069  \n",
       "4    -87.462851  \n",
       "...         ...  \n",
       "1416 -48.504776  \n",
       "1417 -48.504759  \n",
       "1418 -43.048047  \n",
       "1419 -43.067226  \n",
       "1420 -43.085186  \n",
       "\n",
       "[1421 rows x 13 columns]"
      ]
     },
     "execution_count": 200,
     "metadata": {},
     "output_type": "execute_result"
    }
   ],
   "source": [
    "import pandas as pd\n",
    "df = pd.DataFrame(tables)\n",
    "df"
   ]
  },
  {
   "cell_type": "code",
   "execution_count": 201,
   "id": "73301f54-b188-4aef-bafe-a9f66d8d9cc0",
   "metadata": {},
   "outputs": [
    {
     "name": "stdout",
     "output_type": "stream",
     "text": [
      "d1 = 23032022\n"
     ]
    }
   ],
   "source": [
    "from datetime import date\n",
    "\n",
    "today = date.today()\n",
    "\n",
    "# dd/mm/YY\n",
    "d1 = today.strftime(\"%d%m%Y\")\n",
    "print(\"d1 =\", d1)"
   ]
  },
  {
   "cell_type": "code",
   "execution_count": 202,
   "id": "0192cdbb-a2a7-4f96-8509-e34b700ab29c",
   "metadata": {},
   "outputs": [],
   "source": [
    "df.to_csv(f'checking_auxtel_pointing_{d1}.csv')\n",
    "# df.to_csv('checking_auxtel_pointing.csv')"
   ]
  },
  {
   "cell_type": "code",
   "execution_count": null,
   "id": "4cd21bb6-6c97-4b29-a994-a911802d7bdf",
   "metadata": {},
   "outputs": [],
   "source": []
  },
  {
   "cell_type": "code",
   "execution_count": null,
   "id": "9e0979ed-e22d-4714-869c-57e05fff5ebf",
   "metadata": {},
   "outputs": [],
   "source": []
  },
  {
   "cell_type": "code",
   "execution_count": null,
   "id": "379dfff5-7798-4b8a-a079-a03f7a2f6428",
   "metadata": {},
   "outputs": [],
   "source": []
  },
  {
   "cell_type": "markdown",
   "id": "e032647d-5d28-4abe-8848-041b514b3ff2",
   "metadata": {},
   "source": [
    "# Analyse The Telescope Pointing"
   ]
  },
  {
   "cell_type": "code",
   "execution_count": 36,
   "id": "a7ab3206-1597-4309-aee0-4af88975ac1a",
   "metadata": {},
   "outputs": [],
   "source": [
    "import pandas as pd\n",
    "date = 23032022\n",
    "df = pd.read_csv(f'data/checking_auxtel_pointing_{date}.csv')"
   ]
  },
  {
   "cell_type": "code",
   "execution_count": null,
   "id": "200290ba-9055-4e3c-b208-63e49b5da487",
   "metadata": {},
   "outputs": [],
   "source": [
    "import numpy as np\n",
    "\n",
    "deg = np.pi/180.\n",
    "def separation(ra1,dec1,ra2,dec2):\n",
    "    return np.sqrt( np.cos(dec1*deg)*(ra1-ra2)**2 + (dec1-dec2)**2 )*3600.\n",
    "\n",
    "def getAngDist(ra1, dec1, ra2, dec2):\n",
    "    # output in arcmin\n",
    "    delt_lon = (ra1 - ra2)*np.pi/180.\n",
    "    delt_lat = (dec1 - dec2)*np.pi/180.\n",
    "    # Haversine formula\n",
    "    dist = 2.0*np.arcsin( np.sqrt( np.sin(delt_lat/2.0)**2 + \\\n",
    "         np.cos(dec1*np.pi/180.)*np.cos(dec2*np.pi/180.)*np.sin(delt_lon/2.0)**2 ) )  \n",
    "    return (dist/np.pi*180.)*60"
   ]
  },
  {
   "cell_type": "code",
   "execution_count": 18,
   "id": "fb92885d-bab3-4779-910c-d0781bfabefd",
   "metadata": {},
   "outputs": [],
   "source": [
    "df['offset'] = getAngDist(df['RA_WCS'], df['DEC_WCS'], df['RA'], df['DEC'])\n",
    "df['dRA'] = (df['RA_WCS']-df['RA'])*60\n",
    "df['dDEC']= (df['DEC_WCS']-df['DEC'])*60"
   ]
  },
  {
   "cell_type": "code",
   "execution_count": 19,
   "id": "a92886aa-ba5c-45b1-9321-cfcb86396514",
   "metadata": {},
   "outputs": [],
   "source": [
    "df['AZMEAN'] = 0.5*(df['AZEND']+df['AZSTART'])"
   ]
  },
  {
   "cell_type": "code",
   "execution_count": 20,
   "id": "6331ceca-95b6-445a-adaa-2c91b1475373",
   "metadata": {},
   "outputs": [
    {
     "data": {
      "image/png": "[encoded data removed]",
      "text/plain": [
       "<Figure size 864x720 with 20 Axes>"
      ]
     },
     "metadata": {
      "needs_background": "light"
     },
     "output_type": "display_data"
    }
   ],
   "source": [
    "_ = df.hist(figsize=(12,10))"
   ]
  },
  {
   "cell_type": "code",
   "execution_count": null,
   "id": "ac51aa6f-65fb-4fb8-ac49-cf346b7cc6a8",
   "metadata": {},
   "outputs": [],
   "source": []
  },
  {
   "cell_type": "code",
   "execution_count": null,
   "id": "bd55e7b8-84c5-4118-aebd-0f81a50a03ee",
   "metadata": {},
   "outputs": [],
   "source": []
  }
 ],
 "metadata": {
  "kernelspec": {
   "display_name": "LSST",
   "language": "python",
   "name": "lsst"
  },
  "language_info": {
   "codemirror_mode": {
    "name": "ipython",
    "version": 3
   },
   "file_extension": ".py",
   "mimetype": "text/x-python",
   "name": "python",
   "nbconvert_exporter": "python",
   "pygments_lexer": "ipython3",
   "version": "3.8.12"
  }
 },
 "nbformat": 4,
 "nbformat_minor": 5
}
