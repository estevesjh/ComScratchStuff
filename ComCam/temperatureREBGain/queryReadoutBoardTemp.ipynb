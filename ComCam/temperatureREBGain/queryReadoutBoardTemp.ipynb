{
 "cells": [
  {
   "cell_type": "markdown",
   "metadata": {},
   "source": [
    "# Notebook for plotting ComCam gains.\n",
    "\n",
    "Adapted to AuxTel on 11 Apr 2022\\\n",
    "Initially written 18 Feb 2022 by Craig Lage."
   ]
  },
  {
   "cell_type": "code",
   "execution_count": 2,
   "metadata": {},
   "outputs": [
    {
     "name": "stdout",
     "output_type": "stream",
     "text": [
      "Running this code on 05May22\n"
     ]
    }
   ],
   "source": [
    "date = '05May22'\n",
    "print(f'Running this code on {date}')"
   ]
  },
  {
   "cell_type": "code",
   "execution_count": 3,
   "metadata": {},
   "outputs": [
    {
     "name": "stderr",
     "output_type": "stream",
     "text": [
      "\n",
      "WARNING: version mismatch between CFITSIO header (v4.000999999999999) and linked library (v4.01).\n",
      "\n",
      "\n",
      "WARNING: version mismatch between CFITSIO header (v4.000999999999999) and linked library (v4.01).\n",
      "\n",
      "\n",
      "WARNING: version mismatch between CFITSIO header (v4.000999999999999) and linked library (v4.01).\n",
      "\n"
     ]
    }
   ],
   "source": [
    "import sys, os, glob, time\n",
    "import numpy as np\n",
    "import astropy.io.fits as pf\n",
    "import matplotlib.pyplot as plt\n",
    "import lsst.daf.butler as dafButler"
   ]
  },
  {
   "cell_type": "code",
   "execution_count": 4,
   "metadata": {},
   "outputs": [],
   "source": [
    "import matplotlib.pyplot as plt\n",
    "import seaborn as sns\n",
    "\n",
    "sns.set_context('talk')\n",
    "sns.set_style('whitegrid')"
   ]
  },
  {
   "cell_type": "code",
   "execution_count": null,
   "metadata": {},
   "outputs": [],
   "source": []
  },
  {
   "cell_type": "markdown",
   "metadata": {},
   "source": [
    "## Exposure Log\n",
    "\n",
    "For more information: https://docs.google.com/document/d/1v8nHTEv-a_OH1hhgmgBQq5E7DBG08f6mCDD3UqtTNtk/edit?usp=sharing"
   ]
  },
  {
   "cell_type": "code",
   "execution_count": null,
   "metadata": {},
   "outputs": [],
   "source": []
  },
  {
   "cell_type": "code",
   "execution_count": 5,
   "metadata": {},
   "outputs": [],
   "source": [
    "import lsst.daf.butler as dafButler\n",
    "butler = dafButler.Butler(\"/repo/main\", collections=[\"LATISS/raw/all\",\"LATISS/calib\"])\n",
    "\n",
    "auxtel = {'20220502':[26,27],'20220407':[48,87],\n",
    "          '20220406':[206,245],'20220405':[131,170],\n",
    "          '20220317':[118,158],'20220316':[179,212]}\n"
   ]
  },
  {
   "cell_type": "code",
   "execution_count": null,
   "metadata": {},
   "outputs": [],
   "source": []
  },
  {
   "cell_type": "code",
   "execution_count": 6,
   "metadata": {},
   "outputs": [],
   "source": [
    "comcam = dict()"
   ]
  },
  {
   "cell_type": "code",
   "execution_count": null,
   "metadata": {},
   "outputs": [],
   "source": []
  },
  {
   "cell_type": "markdown",
   "metadata": {
    "tags": []
   },
   "source": [
    "### Temperature Dependence\n"
   ]
  },
  {
   "cell_type": "code",
   "execution_count": 7,
   "metadata": {},
   "outputs": [],
   "source": [
    "from lsst_efd_client import EfdClient, resample\n",
    "from astropy.time import Time, TimeDelta\n",
    "\n",
    "efd_client = EfdClient('summit_efd')"
   ]
  },
  {
   "cell_type": "code",
   "execution_count": 8,
   "metadata": {},
   "outputs": [
    {
     "data": {
      "text/plain": [
       "[[2022050200026, 2022050200027],\n",
       " [2022040700048, 2022040700087],\n",
       " [2022040600206, 2022040600245],\n",
       " [2022040500131, 2022040500170],\n",
       " [2022031700118, 2022031700158],\n",
       " [2022031600179, 2022031600212]]"
      ]
     },
     "execution_count": 8,
     "metadata": {},
     "output_type": "execute_result"
    }
   ],
   "source": [
    "days = list(auxtel.keys())\n",
    "nsize = len(days)\n",
    "exposures = []\n",
    "for day in days:\n",
    "    exposures.append([int(int(day)*1e5+run) for run in auxtel[day]])\n",
    "exposures"
   ]
  },
  {
   "cell_type": "code",
   "execution_count": null,
   "metadata": {},
   "outputs": [],
   "source": []
  },
  {
   "cell_type": "code",
   "execution_count": null,
   "metadata": {},
   "outputs": [],
   "source": []
  },
  {
   "cell_type": "code",
   "execution_count": 9,
   "metadata": {},
   "outputs": [
    {
     "data": {
      "text/plain": [
       "[[<Time object: scale='tai' format='isot' value=2022-05-03T00:25:05.057>,\n",
       "  <Time object: scale='tai' format='isot' value=2022-05-03T00:25:10.619>],\n",
       " [<Time object: scale='tai' format='isot' value=2022-04-07T21:08:52.579>,\n",
       "  <Time object: scale='tai' format='isot' value=2022-04-07T21:12:38.198>],\n",
       " [<Time object: scale='tai' format='isot' value=2022-04-06T22:36:14.188>,\n",
       "  <Time object: scale='tai' format='isot' value=2022-04-06T22:39:59.843>],\n",
       " [<Time object: scale='tai' format='isot' value=2022-04-05T20:50:53.533>,\n",
       "  <Time object: scale='tai' format='isot' value=2022-04-05T20:55:39.960>],\n",
       " [<Time object: scale='tai' format='isot' value=2022-03-17T20:04:16.602>,\n",
       "  <Time object: scale='tai' format='isot' value=2022-03-17T23:14:03.886>],\n",
       " [<Time object: scale='tai' format='isot' value=2022-03-16T23:11:21.397>,\n",
       "  <Time object: scale='tai' format='isot' value=2022-03-16T23:21:32.601>]]"
      ]
     },
     "execution_count": 9,
     "metadata": {},
     "output_type": "execute_result"
    }
   ],
   "source": [
    "times = []\n",
    "for i in range(nsize):\n",
    "    span = []\n",
    "    for j in range(2):\n",
    "        metadata = butler.get('raw.metadata', exposure=exposures[i][j], detector=0)\n",
    "        tres = Time(metadata.toDict()['DATE'], format='isot', scale='tai')\n",
    "        span.append(tres)\n",
    "    times.append(span)\n",
    "    \n",
    "times"
   ]
  },
  {
   "cell_type": "code",
   "execution_count": 10,
   "metadata": {},
   "outputs": [],
   "source": [
    "temp_data = np.zeros(len(times), dtype=[('day', int),\n",
    "                                        ('exp1',int),\n",
    "                                        ('exp2',int),\n",
    "                                        ('t1', float), \n",
    "                                        ('t1_err', float),\n",
    "                                        ('t2', float), \n",
    "                                        ('t2_err', float)])"
   ]
  },
  {
   "cell_type": "code",
   "execution_count": 11,
   "metadata": {},
   "outputs": [
    {
     "name": "stdout",
     "output_type": "stream",
     "text": [
      "                                  aspicl_Temp00  aspicu_Temp00\n",
      "2022-05-03 00:24:42.037000+00:00       9.910714       9.933036\n",
      "                                  aspicl_Temp00  aspicu_Temp00\n",
      "2022-04-07 21:08:32.570000+00:00      16.562500      16.584822\n",
      "2022-04-07 21:08:43.235000+00:00      16.584822      16.584822\n",
      "2022-04-07 21:08:49.310000+00:00      16.562500      16.562500\n",
      "2022-04-07 21:09:02.309000+00:00      16.674107      16.674107\n",
      "2022-04-07 21:09:12.500000+00:00      16.696428      16.584822\n",
      "2022-04-07 21:09:22.571000+00:00      16.562500      16.584822\n",
      "2022-04-07 21:09:33.235000+00:00      16.629465      16.517857\n",
      "2022-04-07 21:09:43.235000+00:00      16.562500      16.584822\n",
      "2022-04-07 21:09:52.570000+00:00      16.540178      16.562500\n",
      "2022-04-07 21:10:03.234000+00:00      16.562500      16.562500\n",
      "2022-04-07 21:10:03.235000+00:00      16.562500      16.562500\n",
      "2022-04-07 21:10:05.238000+00:00      16.562500      16.562500\n",
      "2022-04-07 21:10:15.237000+00:00      16.517857      16.808035\n",
      "2022-04-07 21:10:19.311000+00:00      16.517857      16.808035\n",
      "2022-04-07 21:10:25.237000+00:00      16.629465      16.473215\n",
      "2022-04-07 21:10:29.311000+00:00      16.629465      16.473215\n",
      "2022-04-07 21:10:39.311000+00:00      16.540178      16.562500\n",
      "2022-04-07 21:10:42.313000+00:00      16.540178      16.562500\n",
      "2022-04-07 21:10:49.311000+00:00      16.495535      16.473215\n",
      "2022-04-07 21:10:52.310000+00:00      16.495535      16.473215\n",
      "2022-04-07 21:11:02.309000+00:00      16.540178      16.562500\n",
      "2022-04-07 21:11:02.501000+00:00      16.540178      16.562500\n",
      "2022-04-07 21:11:12.501000+00:00      16.495535      16.562500\n",
      "2022-04-07 21:11:12.571000+00:00      16.495535      16.562500\n",
      "2022-04-07 21:11:22.571000+00:00      16.540178      16.562500\n",
      "2022-04-07 21:11:23.239000+00:00      16.540178      16.562500\n",
      "2022-04-07 21:11:32.571000+00:00      16.540178      16.540178\n",
      "2022-04-07 21:11:33.236000+00:00      16.540178      16.540178\n",
      "2022-04-07 21:11:43.234000+00:00      16.562500      16.562500\n",
      "2022-04-07 21:11:43.235000+00:00      16.540178      16.540178\n",
      "2022-04-07 21:11:45.237000+00:00      16.540178      16.540178\n",
      "2022-04-07 21:11:59.310000+00:00      16.517857      16.540178\n",
      "                                  aspicl_Temp00  aspicu_Temp00\n",
      "2022-04-06 22:35:49.310000+00:00      12.321428      12.098214\n",
      "2022-04-06 22:35:52.309000+00:00      12.321428      12.098214\n",
      "2022-04-06 22:36:02.500000+00:00      12.276786      12.165178\n",
      "2022-04-06 22:36:12.570000+00:00      12.343750      12.187500\n",
      "2022-04-06 22:36:22.500000+00:00      12.008928      12.165178\n",
      "2022-04-06 22:36:22.571000+00:00      12.008928      12.165178\n",
      "2022-04-06 22:36:32.576000+00:00      12.120536      12.120536\n",
      "2022-04-06 22:36:33.235000+00:00      12.120536      12.120536\n",
      "2022-04-06 22:36:43.234000+00:00      12.053572      12.165178\n",
      "2022-04-06 22:36:43.235000+00:00      12.053572      12.075892\n",
      "2022-04-06 22:36:45.237000+00:00      12.053572      12.075892\n",
      "2022-04-06 22:36:55.237000+00:00      12.053572      12.276786\n",
      "2022-04-06 22:36:59.311000+00:00      12.053572      12.276786\n",
      "2022-04-06 22:37:09.310000+00:00      12.142858      12.120536\n",
      "2022-04-06 22:37:12.309000+00:00      12.142858      12.120536\n",
      "2022-04-06 22:37:22.309000+00:00      12.053572      12.075892\n",
      "2022-04-06 22:37:22.501000+00:00      12.053572      12.075892\n",
      "2022-04-06 22:37:32.500000+00:00      12.299108      12.209822\n",
      "2022-04-06 22:37:32.571000+00:00      12.299108      12.209822\n",
      "2022-04-06 22:37:43.235000+00:00      12.209822      12.187500\n",
      "2022-04-06 22:37:52.570000+00:00      12.053572      12.053572\n",
      "2022-04-06 22:38:03.234000+00:00      12.075892      12.075892\n",
      "2022-04-06 22:38:09.310000+00:00      12.031250      12.031250\n",
      "2022-04-06 22:38:22.308000+00:00      12.031250      12.031250\n",
      "2022-04-06 22:38:32.500000+00:00      12.008928      12.008928\n",
      "2022-04-06 22:38:42.570000+00:00      12.008928      12.031250\n",
      "2022-04-06 22:38:52.571000+00:00      11.986608      11.986608\n",
      "2022-04-06 22:39:03.234000+00:00      12.232142      12.165178\n",
      "2022-04-06 22:39:12.570000+00:00      12.008928      12.008928\n",
      "2022-04-06 22:39:23.234000+00:00      11.986608      12.008928\n",
      "2022-04-06 22:39:29.310000+00:00      12.008928      12.008928\n",
      "                                  aspicl_Temp00  aspicu_Temp00\n",
      "2022-04-05 20:50:29.311000+00:00      16.406250      16.406250\n",
      "2022-04-05 20:50:39.311000+00:00      16.383928      16.406250\n",
      "2022-04-05 20:50:42.310000+00:00      16.383928      16.406250\n",
      "2022-04-05 20:50:52.500000+00:00      16.406250      16.406250\n",
      "2022-04-05 20:51:02.500000+00:00      16.361607      16.473215\n",
      "2022-04-05 20:51:12.571000+00:00      16.428572      16.428572\n",
      "2022-04-05 20:51:23.235000+00:00      16.406250      16.428572\n",
      "2022-04-05 20:51:33.235000+00:00      16.428572      16.450893\n",
      "2022-04-05 20:51:42.570000+00:00      16.428572      16.607143\n",
      "2022-04-05 20:51:53.234000+00:00      16.495535      16.540178\n",
      "2022-04-05 20:51:59.310000+00:00      16.540178      16.607143\n",
      "2022-04-05 20:52:12.312000+00:00      16.428572      16.428572\n",
      "2022-04-05 20:52:22.500000+00:00      16.428572      16.450893\n",
      "2022-04-05 20:52:32.571000+00:00      16.428572      16.428572\n",
      "2022-04-05 20:52:42.571000+00:00      16.428572      16.450893\n",
      "2022-04-05 20:52:53.235000+00:00      16.428572      16.428572\n",
      "2022-04-05 20:53:02.570000+00:00      16.651785      16.540178\n",
      "2022-04-05 20:53:13.234000+00:00      16.428572      16.450893\n",
      "2022-04-05 20:53:19.310000+00:00      16.428572      16.428572\n",
      "2022-04-05 20:53:32.309000+00:00      16.584822      16.495535\n",
      "2022-04-05 20:53:39.311000+00:00      16.696428      16.562500\n",
      "2022-04-05 20:53:42.309000+00:00      16.696428      16.562500\n",
      "2022-04-05 20:53:52.309000+00:00      16.428572      16.450893\n",
      "2022-04-05 20:53:52.501000+00:00      16.428572      16.450893\n",
      "2022-04-05 20:54:02.571000+00:00      16.428572      16.428572\n",
      "2022-04-05 20:54:13.235000+00:00      16.428572      16.428572\n",
      "2022-04-05 20:54:22.570000+00:00      16.428572      16.450893\n",
      "2022-04-05 20:54:33.234000+00:00      16.428572      16.450893\n",
      "2022-04-05 20:54:39.310000+00:00      16.428572      16.450893\n",
      "2022-04-05 20:54:52.309000+00:00      16.428572      16.428572\n",
      "2022-04-05 20:55:02.500000+00:00      16.428572      16.450893\n",
      "2022-04-05 20:55:12.571000+00:00      16.428572      16.428572\n",
      "                                  aspicl_Temp00  aspicu_Temp00\n",
      "2022-03-17 20:03:57.636000+00:00      14.955358      14.977678\n",
      "2022-03-17 20:04:08.801000+00:00      14.955358      14.977678\n",
      "2022-03-17 20:04:20.039000+00:00      14.933036      15.022322\n",
      "2022-03-17 20:04:28.796000+00:00      14.955358      14.955358\n",
      "2022-03-17 20:04:40.038000+00:00      14.955358      14.955358\n",
      "...                                         ...            ...\n",
      "2022-03-17 23:12:58.796000+00:00       9.687500       9.687500\n",
      "2022-03-17 23:13:08.796000+00:00       9.709822       9.709822\n",
      "2022-03-17 23:13:20.038000+00:00       9.754464       9.709822\n",
      "2022-03-17 23:13:22.714000+00:00       9.687500       9.709822\n",
      "2022-03-17 23:13:35.089000+00:00       9.687500       9.709822\n",
      "\n",
      "[1443 rows x 2 columns]\n",
      "                                  aspicl_Temp00  aspicu_Temp00\n",
      "2022-03-16 23:10:55.093000+00:00      12.857142      12.879464\n",
      "2022-03-16 23:10:57.636000+00:00      12.857142      12.879464\n",
      "2022-03-16 23:11:07.636000+00:00      12.857142      12.857142\n",
      "2022-03-16 23:11:08.797000+00:00      12.857142      12.857142\n",
      "2022-03-16 23:11:20.038000+00:00      12.857142      12.857142\n",
      "...                                         ...            ...\n",
      "2022-03-16 23:20:35.091000+00:00      12.477678      12.477678\n",
      "2022-03-16 23:20:45.093000+00:00      12.477678      12.477678\n",
      "2022-03-16 23:20:47.637000+00:00      12.477678      12.477678\n",
      "2022-03-16 23:20:57.636000+00:00      12.477678      12.477678\n",
      "2022-03-16 23:20:58.797000+00:00      12.477678      12.477678\n",
      "\n",
      "[73 rows x 2 columns]\n"
     ]
    }
   ],
   "source": [
    "for i in range(len(times)):\n",
    "    if exposures[i][0] < 20211013:\n",
    "        # EFD was switched to UTC on 20211013.  This compensates for that.\n",
    "        tai_offset = 37.0\n",
    "    else:\n",
    "        tai_offset = 0.0\n",
    "    t1 = times[i][0] - TimeDelta(-10., format='sec', scale='tai')\n",
    "    t2 = times[i][1] + TimeDelta(+10., format='sec', scale='tai')\n",
    "\n",
    "    res1 = await efd_client.select_time_series(\"lsst.sal.ATCamera.focal_plane_Reb\", \n",
    "                                               [\"aspicl_Temp00\",\"aspicu_Temp00\"], \n",
    "                                               t1.utc - TimeDelta(tai_offset, format='sec'), \n",
    "                                               t2.utc - TimeDelta(tai_offset, format='sec'))\n",
    "    print(res1)\n",
    "    if len(res1)>0:\n",
    "        t1 = np.mean(res1['aspicl_Temp00'])\n",
    "        t1_err = np.std(res1['aspicl_Temp00'])\n",
    "        t2 = np.mean(res1['aspicu_Temp00'])\n",
    "        t2_err = np.std(res1['aspicu_Temp00'])\n",
    "\n",
    "    else:\n",
    "        t1 = np.nan\n",
    "        t1_err = np.nan\n",
    "        t2 = np.nan\n",
    "        t2_err = np.nan\n",
    "        \n",
    "    temp_data[i] = (int(days[i]), exposures[i][0], exposures[i][1], t1, t1_err, t2, t2_err)\n"
   ]
  },
  {
   "cell_type": "code",
   "execution_count": 12,
   "metadata": {},
   "outputs": [
    {
     "data": {
      "text/plain": [
       "array([(20220502, 2022050200026, 2022050200027,  9.91071415, 0.        ,  9.93303585, 0.        ),\n",
       "       (20220407, 2022040700048, 2022040700087, 16.55691946, 0.04767885, 16.56877792, 0.07302234),\n",
       "       (20220406, 2022040600206, 2022040600245, 12.11045514, 0.11379463, 12.10973494, 0.07771168),\n",
       "       (20220405, 2022040500131, 2022040500170, 16.45577574, 0.08309555, 16.46275139, 0.05607752),\n",
       "       (20220317, 2022031700118, 2022031700158, 12.76326293, 1.67325789, 12.77351872, 1.67357991),\n",
       "       (20220316, 2022031600179, 2022031600212, 12.66909247, 0.14313772, 12.67734828, 0.14145757)],\n",
       "      dtype=[('day', '<i8'), ('exp1', '<i8'), ('exp2', '<i8'), ('t1', '<f8'), ('t1_err', '<f8'), ('t2', '<f8'), ('t2_err', '<f8')])"
      ]
     },
     "execution_count": 12,
     "metadata": {},
     "output_type": "execute_result"
    }
   ],
   "source": [
    "temp_data"
   ]
  },
  {
   "cell_type": "code",
   "execution_count": 34,
   "metadata": {},
   "outputs": [],
   "source": [
    "temp_data['day'] = temp_data['day'].astype(str)"
   ]
  },
  {
   "cell_type": "code",
   "execution_count": 35,
   "metadata": {},
   "outputs": [
    {
     "data": {
      "text/html": [
       "<pre style=\"margin: 0.1em;\n",
       "padding-left: 0.25em;\n",
       "border-left-style: solid;\n",
       "font-family: var(--jp-code-font-family);\n",
       "font-size: var(--jp-code-font-size);\n",
       "line-height: var(--jp-code-line-height);\n",
       "\"><span style=\"color: var(--jp-warn-color2)\">matplotlib.category</span> <span style=\"color: var(--jp-info-color0)\">INFO</span>: Using categorical units to plot a list of strings that are all parsable as floats or dates. If these strings should be plotted as numbers, cast to the appropriate data type before plotting.</pre>"
      ],
      "text/plain": [
       "<IPython.core.display.HTML object>"
      ]
     },
     "metadata": {},
     "output_type": "display_data"
    },
    {
     "data": {
      "text/html": [
       "<pre style=\"margin: 0.1em;\n",
       "padding-left: 0.25em;\n",
       "border-left-style: solid;\n",
       "font-family: var(--jp-code-font-family);\n",
       "font-size: var(--jp-code-font-size);\n",
       "line-height: var(--jp-code-line-height);\n",
       "\"><span style=\"color: var(--jp-warn-color2)\">matplotlib.category</span> <span style=\"color: var(--jp-info-color0)\">INFO</span>: Using categorical units to plot a list of strings that are all parsable as floats or dates. If these strings should be plotted as numbers, cast to the appropriate data type before plotting.</pre>"
      ],
      "text/plain": [
       "<IPython.core.display.HTML object>"
      ]
     },
     "metadata": {},
     "output_type": "display_data"
    },
    {
     "data": {
      "text/html": [
       "<pre style=\"margin: 0.1em;\n",
       "padding-left: 0.25em;\n",
       "border-left-style: solid;\n",
       "font-family: var(--jp-code-font-family);\n",
       "font-size: var(--jp-code-font-size);\n",
       "line-height: var(--jp-code-line-height);\n",
       "\"><span style=\"color: var(--jp-warn-color2)\">matplotlib.category</span> <span style=\"color: var(--jp-info-color0)\">INFO</span>: Using categorical units to plot a list of strings that are all parsable as floats or dates. If these strings should be plotted as numbers, cast to the appropriate data type before plotting.</pre>"
      ],
      "text/plain": [
       "<IPython.core.display.HTML object>"
      ]
     },
     "metadata": {},
     "output_type": "display_data"
    },
    {
     "data": {
      "text/html": [
       "<pre style=\"margin: 0.1em;\n",
       "padding-left: 0.25em;\n",
       "border-left-style: solid;\n",
       "font-family: var(--jp-code-font-family);\n",
       "font-size: var(--jp-code-font-size);\n",
       "line-height: var(--jp-code-line-height);\n",
       "\"><span style=\"color: var(--jp-warn-color2)\">matplotlib.category</span> <span style=\"color: var(--jp-info-color0)\">INFO</span>: Using categorical units to plot a list of strings that are all parsable as floats or dates. If these strings should be plotted as numbers, cast to the appropriate data type before plotting.</pre>"
      ],
      "text/plain": [
       "<IPython.core.display.HTML object>"
      ]
     },
     "metadata": {},
     "output_type": "display_data"
    },
    {
     "data": {
      "text/plain": [
       "<ErrorbarContainer object of 3 artists>"
      ]
     },
     "execution_count": 35,
     "metadata": {},
     "output_type": "execute_result"
    },
    {
     "data": {
      "image/png": "[encoded data removed]",
      "text/plain": [
       "<Figure size 720x288 with 1 Axes>"
      ]
     },
     "metadata": {},
     "output_type": "display_data"
    }
   ],
   "source": [
    "plt.figure(figsize=(10,4))\n",
    "plt.errorbar((temp_data['day']).astype(str),temp_data['t1'],temp_data['t1_err'],fmt='ko')\n",
    "# plt.errorbar(days,temp_data['t2'],temp_data['t2_err'],fmt='ro')"
   ]
  },
  {
   "cell_type": "code",
   "execution_count": 36,
   "metadata": {},
   "outputs": [],
   "source": [
    "np.save(f'data/temp_auxtel_{day}.npy', temp_data)"
   ]
  },
  {
   "cell_type": "code",
   "execution_count": 37,
   "metadata": {},
   "outputs": [],
   "source": [
    "tmp = np.load(f'data/temp_auxtel_{day}.npy')"
   ]
  },
  {
   "cell_type": "code",
   "execution_count": 38,
   "metadata": {},
   "outputs": [
    {
     "data": {
      "text/plain": [
       "array([(20220502, 2022050200026, 2022050200027,  9.91071415, 0.        ,  9.93303585, 0.        ),\n",
       "       (20220407, 2022040700048, 2022040700087, 16.55691946, 0.04767885, 16.56877792, 0.07302234),\n",
       "       (20220406, 2022040600206, 2022040600245, 12.11045514, 0.11379463, 12.10973494, 0.07771168),\n",
       "       (20220405, 2022040500131, 2022040500170, 16.45577574, 0.08309555, 16.46275139, 0.05607752),\n",
       "       (20220317, 2022031700118, 2022031700158, 12.76326293, 1.67325789, 12.77351872, 1.67357991),\n",
       "       (20220316, 2022031600179, 2022031600212, 12.66909247, 0.14313772, 12.67734828, 0.14145757)],\n",
       "      dtype=[('day', '<i8'), ('exp1', '<i8'), ('exp2', '<i8'), ('t1', '<f8'), ('t1_err', '<f8'), ('t2', '<f8'), ('t2_err', '<f8')])"
      ]
     },
     "execution_count": 38,
     "metadata": {},
     "output_type": "execute_result"
    }
   ],
   "source": [
    "tmp"
   ]
  },
  {
   "cell_type": "code",
   "execution_count": 41,
   "metadata": {},
   "outputs": [],
   "source": [
    "import lsst.daf.butler as dafButler\n",
    "\n",
    "butler1 = dafButler.Butler(\"/repo/main\", collections=[\"LATISS/raw/all\",\"LATISS/calib\", f\"u/jesteves/latiss/ptc_tREB\"])\n"
   ]
  },
  {
   "cell_type": "code",
   "execution_count": 49,
   "metadata": {},
   "outputs": [
    {
     "name": "stdout",
     "output_type": "stream",
     "text": [
      "2022050200026\n"
     ]
    },
    {
     "ename": "LookupError",
     "evalue": "Dataset cpCovariances with data ID {instrument: 'LATISS', detector: 0, exposure: 2022040700048} could not be found in collections [LATISS/raw/all, LATISS/calib, u/jesteves/latiss/ptc_tREB].",
     "output_type": "error",
     "traceback": [
      "\u001b[0;31m---------------------------------------------------------------------------\u001b[0m",
      "\u001b[0;31mLookupError\u001b[0m                               Traceback (most recent call last)",
      "\u001b[0;32m/tmp/ipykernel_83169/563642498.py\u001b[0m in \u001b[0;36m<module>\u001b[0;34m\u001b[0m\n\u001b[1;32m      1\u001b[0m \u001b[0;32mfor\u001b[0m \u001b[0mi\u001b[0m \u001b[0;32min\u001b[0m \u001b[0mrange\u001b[0m\u001b[0;34m(\u001b[0m\u001b[0;36m4\u001b[0m\u001b[0;34m)\u001b[0m\u001b[0;34m:\u001b[0m\u001b[0;34m\u001b[0m\u001b[0;34m\u001b[0m\u001b[0m\n\u001b[1;32m      2\u001b[0m     \u001b[0mflat1ID\u001b[0m \u001b[0;34m=\u001b[0m \u001b[0mtmp\u001b[0m\u001b[0;34m[\u001b[0m\u001b[0;34m'exp1'\u001b[0m\u001b[0;34m]\u001b[0m\u001b[0;34m[\u001b[0m\u001b[0mi\u001b[0m\u001b[0;34m]\u001b[0m\u001b[0;34m\u001b[0m\u001b[0;34m\u001b[0m\u001b[0m\n\u001b[0;32m----> 3\u001b[0;31m     \u001b[0mcpCovs\u001b[0m \u001b[0;34m=\u001b[0m \u001b[0mbutler1\u001b[0m\u001b[0;34m.\u001b[0m\u001b[0mget\u001b[0m\u001b[0;34m(\u001b[0m\u001b[0;34m'cpCovariances'\u001b[0m\u001b[0;34m,\u001b[0m \u001b[0mdetector\u001b[0m\u001b[0;34m=\u001b[0m\u001b[0;36m0\u001b[0m\u001b[0;34m,\u001b[0m \u001b[0mexposure\u001b[0m\u001b[0;34m=\u001b[0m\u001b[0mflat1ID\u001b[0m\u001b[0;34m,\u001b[0m \u001b[0minstrument\u001b[0m\u001b[0;34m=\u001b[0m\u001b[0;34m'LATISS'\u001b[0m\u001b[0;34m)\u001b[0m\u001b[0;34m\u001b[0m\u001b[0;34m\u001b[0m\u001b[0m\n\u001b[0m\u001b[1;32m      4\u001b[0m     \u001b[0mgain_values\u001b[0m \u001b[0;34m=\u001b[0m \u001b[0mcpCovs\u001b[0m\u001b[0;34m.\u001b[0m\u001b[0mgain\u001b[0m\u001b[0;34m\u001b[0m\u001b[0;34m\u001b[0m\u001b[0m\n\u001b[1;32m      5\u001b[0m     \u001b[0mnoise_values\u001b[0m \u001b[0;34m=\u001b[0m \u001b[0mcpCovs\u001b[0m\u001b[0;34m.\u001b[0m\u001b[0mnoise\u001b[0m\u001b[0;34m\u001b[0m\u001b[0;34m\u001b[0m\u001b[0m\n",
      "\u001b[0;32m/opt/lsst/software/stack/stack/miniconda3-py38_4.9.2-0.7.0/Linux64/daf_butler/22.0.1-110-g1427568b+500492d978/python/lsst/daf/butler/_butler.py\u001b[0m in \u001b[0;36mget\u001b[0;34m(self, datasetRefOrType, dataId, parameters, collections, **kwargs)\u001b[0m\n\u001b[1;32m   1160\u001b[0m         \"\"\"\n\u001b[1;32m   1161\u001b[0m         \u001b[0mlog\u001b[0m\u001b[0;34m.\u001b[0m\u001b[0mdebug\u001b[0m\u001b[0;34m(\u001b[0m\u001b[0;34m\"Butler get: %s, dataId=%s, parameters=%s\"\u001b[0m\u001b[0;34m,\u001b[0m \u001b[0mdatasetRefOrType\u001b[0m\u001b[0;34m,\u001b[0m \u001b[0mdataId\u001b[0m\u001b[0;34m,\u001b[0m \u001b[0mparameters\u001b[0m\u001b[0;34m)\u001b[0m\u001b[0;34m\u001b[0m\u001b[0;34m\u001b[0m\u001b[0m\n\u001b[0;32m-> 1162\u001b[0;31m         \u001b[0mref\u001b[0m \u001b[0;34m=\u001b[0m \u001b[0mself\u001b[0m\u001b[0;34m.\u001b[0m\u001b[0m_findDatasetRef\u001b[0m\u001b[0;34m(\u001b[0m\u001b[0mdatasetRefOrType\u001b[0m\u001b[0;34m,\u001b[0m \u001b[0mdataId\u001b[0m\u001b[0;34m,\u001b[0m \u001b[0mcollections\u001b[0m\u001b[0;34m=\u001b[0m\u001b[0mcollections\u001b[0m\u001b[0;34m,\u001b[0m \u001b[0;34m**\u001b[0m\u001b[0mkwargs\u001b[0m\u001b[0;34m)\u001b[0m\u001b[0;34m\u001b[0m\u001b[0;34m\u001b[0m\u001b[0m\n\u001b[0m\u001b[1;32m   1163\u001b[0m         \u001b[0;32mreturn\u001b[0m \u001b[0mself\u001b[0m\u001b[0;34m.\u001b[0m\u001b[0mgetDirect\u001b[0m\u001b[0;34m(\u001b[0m\u001b[0mref\u001b[0m\u001b[0;34m,\u001b[0m \u001b[0mparameters\u001b[0m\u001b[0;34m=\u001b[0m\u001b[0mparameters\u001b[0m\u001b[0;34m)\u001b[0m\u001b[0;34m\u001b[0m\u001b[0;34m\u001b[0m\u001b[0m\n\u001b[1;32m   1164\u001b[0m \u001b[0;34m\u001b[0m\u001b[0m\n",
      "\u001b[0;32m/opt/lsst/software/stack/stack/miniconda3-py38_4.9.2-0.7.0/Linux64/daf_butler/22.0.1-110-g1427568b+500492d978/python/lsst/daf/butler/_butler.py\u001b[0m in \u001b[0;36m_findDatasetRef\u001b[0;34m(self, datasetRefOrType, dataId, collections, allowUnresolved, **kwargs)\u001b[0m\n\u001b[1;32m    913\u001b[0m                 \u001b[0;32mif\u001b[0m \u001b[0mcollections\u001b[0m \u001b[0;32mis\u001b[0m \u001b[0;32mNone\u001b[0m\u001b[0;34m:\u001b[0m\u001b[0;34m\u001b[0m\u001b[0;34m\u001b[0m\u001b[0m\n\u001b[1;32m    914\u001b[0m                     \u001b[0mcollections\u001b[0m \u001b[0;34m=\u001b[0m \u001b[0mself\u001b[0m\u001b[0;34m.\u001b[0m\u001b[0mregistry\u001b[0m\u001b[0;34m.\u001b[0m\u001b[0mdefaults\u001b[0m\u001b[0;34m.\u001b[0m\u001b[0mcollections\u001b[0m\u001b[0;34m\u001b[0m\u001b[0;34m\u001b[0m\u001b[0m\n\u001b[0;32m--> 915\u001b[0;31m                 raise LookupError(f\"Dataset {datasetType.name} with data ID {dataId} \"\n\u001b[0m\u001b[1;32m    916\u001b[0m                                   f\"could not be found in collections {collections}.\")\n\u001b[1;32m    917\u001b[0m         \u001b[0;32mif\u001b[0m \u001b[0midNumber\u001b[0m \u001b[0;32mis\u001b[0m \u001b[0;32mnot\u001b[0m \u001b[0;32mNone\u001b[0m \u001b[0;32mand\u001b[0m \u001b[0midNumber\u001b[0m \u001b[0;34m!=\u001b[0m \u001b[0mref\u001b[0m\u001b[0;34m.\u001b[0m\u001b[0mid\u001b[0m\u001b[0;34m:\u001b[0m\u001b[0;34m\u001b[0m\u001b[0;34m\u001b[0m\u001b[0m\n",
      "\u001b[0;31mLookupError\u001b[0m: Dataset cpCovariances with data ID {instrument: 'LATISS', detector: 0, exposure: 2022040700048} could not be found in collections [LATISS/raw/all, LATISS/calib, u/jesteves/latiss/ptc_tREB]."
     ]
    }
   ],
   "source": [
    "for i in range(4):\n",
    "    flat1ID = tmp['exp1'][i]\n",
    "    cpCovs = butler1.get('cpCovariances', detector=0, exposure=flat1ID, instrument='LATISS')\n",
    "    gain_values = cpCovs.gain\n",
    "    noise_values = cpCovs.noise\n",
    "    print(flat1ID)"
   ]
  },
  {
   "cell_type": "code",
   "execution_count": 1,
   "metadata": {},
   "outputs": [
    {
     "ename": "NameError",
     "evalue": "name 'np' is not defined",
     "output_type": "error",
     "traceback": [
      "\u001b[0;31m---------------------------------------------------------------------------\u001b[0m",
      "\u001b[0;31mNameError\u001b[0m                                 Traceback (most recent call last)",
      "Input \u001b[0;32mIn [1]\u001b[0m, in \u001b[0;36m<cell line: 1>\u001b[0;34m()\u001b[0m\n\u001b[0;32m----> 1\u001b[0m good_indices \u001b[38;5;241m=\u001b[39m \u001b[43mnp\u001b[49m\u001b[38;5;241m.\u001b[39msort(np\u001b[38;5;241m.\u001b[39mhstack([pairs_idx,pairs_idx\u001b[38;5;241m+\u001b[39m\u001b[38;5;241m1\u001b[39m]))\n",
      "\u001b[0;31mNameError\u001b[0m: name 'np' is not defined"
     ]
    }
   ],
   "source": []
  },
  {
   "cell_type": "code",
   "execution_count": null,
   "metadata": {},
   "outputs": [],
   "source": []
  },
  {
   "cell_type": "markdown",
   "metadata": {},
   "source": [
    "### Re-run the 20220504 exposure\n",
    "\n",
    "Synthax:\n",
    "```\n",
    "pipetask run -j 32 -d \"detector IN (0) AND instrument='LATISS' AND \\\n",
    "\t exposure IN (${obsDate}${flat_ptc0}..${obsDate}${flat_ptc1}) AND exposure.observation_type='flat'\" \\\n",
    "\t -b /repo/main \\\n",
    "     -c isr:doFlat=False \\\n",
    "     -i LATISS/raw/all,LATISS/calib,LATISS/calib,u/jesteves/calib/latiss/calib.${obsDate} \\\n",
    "\t -o u/jesteves/latiss/ptc_${obsDate}_flat_rerun \\\n",
    "\t -p $CP_PIPE_DIR/pipelines/Latiss/cpPtc.yaml \\\n",
    "\t --register-dataset-types\n",
    "\n",
    "```"
   ]
  },
  {
   "cell_type": "code",
   "execution_count": null,
   "metadata": {},
   "outputs": [],
   "source": []
  },
  {
   "cell_type": "code",
   "execution_count": null,
   "metadata": {},
   "outputs": [],
   "source": [
    "temp_data"
   ]
  },
  {
   "cell_type": "code",
   "execution_count": null,
   "metadata": {},
   "outputs": [],
   "source": [
    "data"
   ]
  },
  {
   "cell_type": "code",
   "execution_count": null,
   "metadata": {},
   "outputs": [],
   "source": [
    "fig, ax = plt.subplots(1, 2, sharex='col', sharey='row',figsize=(10,5))\n",
    "for i in range(len(exposures)):\n",
    "    ax[0].scatter(temp_data['t2'][i],data['gain'][i],s=100,label=run_names[i])\n",
    "ax[0].legend(fontsize=12)\n",
    "ax[0].errorbar(temp_data['t2'],data['gain'],xerr=temp_data['t2_err'],yerr=data['gain_err'],\n",
    "             fmt='.w',capsize=3,ecolor='k')\n",
    "\n",
    "ax[0].set_xlabel('Temp [°C]: aspicu_Temp00')\n",
    "ax[0].set_ylabel('Mean Gain')\n",
    "ax[0].set_title('Auxtel: May 13 2022')\n",
    "\n",
    "for i in range(len(exposures)):\n",
    "    ax[1].scatter(temp_data['t1'][i],data['gain'][i],s=100,label=run_names[i])\n",
    "ax[1].legend(fontsize=12)\n",
    "ax[1].errorbar(temp_data['t1'],data['gain'],xerr=temp_data['t1_err'],yerr=data['gain_err'],\n",
    "             fmt='.w',capsize=3,ecolor='k')\n",
    "\n",
    "ax[1].set_xlabel('Temp [°C]: aspicl_Temp00')\n",
    "fig.subplots_adjust(hspace=0.4, wspace=0.4)\n",
    "fig.tight_layout()\n",
    "fig.savefig(f'./plots/temp_gain_relation_May13.pdf',dpi=100)"
   ]
  },
  {
   "cell_type": "code",
   "execution_count": null,
   "metadata": {},
   "outputs": [],
   "source": []
  },
  {
   "cell_type": "code",
   "execution_count": null,
   "metadata": {},
   "outputs": [],
   "source": []
  },
  {
   "cell_type": "code",
   "execution_count": null,
   "metadata": {},
   "outputs": [],
   "source": [
    "for i in range(len(exposures)):\n",
    "    plt.scatter(temp_data['t2'][i],data['gain'][i],s=100,label=run_names[i])\n",
    "plt.legend(fontsize=12)\n",
    "plt.errorbar(temp_data['t2'],data['gain'],xerr=temp_data['t2_err'],yerr=data['gain_err'],\n",
    "             fmt='.w',capsize=3,ecolor='k')\n",
    "\n",
    "plt.xlabel('Temp [°C]: aspicu_Temp00')\n",
    "plt.ylabel('Mean Gain')\n",
    "plt.title('Auxtel: May 13 2022')\n",
    "# plt.xlim(15.8,16.5)"
   ]
  },
  {
   "cell_type": "code",
   "execution_count": null,
   "metadata": {},
   "outputs": [],
   "source": []
  },
  {
   "cell_type": "code",
   "execution_count": null,
   "metadata": {},
   "outputs": [],
   "source": []
  },
  {
   "cell_type": "code",
   "execution_count": null,
   "metadata": {},
   "outputs": [],
   "source": [
    "dashboardTime = metadata.toDict()['DATE']\n",
    "upperDashboardTime = metadata.toDict()['DATE'][:-6]+str(float(metadata.toDict()['DATE'][-6:])+5.)\n",
    "query = f\"\"\"SELECT \"aspicl_Temp00\", \"aspicu_Temp00\" FROM \"efd\".\"autogen\".\"lsst.sal.ATCamera.focal_plane_Reb\" WHERE time > :{dashboardTime}: AND time < :{upperDashboardTime}:\"\"\"\n",
    "print(query)\n"
   ]
  },
  {
   "cell_type": "code",
   "execution_count": null,
   "metadata": {},
   "outputs": [],
   "source": [
    "# res = await efd_client.influx_client.query(query)"
   ]
  },
  {
   "cell_type": "code",
   "execution_count": null,
   "metadata": {},
   "outputs": [],
   "source": []
  },
  {
   "cell_type": "code",
   "execution_count": null,
   "metadata": {},
   "outputs": [],
   "source": []
  },
  {
   "cell_type": "code",
   "execution_count": null,
   "metadata": {},
   "outputs": [],
   "source": []
  },
  {
   "cell_type": "code",
   "execution_count": null,
   "metadata": {},
   "outputs": [],
   "source": []
  },
  {
   "cell_type": "code",
   "execution_count": null,
   "metadata": {},
   "outputs": [],
   "source": []
  }
 ],
 "metadata": {
  "kernelspec": {
   "display_name": "LSST",
   "language": "python",
   "name": "lsst"
  },
  "language_info": {
   "codemirror_mode": {
    "name": "ipython",
    "version": 3
   },
   "file_extension": ".py",
   "mimetype": "text/x-python",
   "name": "python",
   "nbconvert_exporter": "python",
   "pygments_lexer": "ipython3",
   "version": "3.8.13"
  }
 },
 "nbformat": 4,
 "nbformat_minor": 4
}
