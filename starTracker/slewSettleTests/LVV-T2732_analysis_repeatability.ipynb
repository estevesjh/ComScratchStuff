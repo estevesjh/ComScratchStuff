{
 "cells": [
  {
   "cell_type": "markdown",
   "id": "8c3b6fd4-1359-44de-a795-d6fbb494fc8b",
   "metadata": {},
   "source": [
    "# Analysis of  StarTracker Pointing - Repeatability \n",
    "\n",
    "Full test description at: https://sitcomtn-063.lsst.io/"
   ]
  },
  {
   "cell_type": "markdown",
   "id": "80022aa7",
   "metadata": {
    "ExecuteTime": {
     "end_time": "2023-03-15T18:34:53.317750Z",
     "start_time": "2023-03-15T18:34:53.306708Z"
    }
   },
   "source": [
    "In this notebook, we quantify the telescope jitter after settle to a coordinate.\n",
    "\n",
    "For this:\n",
    "1. We compute the standard deviation of $\\delta ra \\text{, } \\delta dec$\n",
    "2. Does the jitter depends on $ra, dec$?\n",
    "\n",
    "To visualize this correlations see: \\\n",
    "`LVV-T2732_analysis.ipynb`"
   ]
  },
  {
   "cell_type": "code",
   "execution_count": 1,
   "id": "577624d3-ea22-466b-8d51-ca20957fff23",
   "metadata": {
    "ExecuteTime": {
     "end_time": "2023-03-17T04:09:19.427513Z",
     "start_time": "2023-03-17T04:09:16.835843Z"
    },
    "execution": {
     "iopub.execute_input": "2023-03-14T14:43:04.070460Z",
     "iopub.status.busy": "2023-03-14T14:43:04.070179Z",
     "iopub.status.idle": "2023-03-14T14:43:04.331671Z",
     "shell.execute_reply": "2023-03-14T14:43:04.331061Z",
     "shell.execute_reply.started": "2023-03-14T14:43:04.070439Z"
    },
    "tags": []
   },
   "outputs": [],
   "source": [
    "import pandas as pd\n",
    "import matplotlib.pyplot as plt\n",
    "import numpy as np"
   ]
  },
  {
   "cell_type": "code",
   "execution_count": 2,
   "id": "ae57f443-bbe5-45c2-8d5e-5e63402830d1",
   "metadata": {
    "ExecuteTime": {
     "end_time": "2023-03-17T04:09:19.434435Z",
     "start_time": "2023-03-17T04:09:19.429671Z"
    },
    "execution": {
     "iopub.execute_input": "2023-03-14T14:43:04.537264Z",
     "iopub.status.busy": "2023-03-14T14:43:04.536846Z",
     "iopub.status.idle": "2023-03-14T14:43:04.539888Z",
     "shell.execute_reply": "2023-03-14T14:43:04.539522Z",
     "shell.execute_reply.started": "2023-03-14T14:43:04.537245Z"
    },
    "tags": []
   },
   "outputs": [],
   "source": [
    "# function to read in the metadata that has been downloaded\n",
    "import pandas as pd\n",
    "def read_rubintv(fname):\n",
    "    df = pd.read_json(fname).T\n",
    "    df = df.dropna()\n",
    "    times = df[['UTC','UTC wide']]\n",
    "    \n",
    "    df = df.drop(columns=['UTC','UTC wide'])\n",
    "    df = df.astype(float)\n",
    "    \n",
    "    # set time vectors\n",
    "    timenew = (today+'T'+ times['UTC'].to_numpy()).astype(np.datetime64)\n",
    "    timenew2= (today+'T'+ times['UTC wide'].to_numpy()).astype(np.datetime64)\n",
    "    \n",
    "    df['UTC'] = pd.Series(timenew, index=df.index)\n",
    "    df['UTC wide'] = pd.Series(timenew2, index=df.index)\n",
    "    df['seq_num'] = df.index\n",
    "    \n",
    "    return df"
   ]
  },
  {
   "cell_type": "code",
   "execution_count": 3,
   "id": "38eba99f",
   "metadata": {
    "ExecuteTime": {
     "end_time": "2023-03-17T04:09:19.441891Z",
     "start_time": "2023-03-17T04:09:19.435956Z"
    }
   },
   "outputs": [],
   "source": [
    "def get_groups(df):\n",
    "    ra = df['Calculated Ra wide'].to_numpy()\n",
    "    dec = df['Calculated Dec wide'].to_numpy()\n",
    "\n",
    "    groups = np.zeros(ra.size, dtype=int)\n",
    "    snakes = np.zeros(ra.size, dtype=int)\n",
    "    \n",
    "    diffRa = np.diff(ra)\n",
    "    diffDec = np.diff(dec)\n",
    "    dPnt = np.hypot(diffDec, diffRa)\n",
    "    \n",
    "    counter = 0\n",
    "    for i in range(diffRa.size):\n",
    "        if  (dPnt[i]>5.): counter += 1\n",
    "        snakes[i+1] = counter\n",
    "\n",
    "    counter = 0\n",
    "    for i in range(diffRa.size):\n",
    "        if  (dPnt[i]>1/60)&(dPnt[i]<5.): counter += 1\n",
    "        groups[i+1] = counter\n",
    "\n",
    "    df['groups'] = groups\n",
    "    df['snakes'] = snakes\n",
    "    \n",
    "    print('Number of Snakes:%i'%np.unique(snakes).size)\n",
    "    return df"
   ]
  },
  {
   "cell_type": "code",
   "execution_count": 4,
   "id": "4c57983e",
   "metadata": {
    "ExecuteTime": {
     "end_time": "2023-03-17T04:09:19.870594Z",
     "start_time": "2023-03-17T04:09:19.444899Z"
    }
   },
   "outputs": [],
   "source": [
    "from scipy.optimize import curve_fit\n",
    "def linear(x,a,b):\n",
    "    return a+b*x\n",
    "\n",
    "def get_slope(x,y):\n",
    "    isnan = np.isnan(x)\n",
    "    coefs, cov = curve_fit(linear, x[~isnan], y[~isnan])\n",
    "    return np.append(coefs, np.sqrt(cov[1,1]))\n",
    "\n",
    "def get_residual(df):    \n",
    "    groups = df['groups'].to_numpy()\n",
    "    keys = [np.where(groups==gi)[0] for gi in groups]\n",
    "    ra = df['Calculated Ra wide'].to_numpy()\n",
    "    dec = df['Calculated Dec wide'].to_numpy()\n",
    "\n",
    "    base_ra = np.zeros_like(ra)\n",
    "    base_dec = np.zeros_like(dec)\n",
    "    for ix in keys:\n",
    "        #base_ra[ix] = ra[ix][0]\n",
    "        #base_dec[ix] = dec[ix][0]\n",
    "        \n",
    "        base_ra[ix] = np.median(ra[ix])\n",
    "        base_dec[ix] = np.median(dec[ix])\n",
    "    \n",
    "    res_ra = (ra-base_ra)*3600*np.cos(base_dec*np.pi/180)\n",
    "    res_dec = (dec-base_dec)*3600\n",
    "    \n",
    "    filter_nan = np.hypot(res_ra, res_dec) > 30. #get_outliers(res_ra)\n",
    "    res_ra[filter_nan] = np.nan\n",
    "    res_dec[filter_nan] = np.nan\n",
    "    \n",
    "    return res_ra, res_dec, base_ra, base_dec"
   ]
  },
  {
   "cell_type": "markdown",
   "id": "65d14309",
   "metadata": {},
   "source": [
    "## First Night: 9th March"
   ]
  },
  {
   "cell_type": "code",
   "execution_count": 5,
   "id": "dff74287-8c53-4159-803f-b59f66e774f5",
   "metadata": {
    "ExecuteTime": {
     "end_time": "2023-03-17T04:09:20.254150Z",
     "start_time": "2023-03-17T04:09:19.872103Z"
    },
    "execution": {
     "iopub.execute_input": "2023-03-14T14:43:05.179820Z",
     "iopub.status.busy": "2023-03-14T14:43:05.179543Z",
     "iopub.status.idle": "2023-03-14T14:43:05.557261Z",
     "shell.execute_reply": "2023-03-14T14:43:05.556753Z",
     "shell.execute_reply.started": "2023-03-14T14:43:05.179801Z"
    },
    "tags": []
   },
   "outputs": [],
   "source": [
    "# read in dataframe\n",
    "today = '2023-03-09'\n",
    "fname = 'startracker_%s.json'%today\n",
    "df = read_rubintv(fname)"
   ]
  },
  {
   "cell_type": "code",
   "execution_count": 6,
   "id": "0d05cf23-8e2b-488f-acbb-4c0ee97fab59",
   "metadata": {
    "ExecuteTime": {
     "end_time": "2023-03-17T04:09:20.285354Z",
     "start_time": "2023-03-17T04:09:20.255574Z"
    },
    "execution": {
     "iopub.execute_input": "2023-03-14T14:43:05.715641Z",
     "iopub.status.busy": "2023-03-14T14:43:05.715032Z",
     "iopub.status.idle": "2023-03-14T14:43:05.731584Z",
     "shell.execute_reply": "2023-03-14T14:43:05.731150Z",
     "shell.execute_reply.started": "2023-03-14T14:43:05.715620Z"
    },
    "tags": []
   },
   "outputs": [
    {
     "data": {
      "text/html": [
       "<div>\n",
       "<style scoped>\n",
       "    .dataframe tbody tr th:only-of-type {\n",
       "        vertical-align: middle;\n",
       "    }\n",
       "\n",
       "    .dataframe tbody tr th {\n",
       "        vertical-align: top;\n",
       "    }\n",
       "\n",
       "    .dataframe thead th {\n",
       "        text-align: right;\n",
       "    }\n",
       "</style>\n",
       "<table border=\"1\" class=\"dataframe\">\n",
       "  <thead>\n",
       "    <tr style=\"text-align: right;\">\n",
       "      <th></th>\n",
       "      <th>Exposure Time wide</th>\n",
       "      <th>MJD wide</th>\n",
       "      <th>Ra wide</th>\n",
       "      <th>Dec wide</th>\n",
       "      <th>Alt wide</th>\n",
       "      <th>Az wide</th>\n",
       "      <th>Exposure Time</th>\n",
       "      <th>MJD</th>\n",
       "      <th>Ra</th>\n",
       "      <th>Dec</th>\n",
       "      <th>...</th>\n",
       "      <th>Delta Ra Arcsec wide</th>\n",
       "      <th>Delta Dec Arcsec wide</th>\n",
       "      <th>Delta Alt Arcsec wide</th>\n",
       "      <th>Delta Az Arcsec wide</th>\n",
       "      <th>Delta Rot Arcsec wide</th>\n",
       "      <th>RMS scatter arcsec wide</th>\n",
       "      <th>RMS scatter pixels wide</th>\n",
       "      <th>UTC</th>\n",
       "      <th>UTC wide</th>\n",
       "      <th>seq_num</th>\n",
       "    </tr>\n",
       "  </thead>\n",
       "  <tbody>\n",
       "    <tr>\n",
       "      <th>2</th>\n",
       "      <td>5.0</td>\n",
       "      <td>60013.006804</td>\n",
       "      <td>147.584927</td>\n",
       "      <td>-20.755174</td>\n",
       "      <td>45.438896</td>\n",
       "      <td>89.573966</td>\n",
       "      <td>4.0</td>\n",
       "      <td>60013.006798</td>\n",
       "      <td>147.584931</td>\n",
       "      <td>-20.755208</td>\n",
       "      <td>...</td>\n",
       "      <td>-2.709905</td>\n",
       "      <td>-59.325366</td>\n",
       "      <td>-673.488731</td>\n",
       "      <td>1095.555919</td>\n",
       "      <td>1.050384e+06</td>\n",
       "      <td>4.412145</td>\n",
       "      <td>0.509349</td>\n",
       "      <td>2023-03-09 00:09:47</td>\n",
       "      <td>2023-03-09 00:09:47</td>\n",
       "      <td>2</td>\n",
       "    </tr>\n",
       "    <tr>\n",
       "      <th>5</th>\n",
       "      <td>5.0</td>\n",
       "      <td>60013.007130</td>\n",
       "      <td>147.584990</td>\n",
       "      <td>-20.755174</td>\n",
       "      <td>45.540590</td>\n",
       "      <td>89.513847</td>\n",
       "      <td>4.0</td>\n",
       "      <td>60013.007125</td>\n",
       "      <td>147.584996</td>\n",
       "      <td>-20.755208</td>\n",
       "      <td>...</td>\n",
       "      <td>-2.533244</td>\n",
       "      <td>-59.268129</td>\n",
       "      <td>-673.513094</td>\n",
       "      <td>1097.478513</td>\n",
       "      <td>1.050382e+06</td>\n",
       "      <td>4.406446</td>\n",
       "      <td>0.508694</td>\n",
       "      <td>2023-03-09 00:10:15</td>\n",
       "      <td>2023-03-09 00:10:16</td>\n",
       "      <td>5</td>\n",
       "    </tr>\n",
       "    <tr>\n",
       "      <th>6</th>\n",
       "      <td>5.0</td>\n",
       "      <td>60013.007241</td>\n",
       "      <td>147.585035</td>\n",
       "      <td>-20.755209</td>\n",
       "      <td>45.575238</td>\n",
       "      <td>89.493390</td>\n",
       "      <td>4.0</td>\n",
       "      <td>60013.007235</td>\n",
       "      <td>147.585052</td>\n",
       "      <td>-20.755174</td>\n",
       "      <td>...</td>\n",
       "      <td>-2.272147</td>\n",
       "      <td>-59.337748</td>\n",
       "      <td>-674.354962</td>\n",
       "      <td>1098.767723</td>\n",
       "      <td>1.050381e+06</td>\n",
       "      <td>4.435253</td>\n",
       "      <td>0.512020</td>\n",
       "      <td>2023-03-09 00:10:25</td>\n",
       "      <td>2023-03-09 00:10:25</td>\n",
       "      <td>6</td>\n",
       "    </tr>\n",
       "    <tr>\n",
       "      <th>7</th>\n",
       "      <td>5.0</td>\n",
       "      <td>60013.007349</td>\n",
       "      <td>147.585093</td>\n",
       "      <td>-20.755174</td>\n",
       "      <td>45.608984</td>\n",
       "      <td>89.473347</td>\n",
       "      <td>4.0</td>\n",
       "      <td>60013.007344</td>\n",
       "      <td>147.585062</td>\n",
       "      <td>-20.755174</td>\n",
       "      <td>...</td>\n",
       "      <td>-2.399532</td>\n",
       "      <td>-59.612528</td>\n",
       "      <td>-673.967859</td>\n",
       "      <td>1099.639064</td>\n",
       "      <td>1.050380e+06</td>\n",
       "      <td>4.417225</td>\n",
       "      <td>0.509938</td>\n",
       "      <td>2023-03-09 00:10:34</td>\n",
       "      <td>2023-03-09 00:10:34</td>\n",
       "      <td>7</td>\n",
       "    </tr>\n",
       "    <tr>\n",
       "      <th>8</th>\n",
       "      <td>5.0</td>\n",
       "      <td>60013.007459</td>\n",
       "      <td>147.585099</td>\n",
       "      <td>-20.755174</td>\n",
       "      <td>45.643181</td>\n",
       "      <td>89.453082</td>\n",
       "      <td>4.0</td>\n",
       "      <td>60013.007453</td>\n",
       "      <td>147.585028</td>\n",
       "      <td>-20.755174</td>\n",
       "      <td>...</td>\n",
       "      <td>-2.232958</td>\n",
       "      <td>-59.515211</td>\n",
       "      <td>-674.091351</td>\n",
       "      <td>1100.229944</td>\n",
       "      <td>1.050380e+06</td>\n",
       "      <td>4.396507</td>\n",
       "      <td>0.507552</td>\n",
       "      <td>2023-03-09 00:10:43</td>\n",
       "      <td>2023-03-09 00:10:44</td>\n",
       "      <td>8</td>\n",
       "    </tr>\n",
       "    <tr>\n",
       "      <th>...</th>\n",
       "      <td>...</td>\n",
       "      <td>...</td>\n",
       "      <td>...</td>\n",
       "      <td>...</td>\n",
       "      <td>...</td>\n",
       "      <td>...</td>\n",
       "      <td>...</td>\n",
       "      <td>...</td>\n",
       "      <td>...</td>\n",
       "      <td>...</td>\n",
       "      <td>...</td>\n",
       "      <td>...</td>\n",
       "      <td>...</td>\n",
       "      <td>...</td>\n",
       "      <td>...</td>\n",
       "      <td>...</td>\n",
       "      <td>...</td>\n",
       "      <td>...</td>\n",
       "      <td>...</td>\n",
       "      <td>...</td>\n",
       "      <td>...</td>\n",
       "    </tr>\n",
       "    <tr>\n",
       "      <th>1794</th>\n",
       "      <td>5.0</td>\n",
       "      <td>60013.341335</td>\n",
       "      <td>286.946784</td>\n",
       "      <td>-40.029897</td>\n",
       "      <td>35.148083</td>\n",
       "      <td>119.955272</td>\n",
       "      <td>4.0</td>\n",
       "      <td>60013.341329</td>\n",
       "      <td>286.946813</td>\n",
       "      <td>-40.029897</td>\n",
       "      <td>...</td>\n",
       "      <td>28.794702</td>\n",
       "      <td>-59.257096</td>\n",
       "      <td>8.503464</td>\n",
       "      <td>77.053017</td>\n",
       "      <td>1.087482e+06</td>\n",
       "      <td>4.571916</td>\n",
       "      <td>0.527515</td>\n",
       "      <td>2023-03-09 08:11:30</td>\n",
       "      <td>2023-03-09 08:11:31</td>\n",
       "      <td>1794</td>\n",
       "    </tr>\n",
       "    <tr>\n",
       "      <th>1795</th>\n",
       "      <td>5.0</td>\n",
       "      <td>60013.341657</td>\n",
       "      <td>299.482152</td>\n",
       "      <td>-37.240831</td>\n",
       "      <td>25.063850</td>\n",
       "      <td>119.968851</td>\n",
       "      <td>4.0</td>\n",
       "      <td>60013.341651</td>\n",
       "      <td>299.482122</td>\n",
       "      <td>-37.240831</td>\n",
       "      <td>...</td>\n",
       "      <td>-1.838682</td>\n",
       "      <td>-67.940286</td>\n",
       "      <td>45.332494</td>\n",
       "      <td>69.275972</td>\n",
       "      <td>1.059507e+06</td>\n",
       "      <td>8.415523</td>\n",
       "      <td>0.971061</td>\n",
       "      <td>2023-03-09 08:11:58</td>\n",
       "      <td>2023-03-09 08:11:59</td>\n",
       "      <td>1795</td>\n",
       "    </tr>\n",
       "    <tr>\n",
       "      <th>1796</th>\n",
       "      <td>5.0</td>\n",
       "      <td>60013.341759</td>\n",
       "      <td>299.482205</td>\n",
       "      <td>-37.240776</td>\n",
       "      <td>25.091362</td>\n",
       "      <td>119.957704</td>\n",
       "      <td>4.0</td>\n",
       "      <td>60013.341753</td>\n",
       "      <td>299.482194</td>\n",
       "      <td>-37.240776</td>\n",
       "      <td>...</td>\n",
       "      <td>-1.841248</td>\n",
       "      <td>-67.890959</td>\n",
       "      <td>45.530605</td>\n",
       "      <td>69.120542</td>\n",
       "      <td>1.059572e+06</td>\n",
       "      <td>8.302773</td>\n",
       "      <td>0.958069</td>\n",
       "      <td>2023-03-09 08:12:07</td>\n",
       "      <td>2023-03-09 08:12:07</td>\n",
       "      <td>1796</td>\n",
       "    </tr>\n",
       "    <tr>\n",
       "      <th>1797</th>\n",
       "      <td>5.0</td>\n",
       "      <td>60013.341861</td>\n",
       "      <td>299.482056</td>\n",
       "      <td>-37.240829</td>\n",
       "      <td>25.119192</td>\n",
       "      <td>119.946550</td>\n",
       "      <td>4.0</td>\n",
       "      <td>60013.341856</td>\n",
       "      <td>299.482116</td>\n",
       "      <td>-37.240803</td>\n",
       "      <td>...</td>\n",
       "      <td>-1.214643</td>\n",
       "      <td>-67.748997</td>\n",
       "      <td>44.917572</td>\n",
       "      <td>69.228530</td>\n",
       "      <td>1.059633e+06</td>\n",
       "      <td>8.239899</td>\n",
       "      <td>0.950826</td>\n",
       "      <td>2023-03-09 08:12:16</td>\n",
       "      <td>2023-03-09 08:12:16</td>\n",
       "      <td>1797</td>\n",
       "    </tr>\n",
       "    <tr>\n",
       "      <th>1798</th>\n",
       "      <td>5.0</td>\n",
       "      <td>60013.341963</td>\n",
       "      <td>299.482080</td>\n",
       "      <td>-37.240776</td>\n",
       "      <td>25.146800</td>\n",
       "      <td>119.935376</td>\n",
       "      <td>4.0</td>\n",
       "      <td>60013.341958</td>\n",
       "      <td>299.482134</td>\n",
       "      <td>-37.240776</td>\n",
       "      <td>...</td>\n",
       "      <td>-1.039492</td>\n",
       "      <td>-67.915011</td>\n",
       "      <td>44.637223</td>\n",
       "      <td>69.542960</td>\n",
       "      <td>1.059697e+06</td>\n",
       "      <td>8.333131</td>\n",
       "      <td>0.961577</td>\n",
       "      <td>2023-03-09 08:12:25</td>\n",
       "      <td>2023-03-09 08:12:25</td>\n",
       "      <td>1798</td>\n",
       "    </tr>\n",
       "  </tbody>\n",
       "</table>\n",
       "<p>1767 rows × 41 columns</p>\n",
       "</div>"
      ],
      "text/plain": [
       "      Exposure Time wide      MJD wide     Ra wide   Dec wide   Alt wide  \\\n",
       "2                    5.0  60013.006804  147.584927 -20.755174  45.438896   \n",
       "5                    5.0  60013.007130  147.584990 -20.755174  45.540590   \n",
       "6                    5.0  60013.007241  147.585035 -20.755209  45.575238   \n",
       "7                    5.0  60013.007349  147.585093 -20.755174  45.608984   \n",
       "8                    5.0  60013.007459  147.585099 -20.755174  45.643181   \n",
       "...                  ...           ...         ...        ...        ...   \n",
       "1794                 5.0  60013.341335  286.946784 -40.029897  35.148083   \n",
       "1795                 5.0  60013.341657  299.482152 -37.240831  25.063850   \n",
       "1796                 5.0  60013.341759  299.482205 -37.240776  25.091362   \n",
       "1797                 5.0  60013.341861  299.482056 -37.240829  25.119192   \n",
       "1798                 5.0  60013.341963  299.482080 -37.240776  25.146800   \n",
       "\n",
       "         Az wide  Exposure Time           MJD          Ra        Dec  ...  \\\n",
       "2      89.573966            4.0  60013.006798  147.584931 -20.755208  ...   \n",
       "5      89.513847            4.0  60013.007125  147.584996 -20.755208  ...   \n",
       "6      89.493390            4.0  60013.007235  147.585052 -20.755174  ...   \n",
       "7      89.473347            4.0  60013.007344  147.585062 -20.755174  ...   \n",
       "8      89.453082            4.0  60013.007453  147.585028 -20.755174  ...   \n",
       "...          ...            ...           ...         ...        ...  ...   \n",
       "1794  119.955272            4.0  60013.341329  286.946813 -40.029897  ...   \n",
       "1795  119.968851            4.0  60013.341651  299.482122 -37.240831  ...   \n",
       "1796  119.957704            4.0  60013.341753  299.482194 -37.240776  ...   \n",
       "1797  119.946550            4.0  60013.341856  299.482116 -37.240803  ...   \n",
       "1798  119.935376            4.0  60013.341958  299.482134 -37.240776  ...   \n",
       "\n",
       "      Delta Ra Arcsec wide  Delta Dec Arcsec wide  Delta Alt Arcsec wide  \\\n",
       "2                -2.709905             -59.325366            -673.488731   \n",
       "5                -2.533244             -59.268129            -673.513094   \n",
       "6                -2.272147             -59.337748            -674.354962   \n",
       "7                -2.399532             -59.612528            -673.967859   \n",
       "8                -2.232958             -59.515211            -674.091351   \n",
       "...                    ...                    ...                    ...   \n",
       "1794             28.794702             -59.257096               8.503464   \n",
       "1795             -1.838682             -67.940286              45.332494   \n",
       "1796             -1.841248             -67.890959              45.530605   \n",
       "1797             -1.214643             -67.748997              44.917572   \n",
       "1798             -1.039492             -67.915011              44.637223   \n",
       "\n",
       "      Delta Az Arcsec wide  Delta Rot Arcsec wide  RMS scatter arcsec wide  \\\n",
       "2              1095.555919           1.050384e+06                 4.412145   \n",
       "5              1097.478513           1.050382e+06                 4.406446   \n",
       "6              1098.767723           1.050381e+06                 4.435253   \n",
       "7              1099.639064           1.050380e+06                 4.417225   \n",
       "8              1100.229944           1.050380e+06                 4.396507   \n",
       "...                    ...                    ...                      ...   \n",
       "1794             77.053017           1.087482e+06                 4.571916   \n",
       "1795             69.275972           1.059507e+06                 8.415523   \n",
       "1796             69.120542           1.059572e+06                 8.302773   \n",
       "1797             69.228530           1.059633e+06                 8.239899   \n",
       "1798             69.542960           1.059697e+06                 8.333131   \n",
       "\n",
       "      RMS scatter pixels wide                 UTC            UTC wide  seq_num  \n",
       "2                    0.509349 2023-03-09 00:09:47 2023-03-09 00:09:47        2  \n",
       "5                    0.508694 2023-03-09 00:10:15 2023-03-09 00:10:16        5  \n",
       "6                    0.512020 2023-03-09 00:10:25 2023-03-09 00:10:25        6  \n",
       "7                    0.509938 2023-03-09 00:10:34 2023-03-09 00:10:34        7  \n",
       "8                    0.507552 2023-03-09 00:10:43 2023-03-09 00:10:44        8  \n",
       "...                       ...                 ...                 ...      ...  \n",
       "1794                 0.527515 2023-03-09 08:11:30 2023-03-09 08:11:31     1794  \n",
       "1795                 0.971061 2023-03-09 08:11:58 2023-03-09 08:11:59     1795  \n",
       "1796                 0.958069 2023-03-09 08:12:07 2023-03-09 08:12:07     1796  \n",
       "1797                 0.950826 2023-03-09 08:12:16 2023-03-09 08:12:16     1797  \n",
       "1798                 0.961577 2023-03-09 08:12:25 2023-03-09 08:12:25     1798  \n",
       "\n",
       "[1767 rows x 41 columns]"
      ]
     },
     "execution_count": 6,
     "metadata": {},
     "output_type": "execute_result"
    }
   ],
   "source": [
    "df"
   ]
  },
  {
   "cell_type": "code",
   "execution_count": 7,
   "id": "908d2ae8",
   "metadata": {
    "ExecuteTime": {
     "end_time": "2023-03-17T04:09:20.292286Z",
     "start_time": "2023-03-17T04:09:20.286917Z"
    }
   },
   "outputs": [
    {
     "data": {
      "text/plain": [
       "array([ 600,  605,  610,  615,  620,  625,  630,  635,  640,  645,  650,\n",
       "        655,  660,  665,  670,  675,  680,  685,  690,  695,  700,  705,\n",
       "        710,  715,  720,  725,  730,  735,  740,  745,  750,  755,  760,\n",
       "        765,  770,  775,  780,  785,  790,  795,  800,  805,  810,  815,\n",
       "        820,  825,  830,  835,  840,  845,  850,  855,  860,  865,  870,\n",
       "        875,  880,  885,  890,  895,  900,  905,  910,  915,  920,  925,\n",
       "        930,  935,  940,  945,  953,  958,  963,  968,  973,  978,  984,\n",
       "        989,  994,  999, 1004, 1009, 1014, 1019, 1024, 1029, 1034, 1039,\n",
       "       1044, 1049, 1054, 1059, 1064, 1069, 1074, 1079, 1084, 1089, 1094,\n",
       "       1099, 1104, 1109, 1114])"
      ]
     },
     "execution_count": 7,
     "metadata": {},
     "output_type": "execute_result"
    }
   ],
   "source": [
    "sequences = [ [600,646],  [646,946],  [949,982], [983,1115]]\n",
    "# sequences = [ [600,643] ]\n",
    "# sequences = [ [679,712] ]\n",
    "# sequences = [ [600,646],  [646,910]]\n",
    "indices = np.empty((0,),dtype=int)\n",
    "\n",
    "for i0, ie in sequences:\n",
    "    indices = np.append(indices, np.arange(i0,ie,1,dtype=int))\n",
    "indices[::5]"
   ]
  },
  {
   "cell_type": "code",
   "execution_count": 8,
   "id": "c8205eb2-c24a-41d8-bd61-f2ca89732b0c",
   "metadata": {
    "ExecuteTime": {
     "end_time": "2023-03-17T04:09:20.300929Z",
     "start_time": "2023-03-17T04:09:20.293911Z"
    },
    "execution": {
     "iopub.execute_input": "2023-03-14T14:43:06.362291Z",
     "iopub.status.busy": "2023-03-14T14:43:06.362027Z",
     "iopub.status.idle": "2023-03-14T14:43:06.365608Z",
     "shell.execute_reply": "2023-03-14T14:43:06.365117Z",
     "shell.execute_reply.started": "2023-03-14T14:43:06.362274Z"
    },
    "tags": []
   },
   "outputs": [
    {
     "name": "stdout",
     "output_type": "stream",
     "text": [
      "Positions for 621 to 1137\n",
      "Number of Snakes:25\n"
     ]
    }
   ],
   "source": [
    "# selection of the sequences\n",
    "data = df.iloc[indices].reset_index() \n",
    "print(('Positions for ' + str(data.seq_num.iloc[0]) + ' to ' + str(data.seq_num.iloc[-1])))\n",
    "first_attempt_circle = get_groups(data)"
   ]
  },
  {
   "cell_type": "code",
   "execution_count": 9,
   "id": "3514b37a",
   "metadata": {
    "ExecuteTime": {
     "end_time": "2023-03-17T04:09:20.307836Z",
     "start_time": "2023-03-17T04:09:20.302806Z"
    }
   },
   "outputs": [
    {
     "data": {
      "text/plain": [
       "array([ 4,  4,  4,  3,  4,  4,  4,  3,  4,  4, 11,  3,  3,  3,  3,  3,  3,\n",
       "        3,  3,  3,  6,  3,  3,  3,  3,  3,  3,  3,  3,  3,  6,  3,  3,  3,\n",
       "        3,  3,  3,  3,  3,  3,  6,  3,  3,  3,  3,  3,  3,  3,  3,  3,  6,\n",
       "        3,  3,  3,  3,  3,  3,  3,  3,  3,  6,  3,  3,  3,  3,  3,  3,  3,\n",
       "        3,  3,  6,  3,  3,  3,  3,  3,  3,  3,  3,  3,  6,  3,  3,  3,  3,\n",
       "        3,  3,  3,  3,  3,  6,  3,  3,  3,  3,  3,  3,  3,  3,  3,  6,  3,\n",
       "        3,  9,  3,  3,  3,  3,  3, 18,  3,  9,  3, 12,  3,  3,  3,  3,  3,\n",
       "        3,  3,  6,  3,  3,  3,  3,  3,  3,  3,  3,  3,  6,  3,  3,  3,  3,\n",
       "        3,  3,  3,  3,  3,  3])"
      ]
     },
     "execution_count": 9,
     "metadata": {},
     "output_type": "execute_result"
    }
   ],
   "source": [
    "# check groups\n",
    "# each group should have 3 exposures\n",
    "_, _, counts = np.unique(data['groups'].to_numpy(), return_index=True, return_counts=True)\n",
    "counts"
   ]
  },
  {
   "cell_type": "code",
   "execution_count": 10,
   "id": "37e02264",
   "metadata": {
    "ExecuteTime": {
     "end_time": "2023-03-17T04:09:20.314380Z",
     "start_time": "2023-03-17T04:09:20.312363Z"
    }
   },
   "outputs": [],
   "source": [
    "# mask = (counts==3)|(counts==4)\n",
    "# np.unique(snakes, return_counts=True)"
   ]
  },
  {
   "cell_type": "code",
   "execution_count": 11,
   "id": "3edb2138",
   "metadata": {
    "ExecuteTime": {
     "end_time": "2023-03-17T04:09:20.354287Z",
     "start_time": "2023-03-17T04:09:20.316097Z"
    }
   },
   "outputs": [
    {
     "data": {
      "text/plain": [
       "array([ 0,  1,  2,  3,  4,  5,  6,  7,  8,  9, 10, 11, 12, 13, 14, 15, 16,\n",
       "       17, 18, 19, 20, 21, 22, 23, 24, 25, 26, 27, 28, 29, 30, 31, 32, 33,\n",
       "       34, 35, 36, 37, 38, 39, 40, 41, 42, 43, 44, 45])"
      ]
     },
     "execution_count": 11,
     "metadata": {},
     "output_type": "execute_result"
    }
   ],
   "source": [
    "res_ra, res_dec, base_ra, base_dec = get_residual(data)\n",
    "\n",
    "snakes = data['snakes'].to_numpy()\n",
    "keys = [np.where(snakes==gi)[0] for gi in np.unique(snakes)]\n",
    "keys[0]"
   ]
  },
  {
   "cell_type": "code",
   "execution_count": 12,
   "id": "8cc3decb",
   "metadata": {
    "ExecuteTime": {
     "end_time": "2023-03-17T04:09:20.607907Z",
     "start_time": "2023-03-17T04:09:20.355984Z"
    }
   },
   "outputs": [
    {
     "data": {
      "image/png": "[encoded data removed]",
      "text/plain": [
       "<Figure size 640x480 with 1 Axes>"
      ]
     },
     "metadata": {},
     "output_type": "display_data"
    }
   ],
   "source": [
    "snake_id = 1\n",
    "ix = keys[snake_id]\n",
    "data['Calculated Ra wide'].iloc[ix].plot(color='lightgray')\n",
    "plt.scatter(data.iloc[ix].index, data['Calculated Ra wide'].iloc[ix], \n",
    "            c=data['groups'].iloc[ix], cmap='tab20_r')\n",
    "\n",
    "plt.title('Settles - Snake %i'%snake_id, fontsize=16)\n",
    "plt.ylabel('Ra', fontsize=16)\n",
    "plt.xlabel('Seq Number', fontsize=16)\n",
    "plt.savefig('pointing_ra.png',dpi=100)"
   ]
  },
  {
   "cell_type": "markdown",
   "id": "385daeca",
   "metadata": {},
   "source": [
    "For each group (setlle point), I subtract the median (RA,DEC). The residuals are basically the telescope jitter."
   ]
  },
  {
   "cell_type": "code",
   "execution_count": 13,
   "id": "5177dc52",
   "metadata": {
    "ExecuteTime": {
     "end_time": "2023-03-17T04:09:20.612566Z",
     "start_time": "2023-03-17T04:09:20.609404Z"
    }
   },
   "outputs": [],
   "source": [
    "base_alt = data['Calculated Alt wide'].to_numpy()\n",
    "base_az = data['Calculated Az wide'].to_numpy()\n",
    "snakes = data['snakes'].to_numpy()\n",
    "\n",
    "# base_az = np.where(base_az>180, 180-base_az, base_az)\n",
    "# base_ra = np.where(base_ra>180, 180-base_ra, base_ra)"
   ]
  },
  {
   "cell_type": "code",
   "execution_count": 14,
   "id": "94a9c61d",
   "metadata": {
    "ExecuteTime": {
     "end_time": "2023-03-17T04:09:21.027722Z",
     "start_time": "2023-03-17T04:09:20.614521Z"
    }
   },
   "outputs": [
    {
     "data": {
      "image/png": "[encoded data removed]",
      "text/plain": [
       "<Figure size 640x480 with 2 Axes>"
      ]
     },
     "metadata": {},
     "output_type": "display_data"
    }
   ],
   "source": [
    "plt.scatter(res_ra[ix], res_dec[ix], c=base_alt[ix],cmap='tab20c_r')\n",
    "plt.axvline(0,color='k',ls='--')\n",
    "plt.axhline(0,color='k',ls='--')\n",
    "plt.title('Snake %i: 2023-03-09'%snake_id,fontsize=14)\n",
    "plt.xlabel(r'$\\delta Ra$ [arcsec]',fontsize=16)\n",
    "plt.ylabel(r'$\\delta Dec$ [arcsec]',fontsize=16)\n",
    "plt.colorbar(label='Alt [deg]')\n",
    "plt.savefig('residual_radec.png',dpi=100)"
   ]
  },
  {
   "cell_type": "markdown",
   "id": "a3e01d0b",
   "metadata": {},
   "source": [
    "We see a typical jitter amplitude of $0.5$ arcsec with some outliers."
   ]
  },
  {
   "cell_type": "code",
   "execution_count": 15,
   "id": "665807f0",
   "metadata": {
    "ExecuteTime": {
     "end_time": "2023-03-17T04:09:21.032685Z",
     "start_time": "2023-03-17T04:09:21.029285Z"
    }
   },
   "outputs": [],
   "source": [
    "def get_sigma_68(x):\n",
    "    p16, p84 = np.nanpercentile(x, [16,84])\n",
    "    return (p84-p16)/2.\n",
    "\n",
    "def get_jitter(ra,dec):\n",
    "    jra = get_sigma_68(ra)\n",
    "    jdec = get_sigma_68(dec)\n",
    "    return np.array([jra, jdec, np.hypot(jra,jdec)])"
   ]
  },
  {
   "cell_type": "code",
   "execution_count": 16,
   "id": "5600cfca",
   "metadata": {
    "ExecuteTime": {
     "end_time": "2023-03-17T04:09:21.044952Z",
     "start_time": "2023-03-17T04:09:21.034196Z"
    }
   },
   "outputs": [
    {
     "name": "stderr",
     "output_type": "stream",
     "text": [
      "/Users/jesteves/opt/anaconda3/lib/python3.9/site-packages/numpy/lib/nanfunctions.py:1374: RuntimeWarning: All-NaN slice encountered\n",
      "  r, k = function_base._ureduce(\n"
     ]
    }
   ],
   "source": [
    "# Now I will compute the standard deviation (\\sigma_{68}) for each snake\n",
    "\n",
    "stds = []\n",
    "for ix in keys:\n",
    "    stds.append(get_jitter(res_ra[ix],res_dec[ix]))\n",
    "stds = np.array(stds)"
   ]
  },
  {
   "cell_type": "code",
   "execution_count": 17,
   "id": "0ba8955a",
   "metadata": {
    "ExecuteTime": {
     "end_time": "2023-03-17T04:09:21.051161Z",
     "start_time": "2023-03-17T04:09:21.046580Z"
    }
   },
   "outputs": [
    {
     "data": {
      "text/plain": [
       "array([46, 33, 33, 33, 33, 33, 33, 33, 33, 33, 12,  3, 21,  3,  3,  3,  3,\n",
       "        9,  3,  9,  3,  3, 27, 33, 33])"
      ]
     },
     "execution_count": 17,
     "metadata": {},
     "output_type": "execute_result"
    }
   ],
   "source": [
    "_, sids, counts = np.unique(data['snakes'].to_numpy(), return_index=True, return_counts=True)\n",
    "counts"
   ]
  },
  {
   "cell_type": "code",
   "execution_count": null,
   "id": "db2453a8",
   "metadata": {
    "ExecuteTime": {
     "start_time": "2023-03-17T04:09:16.873Z"
    }
   },
   "outputs": [],
   "source": [
    "jra = get_sigma_68(res_ra)\n",
    "jdec = get_sigma_68(res_dec)\n",
    "\n",
    "_ = plt.hist(res_ra, bins=31, color='firebrick', histtype='step', lw=3, label='$\\sigma$(Ra) = %.2f arcsec'%jra)\n",
    "_ = plt.hist(res_dec, bins=31, color='k', histtype='step', lw=3, label='$\\sigma$(Dec) = %.2f arcsec'%jdec)\n",
    "plt.yscale('log')\n",
    "plt.legend(loc=2)\n",
    "plt.xlabel('Offset [arcsec]', fontsize=14)\n",
    "plt.suptitle('Repeatability - LVV-T2732: 2023-03-09',fontsize=14)\n",
    "plt.tight_layout()\n",
    "plt.savefig('jitter_histogram.png',dpi=100)"
   ]
  },
  {
   "cell_type": "code",
   "execution_count": null,
   "id": "c243773f",
   "metadata": {
    "ExecuteTime": {
     "start_time": "2023-03-17T04:09:16.874Z"
    }
   },
   "outputs": [],
   "source": [
    "fig, (ax1, ax2) = plt.subplots(1,2, figsize=(10,4), sharey='all')\n",
    "fig.subplots_adjust(wspace=0.)\n",
    "ax1.scatter(base_ra[sids], stds[:,0], c='firebrick', s=75, label=r'$Ra$')\n",
    "ax2.scatter(base_dec[sids], stds[:,0], c='firebrick', s=75)\n",
    "\n",
    "ax1.scatter(base_ra[sids], stds[:,1], c='k', marker='x', s=75, label=r'$Dec$')\n",
    "ax2.scatter(base_dec[sids], stds[:,1], c='k', marker='x', s=75)\n",
    "\n",
    "ax1.legend(loc=2)\n",
    "# ax1.errorbar(base_ra[sids], stds[:,1], fmt='o', yerr=coefs[:,2], color='lightgray')\n",
    "# ax2.errorbar(base_dec[sids], stds[:,1], fmt='o', yerr=coefs[:,2], color='lightgray')\n",
    "\n",
    "ax1.set_ylabel('$\\sigma_{68}$',fontsize=16)\n",
    "ax1.set_xlabel('Baseline: Ra',fontsize=16)\n",
    "ax2.set_xlabel('Baseline: Dec',fontsize=16)\n",
    "fig.suptitle('Repeatability - LVV-T2732: 2023-03-09',fontsize=14)\n",
    "fig.tight_layout()\n",
    "plt.savefig('jitter_radec.png',dpi=100)"
   ]
  },
  {
   "cell_type": "code",
   "execution_count": null,
   "id": "416dc3e1",
   "metadata": {
    "ExecuteTime": {
     "start_time": "2023-03-17T04:09:16.875Z"
    }
   },
   "outputs": [],
   "source": [
    "fig, (ax1, ax2) = plt.subplots(1,2, figsize=(10,4), sharey='all')\n",
    "fig.subplots_adjust(wspace=0.)\n",
    "ax2.axhline(jra, c='firebrick', ls='--')\n",
    "ax2.axhline(jdec, c='k', ls='--')\n",
    "\n",
    "ax1.axhline(jra, c='firebrick', ls='--',label='All')\n",
    "ax1.axhline(jdec, c='k', ls='--')\n",
    "\n",
    "ax1.scatter(base_az[sids], stds[:,0], c='firebrick', s=75, label=r'$Ra$')\n",
    "ax2.scatter(base_alt[sids], stds[:,0], c='firebrick', s=75)\n",
    "\n",
    "ax1.scatter(base_az[sids], stds[:,1], c='k', marker='x', s=75, label=r'$Dec$')\n",
    "ax2.scatter(base_alt[sids], stds[:,1], c='k', marker='x', s=75)\n",
    "\n",
    "ax1.legend(loc=2)\n",
    "# ax2.legend(loc=1)\n",
    "\n",
    "ax1.set_ylabel('$\\sigma_{68}$',fontsize=16)\n",
    "ax1.set_xlabel('Baseline: Az',fontsize=16)\n",
    "ax2.set_xlabel('Baseline: Alt',fontsize=16)\n",
    "fig.suptitle('Repeatability - LVV-T2732: 2023-03-09',fontsize=14)\n",
    "fig.tight_layout()\n",
    "plt.savefig('jitter_azalt.png',dpi=100)"
   ]
  },
  {
   "cell_type": "code",
   "execution_count": null,
   "id": "bd29dd13",
   "metadata": {},
   "outputs": [],
   "source": []
  }
 ],
 "metadata": {
  "kernelspec": {
   "display_name": "Python 3 (ipykernel)",
   "language": "python",
   "name": "python3"
  },
  "language_info": {
   "codemirror_mode": {
    "name": "ipython",
    "version": 3
   },
   "file_extension": ".py",
   "mimetype": "text/x-python",
   "name": "python",
   "nbconvert_exporter": "python",
   "pygments_lexer": "ipython3",
   "version": "3.9.13"
  },
  "latex_envs": {
   "LaTeX_envs_menu_present": true,
   "autoclose": true,
   "autocomplete": true,
   "bibliofile": "biblio.bib",
   "cite_by": "apalike",
   "current_citInitial": 1,
   "eqLabelWithNumbers": true,
   "eqNumInitial": 1,
   "hotkeys": {
    "equation": "Ctrl-E",
    "itemize": "Ctrl-I"
   },
   "labels_anchors": false,
   "latex_user_defs": false,
   "report_style_numbering": true,
   "user_envs_cfg": false
  },
  "toc": {
   "base_numbering": 1,
   "nav_menu": {},
   "number_sections": true,
   "sideBar": true,
   "skip_h1_title": true,
   "title_cell": "Table of Contents",
   "title_sidebar": "Contents",
   "toc_cell": false,
   "toc_position": {
    "height": "calc(100% - 180px)",
    "left": "10px",
    "top": "150px",
    "width": "165px"
   },
   "toc_section_display": true,
   "toc_window_display": true
  }
 },
 "nbformat": 4,
 "nbformat_minor": 5
}
